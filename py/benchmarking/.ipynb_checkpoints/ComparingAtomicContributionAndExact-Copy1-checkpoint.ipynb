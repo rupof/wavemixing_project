{
 "cells": [
  {
   "cell_type": "code",
   "execution_count": 42,
   "id": "c9230a05",
   "metadata": {},
   "outputs": [
    {
     "name": "stdout",
     "output_type": "stream",
     "text": [
      "/home/roberto/Desktop/romain_ic/wavemixing_project/py\n"
     ]
    }
   ],
   "source": [
    "cd /home/roberto/Desktop/romain_ic/wavemixing_project/py"
   ]
  },
  {
   "cell_type": "code",
   "execution_count": 43,
   "id": "669d81c5",
   "metadata": {},
   "outputs": [],
   "source": [
    "import os\n",
    "import sys\n",
    "\n",
    "sys.path.insert(0, os.path.abspath(\"../post_processing/local_calculations\"))\n",
    "sys.path.insert(0, os.path.abspath(\"../plots\"))\n",
    "sys.path.insert(0, os.path.abspath(\"../hamiltonean_builder\"))\n",
    "sys.path.insert(0, os.path.abspath(\"../correlation\"))\n",
    "sys.path.insert(0, os.path.abspath(\"../single_and_double_excitations_subspace\"))"
   ]
  },
  {
   "cell_type": "code",
   "execution_count": 44,
   "id": "6f8e8c4d",
   "metadata": {},
   "outputs": [],
   "source": [
    "from qutip import *\n",
    "import matplotlib.pyplot as plt\n",
    "\n",
    "from hamiltonean_builder.hamiltonean_builder import *\n",
    "from helper_functions.operators import *\n",
    "from plots.multi_plots import *\n",
    "from correlation.second_order_correlation  import *\n",
    "from single_and_double_excitations_subspace.parameter_generator_for_ODE import *\n",
    "from single_and_double_excitations_subspace.atomic_contributions_ODE import *\n",
    "from post_processing.local_calculations import *\n"
   ]
  },
  {
   "cell_type": "code",
   "execution_count": 48,
   "id": "12d26320",
   "metadata": {},
   "outputs": [],
   "source": [
    "def column(matrix, i, triD = False, j = 0):\n",
    "    if triD != False:\n",
    "        z_column = np.zeros(len(matrix))\n",
    "        for z in range(len(matrix)):\n",
    "            z_column[z] = matrix[z][i][j]\n",
    "        return z_column  \n",
    "    \n",
    "    return [row[i] for row in matrix]"
   ]
  },
  {
   "cell_type": "code",
   "execution_count": 49,
   "id": "65d94ff1",
   "metadata": {},
   "outputs": [],
   "source": [
    "position_path = \"./benchmarking/N6_Omega0.05_Delta0.0_b0_0.1_S_Int_On_Benchmarking_direct//positions/positions_N6_Omega0.05_Delta0.0_run0.dat\"\n",
    "rho_path = \"./benchmarking/N6_Omega0.05_Delta0.0_b0_0.1_S_Int_On_Benchmarking_direct//N6_Omega0.05_Delta0.0_run0.dat\"\n",
    "\n",
    "position_1_path = \"./benchmarking/N6_Omega0.05_Delta0.0_b0_0.1_S_Int_On_Benchmarking_direct//positions/positions_N6_Omega0.05_Delta0.0_run1.dat\"\n",
    "rho_1_path = \"./benchmarking/N6_Omega0.05_Delta0.0_b0_0.1_S_Int_On_Benchmarking_direct//N6_Omega0.05_Delta0.0_run1.dat\""
   ]
  },
  {
   "cell_type": "code",
   "execution_count": 50,
   "id": "af09bcf5",
   "metadata": {},
   "outputs": [],
   "source": [
    "r =  get_positions_from_a_file(position_path)\n",
    "r1 =  get_positions_from_a_file(position_1_path)\n",
    "\n",
    "Hdims = [[2 for i in range(len(r))], [2 for i in range(len(r))]]\n",
    "\n",
    "\n",
    "rho = Qobj(file_data_read(rho_path), dims=Hdims)\n",
    "rho1 = Qobj(file_data_read(rho_1_path), dims=Hdims)"
   ]
  },
  {
   "cell_type": "code",
   "execution_count": 51,
   "id": "b39f8467",
   "metadata": {},
   "outputs": [],
   "source": [
    "N_atoms = len(r)\n",
    "sigmam_i_expectations = np.zeros(len(r), dtype = \"object\")\n",
    "sigmam_ij_expectations = np.zeros((len(r),len(r)), dtype = \"object\")\n",
    "\n",
    "for i in range(len(r)):\n",
    "    sigmam_i_expectations[i] = expect(rho, sigmam_i(N_atoms, i))\n",
    "    for j in range(len(r)):\n",
    "        sigmam_ij_expectations[i][j] = expect(rho, sigmam_i(N_atoms, i)*sigmam_i(N_atoms, j))\n",
    "        \n",
    "        "
   ]
  },
  {
   "cell_type": "markdown",
   "id": "0454911a",
   "metadata": {},
   "source": [
    "### Subspace solutions"
   ]
  },
  {
   "cell_type": "code",
   "execution_count": 8,
   "id": "96c3f371",
   "metadata": {},
   "outputs": [],
   "source": [
    "b0 = 0.1\n",
    "\n",
    "\n",
    "\n",
    "tf = 20\n",
    "Omega = 0.05\n",
    "Delta = 0\n",
    "t_span, dt = np.linspace(0,tf,100, retstep = True) "
   ]
  },
  {
   "cell_type": "code",
   "execution_count": 9,
   "id": "6c9f4c0d",
   "metadata": {},
   "outputs": [],
   "source": [
    "Delta1D, Omega1D, Gamma2D, Delta2D  = GetAllODEParametersGiven_r(Omega, Delta, r, scalar = True)"
   ]
  },
  {
   "cell_type": "code",
   "execution_count": 10,
   "id": "45b9f6c5",
   "metadata": {
    "scrolled": false
   },
   "outputs": [],
   "source": [
    "Beta1D_time_list, Beta2D_time_list, t_span, r = SolveForBeta1DandBeta2D(N_atoms, kd = None, b0 = None, exc_radius = None, Delta = Delta, Omega = Omega, wave_mixing = True, scalar = True, interaction = True, r = r, t_span = t_span  );"
   ]
  },
  {
   "cell_type": "markdown",
   "id": "4a188db0",
   "metadata": {},
   "source": [
    "### Exact solutions Vector"
   ]
  },
  {
   "cell_type": "code",
   "execution_count": 34,
   "id": "775414e7",
   "metadata": {},
   "outputs": [
    {
     "name": "stdout",
     "output_type": "stream",
     "text": [
      "b0 system 0.1\n",
      "kd system None\n"
     ]
    }
   ],
   "source": [
    "V_H, V_c_ops, GTensor,M, GammaSR, DeltaSR, Omega, SR_state, r = system_spec_N(1, N_atoms, kd = None, b0 = b0, exc_radius = None , Delta = Delta, Omega = Omega, wave_mixing = True, scalar = False, r = r)\n",
    "rho_ss_V, total_time_ss = get_steadystate(H, 0, r,  taulist, c_ops, N_atoms, faseglobal = 1, rho_ss = None, rho_ss_parameter = \"direct\", tmax = None)"
   ]
  },
  {
   "cell_type": "code",
   "execution_count": 27,
   "id": "403dadc6",
   "metadata": {},
   "outputs": [],
   "source": [
    "S_sigmam_i_expectations = np.zeros(len(r), dtype = \"object\")\n",
    "S_sigmam_ij_expectations = np.zeros((len(r),len(r)), dtype = \"object\")\n",
    "\n",
    "V_sigmam_i_expectations = np.zeros(len(r), dtype = \"object\")\n",
    "V_sigmam_ij_expectations = np.zeros((len(r),len(r)), dtype = \"object\")\n",
    "\n",
    "\n",
    "for i in range(len(r)):\n",
    "    S_sigmam_i_expectations[i] = expect(rho, sigmam_i(N_atoms, i))\n",
    "    V_sigmam_i_expectations[i] = expect(rho_ss_V, sigmam_i(N_atoms, i))\n",
    "\n",
    "    for j in range(len(r)):\n",
    "        S_sigmam_ij_expectations[i][j] = expect(rho, sigmam_i(N_atoms, i)*sigmam_i(N_atoms, j))\n",
    "        V_sigmam_ij_expectations[i][j] = expect(rho_ss_V, sigmam_i(N_atoms, i)*sigmam_i(N_atoms, j))\n",
    "\n",
    "        "
   ]
  },
  {
   "cell_type": "markdown",
   "id": "b33a61e4",
   "metadata": {},
   "source": [
    "# Single Excitation $\\beta_j = \\langle \\sigma_j \\rangle $"
   ]
  },
  {
   "cell_type": "code",
   "execution_count": 29,
   "id": "e11285fe",
   "metadata": {},
   "outputs": [
    {
     "name": "stderr",
     "output_type": "stream",
     "text": [
      "/home/roberto/miniconda3/lib/python3.9/site-packages/matplotlib/cbook/__init__.py:1333: ComplexWarning: Casting complex values to real discards the imaginary part\n",
      "  return np.asarray(x, float)\n",
      "/home/roberto/miniconda3/lib/python3.9/site-packages/matplotlib/collections.py:206: ComplexWarning: Casting complex values to real discards the imaginary part\n",
      "  offsets = np.asanyarray(offsets, float)\n",
      "/home/roberto/miniconda3/lib/python3.9/site-packages/matplotlib/cbook/__init__.py:1333: ComplexWarning: Casting complex values to real discards the imaginary part\n",
      "  return np.asarray(x, float)\n",
      "/home/roberto/miniconda3/lib/python3.9/site-packages/matplotlib/collections.py:206: ComplexWarning: Casting complex values to real discards the imaginary part\n",
      "  offsets = np.asanyarray(offsets, float)\n",
      "/home/roberto/miniconda3/lib/python3.9/site-packages/matplotlib/cbook/__init__.py:1333: ComplexWarning: Casting complex values to real discards the imaginary part\n",
      "  return np.asarray(x, float)\n",
      "/home/roberto/miniconda3/lib/python3.9/site-packages/matplotlib/collections.py:206: ComplexWarning: Casting complex values to real discards the imaginary part\n",
      "  offsets = np.asanyarray(offsets, float)\n",
      "/home/roberto/miniconda3/lib/python3.9/site-packages/matplotlib/cbook/__init__.py:1333: ComplexWarning: Casting complex values to real discards the imaginary part\n",
      "  return np.asarray(x, float)\n",
      "/home/roberto/miniconda3/lib/python3.9/site-packages/matplotlib/collections.py:206: ComplexWarning: Casting complex values to real discards the imaginary part\n",
      "  offsets = np.asanyarray(offsets, float)\n",
      "/home/roberto/miniconda3/lib/python3.9/site-packages/matplotlib/cbook/__init__.py:1333: ComplexWarning: Casting complex values to real discards the imaginary part\n",
      "  return np.asarray(x, float)\n",
      "/home/roberto/miniconda3/lib/python3.9/site-packages/matplotlib/collections.py:206: ComplexWarning: Casting complex values to real discards the imaginary part\n",
      "  offsets = np.asanyarray(offsets, float)\n",
      "/home/roberto/miniconda3/lib/python3.9/site-packages/matplotlib/cbook/__init__.py:1333: ComplexWarning: Casting complex values to real discards the imaginary part\n",
      "  return np.asarray(x, float)\n",
      "/home/roberto/miniconda3/lib/python3.9/site-packages/matplotlib/collections.py:206: ComplexWarning: Casting complex values to real discards the imaginary part\n",
      "  offsets = np.asanyarray(offsets, float)\n"
     ]
    },
    {
     "data": {
      "image/png": "[encoded data removed]",
      "text/plain": [
       "<Figure size 432x288 with 1 Axes>"
      ]
     },
     "metadata": {
      "needs_background": "light"
     },
     "output_type": "display_data"
    }
   ],
   "source": [
    "for i in range(len(r)):\n",
    "    plt.plot(t_span, column(Beta1D_time_list, i))\n",
    "    plt.scatter(t_span[-1], S_sigmam_i_expectations[i])\n",
    "    #plt.scatter(t_span[-1], V_sigmam_i_expectations[i])"
   ]
  },
  {
   "cell_type": "markdown",
   "id": "7a7c9349",
   "metadata": {},
   "source": [
    "# Double Excitation $\\beta_{ij} = \\langle \\sigma_i \\sigma_j \\rangle $"
   ]
  },
  {
   "cell_type": "code",
   "execution_count": 31,
   "id": "79deac3b",
   "metadata": {},
   "outputs": [
    {
     "name": "stderr",
     "output_type": "stream",
     "text": [
      "<ipython-input-4-3e91c55e5e6d>:5: ComplexWarning: Casting complex values to real discards the imaginary part\n",
      "  z_column[z] = matrix[z][i][j]\n",
      "<ipython-input-4-3e91c55e5e6d>:5: ComplexWarning: Casting complex values to real discards the imaginary part\n",
      "  z_column[z] = matrix[z][i][j]\n",
      "/home/roberto/miniconda3/lib/python3.9/site-packages/matplotlib/collections.py:206: ComplexWarning: Casting complex values to real discards the imaginary part\n",
      "  offsets = np.asanyarray(offsets, float)\n",
      "<ipython-input-4-3e91c55e5e6d>:5: ComplexWarning: Casting complex values to real discards the imaginary part\n",
      "  z_column[z] = matrix[z][i][j]\n",
      "/home/roberto/miniconda3/lib/python3.9/site-packages/matplotlib/collections.py:206: ComplexWarning: Casting complex values to real discards the imaginary part\n",
      "  offsets = np.asanyarray(offsets, float)\n",
      "<ipython-input-4-3e91c55e5e6d>:5: ComplexWarning: Casting complex values to real discards the imaginary part\n",
      "  z_column[z] = matrix[z][i][j]\n",
      "/home/roberto/miniconda3/lib/python3.9/site-packages/matplotlib/collections.py:206: ComplexWarning: Casting complex values to real discards the imaginary part\n",
      "  offsets = np.asanyarray(offsets, float)\n",
      "<ipython-input-4-3e91c55e5e6d>:5: ComplexWarning: Casting complex values to real discards the imaginary part\n",
      "  z_column[z] = matrix[z][i][j]\n",
      "/home/roberto/miniconda3/lib/python3.9/site-packages/matplotlib/collections.py:206: ComplexWarning: Casting complex values to real discards the imaginary part\n",
      "  offsets = np.asanyarray(offsets, float)\n",
      "<ipython-input-4-3e91c55e5e6d>:5: ComplexWarning: Casting complex values to real discards the imaginary part\n",
      "  z_column[z] = matrix[z][i][j]\n",
      "/home/roberto/miniconda3/lib/python3.9/site-packages/matplotlib/collections.py:206: ComplexWarning: Casting complex values to real discards the imaginary part\n",
      "  offsets = np.asanyarray(offsets, float)\n",
      "<ipython-input-4-3e91c55e5e6d>:5: ComplexWarning: Casting complex values to real discards the imaginary part\n",
      "  z_column[z] = matrix[z][i][j]\n",
      "/home/roberto/miniconda3/lib/python3.9/site-packages/matplotlib/collections.py:206: ComplexWarning: Casting complex values to real discards the imaginary part\n",
      "  offsets = np.asanyarray(offsets, float)\n",
      "<ipython-input-4-3e91c55e5e6d>:5: ComplexWarning: Casting complex values to real discards the imaginary part\n",
      "  z_column[z] = matrix[z][i][j]\n",
      "<ipython-input-4-3e91c55e5e6d>:5: ComplexWarning: Casting complex values to real discards the imaginary part\n",
      "  z_column[z] = matrix[z][i][j]\n",
      "/home/roberto/miniconda3/lib/python3.9/site-packages/matplotlib/collections.py:206: ComplexWarning: Casting complex values to real discards the imaginary part\n",
      "  offsets = np.asanyarray(offsets, float)\n",
      "<ipython-input-4-3e91c55e5e6d>:5: ComplexWarning: Casting complex values to real discards the imaginary part\n",
      "  z_column[z] = matrix[z][i][j]\n",
      "/home/roberto/miniconda3/lib/python3.9/site-packages/matplotlib/collections.py:206: ComplexWarning: Casting complex values to real discards the imaginary part\n",
      "  offsets = np.asanyarray(offsets, float)\n",
      "<ipython-input-4-3e91c55e5e6d>:5: ComplexWarning: Casting complex values to real discards the imaginary part\n",
      "  z_column[z] = matrix[z][i][j]\n",
      "/home/roberto/miniconda3/lib/python3.9/site-packages/matplotlib/collections.py:206: ComplexWarning: Casting complex values to real discards the imaginary part\n",
      "  offsets = np.asanyarray(offsets, float)\n",
      "<ipython-input-4-3e91c55e5e6d>:5: ComplexWarning: Casting complex values to real discards the imaginary part\n",
      "  z_column[z] = matrix[z][i][j]\n",
      "/home/roberto/miniconda3/lib/python3.9/site-packages/matplotlib/collections.py:206: ComplexWarning: Casting complex values to real discards the imaginary part\n",
      "  offsets = np.asanyarray(offsets, float)\n",
      "<ipython-input-4-3e91c55e5e6d>:5: ComplexWarning: Casting complex values to real discards the imaginary part\n",
      "  z_column[z] = matrix[z][i][j]\n",
      "/home/roberto/miniconda3/lib/python3.9/site-packages/matplotlib/collections.py:206: ComplexWarning: Casting complex values to real discards the imaginary part\n",
      "  offsets = np.asanyarray(offsets, float)\n",
      "<ipython-input-4-3e91c55e5e6d>:5: ComplexWarning: Casting complex values to real discards the imaginary part\n",
      "  z_column[z] = matrix[z][i][j]\n",
      "/home/roberto/miniconda3/lib/python3.9/site-packages/matplotlib/collections.py:206: ComplexWarning: Casting complex values to real discards the imaginary part\n",
      "  offsets = np.asanyarray(offsets, float)\n",
      "<ipython-input-4-3e91c55e5e6d>:5: ComplexWarning: Casting complex values to real discards the imaginary part\n",
      "  z_column[z] = matrix[z][i][j]\n",
      "<ipython-input-4-3e91c55e5e6d>:5: ComplexWarning: Casting complex values to real discards the imaginary part\n",
      "  z_column[z] = matrix[z][i][j]\n",
      "/home/roberto/miniconda3/lib/python3.9/site-packages/matplotlib/collections.py:206: ComplexWarning: Casting complex values to real discards the imaginary part\n",
      "  offsets = np.asanyarray(offsets, float)\n",
      "<ipython-input-4-3e91c55e5e6d>:5: ComplexWarning: Casting complex values to real discards the imaginary part\n",
      "  z_column[z] = matrix[z][i][j]\n",
      "/home/roberto/miniconda3/lib/python3.9/site-packages/matplotlib/collections.py:206: ComplexWarning: Casting complex values to real discards the imaginary part\n",
      "  offsets = np.asanyarray(offsets, float)\n",
      "<ipython-input-4-3e91c55e5e6d>:5: ComplexWarning: Casting complex values to real discards the imaginary part\n",
      "  z_column[z] = matrix[z][i][j]\n",
      "/home/roberto/miniconda3/lib/python3.9/site-packages/matplotlib/collections.py:206: ComplexWarning: Casting complex values to real discards the imaginary part\n",
      "  offsets = np.asanyarray(offsets, float)\n",
      "<ipython-input-4-3e91c55e5e6d>:5: ComplexWarning: Casting complex values to real discards the imaginary part\n",
      "  z_column[z] = matrix[z][i][j]\n",
      "/home/roberto/miniconda3/lib/python3.9/site-packages/matplotlib/collections.py:206: ComplexWarning: Casting complex values to real discards the imaginary part\n",
      "  offsets = np.asanyarray(offsets, float)\n",
      "<ipython-input-4-3e91c55e5e6d>:5: ComplexWarning: Casting complex values to real discards the imaginary part\n",
      "  z_column[z] = matrix[z][i][j]\n",
      "/home/roberto/miniconda3/lib/python3.9/site-packages/matplotlib/collections.py:206: ComplexWarning: Casting complex values to real discards the imaginary part\n",
      "  offsets = np.asanyarray(offsets, float)\n",
      "<ipython-input-4-3e91c55e5e6d>:5: ComplexWarning: Casting complex values to real discards the imaginary part\n",
      "  z_column[z] = matrix[z][i][j]\n",
      "/home/roberto/miniconda3/lib/python3.9/site-packages/matplotlib/collections.py:206: ComplexWarning: Casting complex values to real discards the imaginary part\n",
      "  offsets = np.asanyarray(offsets, float)\n",
      "<ipython-input-4-3e91c55e5e6d>:5: ComplexWarning: Casting complex values to real discards the imaginary part\n",
      "  z_column[z] = matrix[z][i][j]\n",
      "<ipython-input-4-3e91c55e5e6d>:5: ComplexWarning: Casting complex values to real discards the imaginary part\n",
      "  z_column[z] = matrix[z][i][j]\n",
      "/home/roberto/miniconda3/lib/python3.9/site-packages/matplotlib/collections.py:206: ComplexWarning: Casting complex values to real discards the imaginary part\n",
      "  offsets = np.asanyarray(offsets, float)\n",
      "<ipython-input-4-3e91c55e5e6d>:5: ComplexWarning: Casting complex values to real discards the imaginary part\n",
      "  z_column[z] = matrix[z][i][j]\n",
      "/home/roberto/miniconda3/lib/python3.9/site-packages/matplotlib/collections.py:206: ComplexWarning: Casting complex values to real discards the imaginary part\n",
      "  offsets = np.asanyarray(offsets, float)\n",
      "<ipython-input-4-3e91c55e5e6d>:5: ComplexWarning: Casting complex values to real discards the imaginary part\n",
      "  z_column[z] = matrix[z][i][j]\n",
      "/home/roberto/miniconda3/lib/python3.9/site-packages/matplotlib/collections.py:206: ComplexWarning: Casting complex values to real discards the imaginary part\n",
      "  offsets = np.asanyarray(offsets, float)\n",
      "<ipython-input-4-3e91c55e5e6d>:5: ComplexWarning: Casting complex values to real discards the imaginary part\n",
      "  z_column[z] = matrix[z][i][j]\n",
      "/home/roberto/miniconda3/lib/python3.9/site-packages/matplotlib/collections.py:206: ComplexWarning: Casting complex values to real discards the imaginary part\n",
      "  offsets = np.asanyarray(offsets, float)\n",
      "<ipython-input-4-3e91c55e5e6d>:5: ComplexWarning: Casting complex values to real discards the imaginary part\n",
      "  z_column[z] = matrix[z][i][j]\n",
      "/home/roberto/miniconda3/lib/python3.9/site-packages/matplotlib/collections.py:206: ComplexWarning: Casting complex values to real discards the imaginary part\n",
      "  offsets = np.asanyarray(offsets, float)\n",
      "<ipython-input-4-3e91c55e5e6d>:5: ComplexWarning: Casting complex values to real discards the imaginary part\n",
      "  z_column[z] = matrix[z][i][j]\n",
      "/home/roberto/miniconda3/lib/python3.9/site-packages/matplotlib/collections.py:206: ComplexWarning: Casting complex values to real discards the imaginary part\n",
      "  offsets = np.asanyarray(offsets, float)\n",
      "<ipython-input-4-3e91c55e5e6d>:5: ComplexWarning: Casting complex values to real discards the imaginary part\n",
      "  z_column[z] = matrix[z][i][j]\n",
      "<ipython-input-4-3e91c55e5e6d>:5: ComplexWarning: Casting complex values to real discards the imaginary part\n",
      "  z_column[z] = matrix[z][i][j]\n",
      "/home/roberto/miniconda3/lib/python3.9/site-packages/matplotlib/collections.py:206: ComplexWarning: Casting complex values to real discards the imaginary part\n",
      "  offsets = np.asanyarray(offsets, float)\n",
      "<ipython-input-4-3e91c55e5e6d>:5: ComplexWarning: Casting complex values to real discards the imaginary part\n",
      "  z_column[z] = matrix[z][i][j]\n",
      "/home/roberto/miniconda3/lib/python3.9/site-packages/matplotlib/collections.py:206: ComplexWarning: Casting complex values to real discards the imaginary part\n",
      "  offsets = np.asanyarray(offsets, float)\n",
      "<ipython-input-4-3e91c55e5e6d>:5: ComplexWarning: Casting complex values to real discards the imaginary part\n",
      "  z_column[z] = matrix[z][i][j]\n",
      "/home/roberto/miniconda3/lib/python3.9/site-packages/matplotlib/collections.py:206: ComplexWarning: Casting complex values to real discards the imaginary part\n",
      "  offsets = np.asanyarray(offsets, float)\n",
      "<ipython-input-4-3e91c55e5e6d>:5: ComplexWarning: Casting complex values to real discards the imaginary part\n",
      "  z_column[z] = matrix[z][i][j]\n",
      "/home/roberto/miniconda3/lib/python3.9/site-packages/matplotlib/collections.py:206: ComplexWarning: Casting complex values to real discards the imaginary part\n",
      "  offsets = np.asanyarray(offsets, float)\n",
      "<ipython-input-4-3e91c55e5e6d>:5: ComplexWarning: Casting complex values to real discards the imaginary part\n",
      "  z_column[z] = matrix[z][i][j]\n",
      "/home/roberto/miniconda3/lib/python3.9/site-packages/matplotlib/collections.py:206: ComplexWarning: Casting complex values to real discards the imaginary part\n",
      "  offsets = np.asanyarray(offsets, float)\n",
      "<ipython-input-4-3e91c55e5e6d>:5: ComplexWarning: Casting complex values to real discards the imaginary part\n",
      "  z_column[z] = matrix[z][i][j]\n",
      "/home/roberto/miniconda3/lib/python3.9/site-packages/matplotlib/collections.py:206: ComplexWarning: Casting complex values to real discards the imaginary part\n",
      "  offsets = np.asanyarray(offsets, float)\n",
      "<ipython-input-4-3e91c55e5e6d>:5: ComplexWarning: Casting complex values to real discards the imaginary part\n",
      "  z_column[z] = matrix[z][i][j]\n"
     ]
    },
    {
     "data": {
      "image/png": "[encoded data removed]",
      "text/plain": [
       "<Figure size 432x288 with 1 Axes>"
      ]
     },
     "metadata": {
      "needs_background": "light"
     },
     "output_type": "display_data"
    }
   ],
   "source": [
    "for i in range(len(r)):\n",
    "    for j in range(len(r)):\n",
    "        plt.plot(t_span, column(Beta2D_time_list, i, True, j))\n",
    "        plt.scatter(t_span[-1],(S_sigmam_ij_expectations[i][j]))\n",
    "        #plt.scatter(t_span[-1],(V_sigmam_ij_expectations[i][j]))\n",
    "\n",
    "        #plt.ylim(-1,1)\n",
    "        #plt.xlim(0,0.5)"
   ]
  },
  {
   "cell_type": "markdown",
   "id": "9588ebc8",
   "metadata": {},
   "source": [
    "# Second Correlation Function"
   ]
  },
  {
   "cell_type": "code",
   "execution_count": 35,
   "id": "d2555bf4",
   "metadata": {},
   "outputs": [
    {
     "name": "stdout",
     "output_type": "stream",
     "text": [
      "b0 system 0.1\n",
      "kd system None\n"
     ]
    }
   ],
   "source": [
    "S_H, S_c_ops, GTensor,M, GammaSR, DeltaSR, S_Omega, SR_state, r = system_spec_N(1, N_atoms, kd = None, b0 = b0, exc_radius = None , Delta = Delta, Omega = Omega, wave_mixing = True, scalar = True, interaction=True, r = r)"
   ]
  },
  {
   "cell_type": "code",
   "execution_count": 38,
   "id": "4eef9070",
   "metadata": {},
   "outputs": [
    {
     "name": "stdout",
     "output_type": "stream",
     "text": [
      " Summing on i =  5 "
     ]
    }
   ],
   "source": [
    "taulist = np.array([0])\n",
    "nhat = 1\n",
    "\n",
    "\n",
    "ang1 = 25\n",
    "R1 = get_nhat_from_angle(ang1)\n",
    "\n",
    "ang2 = np.linspace(0, 360, 180)\n",
    "R2_list = [] \n",
    "g2_zero_exact = []\n",
    "g2_zero_approximated = []\n",
    "V_g2_zero_exact = []\n",
    "\n",
    "\n",
    "for theta in ang2:\n",
    "        sys.stdout.write(\"\\r{0}\".format(theta))\n",
    "        sys.stdout.flush()\n",
    "        \n",
    "        R2 = get_nhat_from_angle(theta)\n",
    "        R2_list.append(get_nhat_from_angle(theta))\n",
    "        \n",
    "        g2_i = g2_l(S_H, nhat, r, R1, R2, taulist, S_c_ops, N_atoms, faseglobal = 1, rho_ss = None, rho_ss_parameter = \"direct\", tmax = None)[0]\n",
    "        g2_zero_exact.append(g2_i)\n",
    "        \n",
    "        g2_i = g2_l(V_H, nhat, r, R1, R2, taulist, V_c_ops, N_atoms, faseglobal = 1, rho_ss = None, rho_ss_parameter = \"direct\", tmax = None)[0]        \n",
    "        V_g2_zero_exact.append(g2_i)\n",
    "        \n",
    "        g2_i = np.real(g2_of_zero_subspace_approach(r, R1, R2, Beta1D_time_list[-1], Beta2D_time_list[-1]))\n",
    "        g2_zero_approximated.append(g2_i)\n",
    "        \n"
   ]
  },
  {
   "cell_type": "code",
   "execution_count": null,
   "id": "60336721",
   "metadata": {},
   "outputs": [],
   "source": [
    "np.save(\"exact.npy\", g2_zero_exact )\n",
    "np.save(\"aproximated.npy\", g2_zero_approximated )"
   ]
  },
  {
   "cell_type": "code",
   "execution_count": 39,
   "id": "6e11d2d1",
   "metadata": {},
   "outputs": [
    {
     "data": {
      "image/png": "[encoded data removed]",
      "text/plain": [
       "<Figure size 640x480 with 1 Axes>"
      ]
     },
     "metadata": {
      "needs_background": "light"
     },
     "output_type": "display_data"
    }
   ],
   "source": [
    "plt.figure(figsize=(8, 6), dpi=80)\n",
    "plt.scatter(ang2, g2_zero_exact,label = \"Exact\", marker =  \"s\", s = 40)\n",
    "plt.scatter(ang2, g2_zero_approximated, label = \"Scalar Approximated\", marker =  \"o\", s = 20)\n",
    "plt.scatter(ang2, V_g2_zero_exact, label = \"Vector Approximated\", marker =  \"o\", s = 20)\n",
    "\n",
    "\n",
    "plt.xlabel(r\"$\\theta$\", size = 20)\n",
    "plt.ylabel(r\"$g^{(2)}(0)$\", size = 20)\n",
    "#plt.scatter([25],[2], marker =  \"*\", label = \"Recife (Same direction)\")\n",
    "#plt.scatter([220],[1], marker =  \"*\", label = \"Recife (Opposite direction)\")\n",
    "plt.legend()\n",
    "plt.savefig(\"./benchmarking/V_benchmarking_N6_b0_0.1_Omega0.05Delta0.jpg\")"
   ]
  },
  {
   "cell_type": "code",
   "execution_count": null,
   "id": "ecd1abe3",
   "metadata": {},
   "outputs": [],
   "source": []
  }
 ],
 "metadata": {
  "kernelspec": {
   "display_name": "Python 3",
   "language": "python",
   "name": "python3"
  },
  "language_info": {
   "codemirror_mode": {
    "name": "ipython",
    "version": 3
   },
   "file_extension": ".py",
   "mimetype": "text/x-python",
   "name": "python",
   "nbconvert_exporter": "python",
   "pygments_lexer": "ipython3",
   "version": "3.9.5"
  }
 },
 "nbformat": 4,
 "nbformat_minor": 5
}
