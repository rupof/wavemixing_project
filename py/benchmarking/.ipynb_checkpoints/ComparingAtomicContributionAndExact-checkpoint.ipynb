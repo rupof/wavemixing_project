{
 "cells": [
  {
   "cell_type": "code",
   "execution_count": 1,
   "id": "c9230a05",
   "metadata": {},
   "outputs": [
    {
     "name": "stdout",
     "output_type": "stream",
     "text": [
      "/home/roberto/Desktop/romain_ic/wavemixing_project/py\n"
     ]
    }
   ],
   "source": [
    "cd /home/roberto/Desktop/romain_ic/wavemixing_project/py"
   ]
  },
  {
   "cell_type": "code",
   "execution_count": 2,
   "id": "669d81c5",
   "metadata": {},
   "outputs": [],
   "source": [
    "import os\n",
    "import sys\n",
    "\n",
    "sys.path.insert(0, os.path.abspath(\"../plots\"))\n",
    "sys.path.insert(0, os.path.abspath(\"../hamiltonean_builder\"))\n",
    "sys.path.insert(0, os.path.abspath(\"../correlation\"))\n",
    "sys.path.insert(0, os.path.abspath(\"../single_and_double_excitations_subspace\"))"
   ]
  },
  {
   "cell_type": "code",
   "execution_count": 3,
   "id": "6f8e8c4d",
   "metadata": {},
   "outputs": [],
   "source": [
    "from qutip import *\n",
    "import matplotlib.pyplot as plt\n",
    "\n",
    "from hamiltonean_builder.hamiltonean_builder import *\n",
    "from helper_functions.operators import *\n",
    "from plots.multi_plots import *\n",
    "from correlation.second_order_correlation  import *\n",
    "from single_and_double_excitations_subspace.parameter_generator_for_ODE import *\n",
    "from single_and_double_excitations_subspace.atomic_contributions_ODE import *\n"
   ]
  },
  {
   "cell_type": "code",
   "execution_count": 4,
   "id": "12d26320",
   "metadata": {},
   "outputs": [],
   "source": [
    "def column(matrix, i, triD = False, j = 0):\n",
    "    if triD != False:\n",
    "        z_column = np.zeros(len(matrix))\n",
    "        for z in range(len(matrix)):\n",
    "            z_column[z] = matrix[z][i][j]\n",
    "        return z_column  \n",
    "    \n",
    "    return [row[i] for row in matrix]"
   ]
  },
  {
   "cell_type": "code",
   "execution_count": 5,
   "id": "65d94ff1",
   "metadata": {},
   "outputs": [],
   "source": [
    "position_path = \"./benchmarking/N6_Omega0.05_Delta0.0_b0_0.1_S_Int_On_Benchmarking_direct//positions/positions_N6_Omega0.05_Delta0.0_run0.dat\"\n",
    "rho_path = \"./benchmarking/N6_Omega0.05_Delta0.0_b0_0.1_S_Int_On_Benchmarking_direct//N6_Omega0.05_Delta0.0_run0.dat\""
   ]
  },
  {
   "cell_type": "code",
   "execution_count": 6,
   "id": "af09bcf5",
   "metadata": {},
   "outputs": [],
   "source": [
    "r =  get_positions_from_a_file(position_path)\n",
    "Hdims = [[2 for i in range(len(r))], [2 for i in range(len(r))]]\n",
    "\n",
    "\n",
    "rho = Qobj(file_data_read(rho_path), dims=Hdims)"
   ]
  },
  {
   "cell_type": "code",
   "execution_count": 7,
   "id": "b39f8467",
   "metadata": {},
   "outputs": [],
   "source": [
    "N_atoms = len(r)\n",
    "sigmam_i_expectations = np.zeros(len(r), dtype = \"object\")\n",
    "sigmam_ij_expectations = np.zeros((len(r),len(r)), dtype = \"object\")\n",
    "\n",
    "for i in range(len(r)):\n",
    "    sigmam_i_expectations[i] = expect(rho, sigmam_i(N_atoms, i))\n",
    "    for j in range(len(r)):\n",
    "        sigmam_ij_expectations[i][j] = expect(rho, sigmam_i(N_atoms, i)*sigmam_i(N_atoms, j))\n",
    "        \n",
    "        "
   ]
  },
  {
   "cell_type": "markdown",
   "id": "0454911a",
   "metadata": {},
   "source": [
    "### Subspace solutions"
   ]
  },
  {
   "cell_type": "code",
   "execution_count": 26,
   "id": "96c3f371",
   "metadata": {},
   "outputs": [],
   "source": [
    "N_atoms = len(r)\n",
    "tf = 20\n",
    "Omega = 0.05\n",
    "Delta = 0\n",
    "t_span, dt = np.linspace(0,tf,100, retstep = True) "
   ]
  },
  {
   "cell_type": "code",
   "execution_count": 27,
   "id": "6c9f4c0d",
   "metadata": {},
   "outputs": [],
   "source": [
    "Delta1D, Omega1D, Gamma2D, Delta2D  = GetAllODEParametersGiven_r(Omega, Delta, r, scalar = True)"
   ]
  },
  {
   "cell_type": "code",
   "execution_count": 28,
   "id": "45b9f6c5",
   "metadata": {
    "scrolled": false
   },
   "outputs": [],
   "source": [
    "Beta1D_time_list, Beta2D_time_list, t_span, r = SolveForBeta1DandBeta2D(N_atoms, kd = None, b0 = None, exc_radius = None, Delta = Delta, Omega = Omega, wave_mixing = True, scalar = True, interaction = True, r = r, t_span = t_span  );"
   ]
  },
  {
   "cell_type": "markdown",
   "id": "4a188db0",
   "metadata": {},
   "source": [
    "### Exact solutions"
   ]
  },
  {
   "cell_type": "code",
   "execution_count": 29,
   "id": "cfcbb243",
   "metadata": {},
   "outputs": [],
   "source": [
    "N_atoms = len(r)\n",
    "sigmam_i_expectations = np.zeros(len(r), dtype = \"object\")\n",
    "sigmam_ij_expectations = np.zeros((len(r),len(r)), dtype = \"object\")\n",
    "\n",
    "for i in range(len(r)):\n",
    "    sigmam_i_expectations[i] = expect(rho, sigmam_i(N_atoms, i))\n",
    "    for j in range(len(r)):\n",
    "        sigmam_ij_expectations[i][j] = expect(rho, sigmam_i(N_atoms, i)*sigmam_i(N_atoms, j))\n",
    "        \n",
    "        "
   ]
  },
  {
   "cell_type": "markdown",
   "id": "b33a61e4",
   "metadata": {},
   "source": [
    "# Single Excitation $\\beta_j = \\langle \\sigma_j \\rangle $"
   ]
  },
  {
   "cell_type": "code",
   "execution_count": 30,
   "id": "e11285fe",
   "metadata": {},
   "outputs": [
    {
     "name": "stderr",
     "output_type": "stream",
     "text": [
      "/home/roberto/miniconda3/lib/python3.9/site-packages/matplotlib/cbook/__init__.py:1333: ComplexWarning: Casting complex values to real discards the imaginary part\n",
      "  return np.asarray(x, float)\n",
      "/home/roberto/miniconda3/lib/python3.9/site-packages/matplotlib/collections.py:206: ComplexWarning: Casting complex values to real discards the imaginary part\n",
      "  offsets = np.asanyarray(offsets, float)\n",
      "/home/roberto/miniconda3/lib/python3.9/site-packages/matplotlib/cbook/__init__.py:1333: ComplexWarning: Casting complex values to real discards the imaginary part\n",
      "  return np.asarray(x, float)\n",
      "/home/roberto/miniconda3/lib/python3.9/site-packages/matplotlib/collections.py:206: ComplexWarning: Casting complex values to real discards the imaginary part\n",
      "  offsets = np.asanyarray(offsets, float)\n",
      "/home/roberto/miniconda3/lib/python3.9/site-packages/matplotlib/cbook/__init__.py:1333: ComplexWarning: Casting complex values to real discards the imaginary part\n",
      "  return np.asarray(x, float)\n",
      "/home/roberto/miniconda3/lib/python3.9/site-packages/matplotlib/collections.py:206: ComplexWarning: Casting complex values to real discards the imaginary part\n",
      "  offsets = np.asanyarray(offsets, float)\n",
      "/home/roberto/miniconda3/lib/python3.9/site-packages/matplotlib/cbook/__init__.py:1333: ComplexWarning: Casting complex values to real discards the imaginary part\n",
      "  return np.asarray(x, float)\n",
      "/home/roberto/miniconda3/lib/python3.9/site-packages/matplotlib/collections.py:206: ComplexWarning: Casting complex values to real discards the imaginary part\n",
      "  offsets = np.asanyarray(offsets, float)\n",
      "/home/roberto/miniconda3/lib/python3.9/site-packages/matplotlib/cbook/__init__.py:1333: ComplexWarning: Casting complex values to real discards the imaginary part\n",
      "  return np.asarray(x, float)\n",
      "/home/roberto/miniconda3/lib/python3.9/site-packages/matplotlib/collections.py:206: ComplexWarning: Casting complex values to real discards the imaginary part\n",
      "  offsets = np.asanyarray(offsets, float)\n",
      "/home/roberto/miniconda3/lib/python3.9/site-packages/matplotlib/cbook/__init__.py:1333: ComplexWarning: Casting complex values to real discards the imaginary part\n",
      "  return np.asarray(x, float)\n",
      "/home/roberto/miniconda3/lib/python3.9/site-packages/matplotlib/collections.py:206: ComplexWarning: Casting complex values to real discards the imaginary part\n",
      "  offsets = np.asanyarray(offsets, float)\n"
     ]
    },
    {
     "data": {
      "image/png": "[encoded data removed]",
      "text/plain": [
       "<Figure size 432x288 with 1 Axes>"
      ]
     },
     "metadata": {
      "needs_background": "light"
     },
     "output_type": "display_data"
    }
   ],
   "source": [
    "for i in range(len(r)):\n",
    "    plt.plot(t_span, column(Beta1D_time_list, i))\n",
    "    plt.scatter(t_span[-1], sigmam_i_expectations[i])"
   ]
  },
  {
   "cell_type": "markdown",
   "id": "7a7c9349",
   "metadata": {},
   "source": [
    "# Double Excitation $\\beta_{ij} = \\langle \\sigma_i \\sigma_j \\rangle $"
   ]
  },
  {
   "cell_type": "code",
   "execution_count": 31,
   "id": "79deac3b",
   "metadata": {},
   "outputs": [
    {
     "name": "stderr",
     "output_type": "stream",
     "text": [
      "<ipython-input-4-3e91c55e5e6d>:5: ComplexWarning: Casting complex values to real discards the imaginary part\n",
      "  z_column[z] = matrix[z][i][j]\n",
      "<ipython-input-4-3e91c55e5e6d>:5: ComplexWarning: Casting complex values to real discards the imaginary part\n",
      "  z_column[z] = matrix[z][i][j]\n",
      "/home/roberto/miniconda3/lib/python3.9/site-packages/matplotlib/collections.py:206: ComplexWarning: Casting complex values to real discards the imaginary part\n",
      "  offsets = np.asanyarray(offsets, float)\n",
      "<ipython-input-4-3e91c55e5e6d>:5: ComplexWarning: Casting complex values to real discards the imaginary part\n",
      "  z_column[z] = matrix[z][i][j]\n",
      "/home/roberto/miniconda3/lib/python3.9/site-packages/matplotlib/collections.py:206: ComplexWarning: Casting complex values to real discards the imaginary part\n",
      "  offsets = np.asanyarray(offsets, float)\n",
      "<ipython-input-4-3e91c55e5e6d>:5: ComplexWarning: Casting complex values to real discards the imaginary part\n",
      "  z_column[z] = matrix[z][i][j]\n",
      "/home/roberto/miniconda3/lib/python3.9/site-packages/matplotlib/collections.py:206: ComplexWarning: Casting complex values to real discards the imaginary part\n",
      "  offsets = np.asanyarray(offsets, float)\n",
      "<ipython-input-4-3e91c55e5e6d>:5: ComplexWarning: Casting complex values to real discards the imaginary part\n",
      "  z_column[z] = matrix[z][i][j]\n",
      "/home/roberto/miniconda3/lib/python3.9/site-packages/matplotlib/collections.py:206: ComplexWarning: Casting complex values to real discards the imaginary part\n",
      "  offsets = np.asanyarray(offsets, float)\n",
      "<ipython-input-4-3e91c55e5e6d>:5: ComplexWarning: Casting complex values to real discards the imaginary part\n",
      "  z_column[z] = matrix[z][i][j]\n",
      "/home/roberto/miniconda3/lib/python3.9/site-packages/matplotlib/collections.py:206: ComplexWarning: Casting complex values to real discards the imaginary part\n",
      "  offsets = np.asanyarray(offsets, float)\n",
      "<ipython-input-4-3e91c55e5e6d>:5: ComplexWarning: Casting complex values to real discards the imaginary part\n",
      "  z_column[z] = matrix[z][i][j]\n",
      "/home/roberto/miniconda3/lib/python3.9/site-packages/matplotlib/collections.py:206: ComplexWarning: Casting complex values to real discards the imaginary part\n",
      "  offsets = np.asanyarray(offsets, float)\n",
      "<ipython-input-4-3e91c55e5e6d>:5: ComplexWarning: Casting complex values to real discards the imaginary part\n",
      "  z_column[z] = matrix[z][i][j]\n",
      "<ipython-input-4-3e91c55e5e6d>:5: ComplexWarning: Casting complex values to real discards the imaginary part\n",
      "  z_column[z] = matrix[z][i][j]\n",
      "/home/roberto/miniconda3/lib/python3.9/site-packages/matplotlib/collections.py:206: ComplexWarning: Casting complex values to real discards the imaginary part\n",
      "  offsets = np.asanyarray(offsets, float)\n",
      "<ipython-input-4-3e91c55e5e6d>:5: ComplexWarning: Casting complex values to real discards the imaginary part\n",
      "  z_column[z] = matrix[z][i][j]\n",
      "/home/roberto/miniconda3/lib/python3.9/site-packages/matplotlib/collections.py:206: ComplexWarning: Casting complex values to real discards the imaginary part\n",
      "  offsets = np.asanyarray(offsets, float)\n",
      "<ipython-input-4-3e91c55e5e6d>:5: ComplexWarning: Casting complex values to real discards the imaginary part\n",
      "  z_column[z] = matrix[z][i][j]\n",
      "/home/roberto/miniconda3/lib/python3.9/site-packages/matplotlib/collections.py:206: ComplexWarning: Casting complex values to real discards the imaginary part\n",
      "  offsets = np.asanyarray(offsets, float)\n",
      "<ipython-input-4-3e91c55e5e6d>:5: ComplexWarning: Casting complex values to real discards the imaginary part\n",
      "  z_column[z] = matrix[z][i][j]\n",
      "/home/roberto/miniconda3/lib/python3.9/site-packages/matplotlib/collections.py:206: ComplexWarning: Casting complex values to real discards the imaginary part\n",
      "  offsets = np.asanyarray(offsets, float)\n",
      "<ipython-input-4-3e91c55e5e6d>:5: ComplexWarning: Casting complex values to real discards the imaginary part\n",
      "  z_column[z] = matrix[z][i][j]\n",
      "/home/roberto/miniconda3/lib/python3.9/site-packages/matplotlib/collections.py:206: ComplexWarning: Casting complex values to real discards the imaginary part\n",
      "  offsets = np.asanyarray(offsets, float)\n",
      "<ipython-input-4-3e91c55e5e6d>:5: ComplexWarning: Casting complex values to real discards the imaginary part\n",
      "  z_column[z] = matrix[z][i][j]\n",
      "/home/roberto/miniconda3/lib/python3.9/site-packages/matplotlib/collections.py:206: ComplexWarning: Casting complex values to real discards the imaginary part\n",
      "  offsets = np.asanyarray(offsets, float)\n",
      "<ipython-input-4-3e91c55e5e6d>:5: ComplexWarning: Casting complex values to real discards the imaginary part\n",
      "  z_column[z] = matrix[z][i][j]\n",
      "<ipython-input-4-3e91c55e5e6d>:5: ComplexWarning: Casting complex values to real discards the imaginary part\n",
      "  z_column[z] = matrix[z][i][j]\n",
      "/home/roberto/miniconda3/lib/python3.9/site-packages/matplotlib/collections.py:206: ComplexWarning: Casting complex values to real discards the imaginary part\n",
      "  offsets = np.asanyarray(offsets, float)\n",
      "<ipython-input-4-3e91c55e5e6d>:5: ComplexWarning: Casting complex values to real discards the imaginary part\n",
      "  z_column[z] = matrix[z][i][j]\n",
      "/home/roberto/miniconda3/lib/python3.9/site-packages/matplotlib/collections.py:206: ComplexWarning: Casting complex values to real discards the imaginary part\n",
      "  offsets = np.asanyarray(offsets, float)\n",
      "<ipython-input-4-3e91c55e5e6d>:5: ComplexWarning: Casting complex values to real discards the imaginary part\n",
      "  z_column[z] = matrix[z][i][j]\n",
      "/home/roberto/miniconda3/lib/python3.9/site-packages/matplotlib/collections.py:206: ComplexWarning: Casting complex values to real discards the imaginary part\n",
      "  offsets = np.asanyarray(offsets, float)\n",
      "<ipython-input-4-3e91c55e5e6d>:5: ComplexWarning: Casting complex values to real discards the imaginary part\n",
      "  z_column[z] = matrix[z][i][j]\n",
      "/home/roberto/miniconda3/lib/python3.9/site-packages/matplotlib/collections.py:206: ComplexWarning: Casting complex values to real discards the imaginary part\n",
      "  offsets = np.asanyarray(offsets, float)\n",
      "<ipython-input-4-3e91c55e5e6d>:5: ComplexWarning: Casting complex values to real discards the imaginary part\n",
      "  z_column[z] = matrix[z][i][j]\n",
      "/home/roberto/miniconda3/lib/python3.9/site-packages/matplotlib/collections.py:206: ComplexWarning: Casting complex values to real discards the imaginary part\n",
      "  offsets = np.asanyarray(offsets, float)\n",
      "<ipython-input-4-3e91c55e5e6d>:5: ComplexWarning: Casting complex values to real discards the imaginary part\n",
      "  z_column[z] = matrix[z][i][j]\n",
      "/home/roberto/miniconda3/lib/python3.9/site-packages/matplotlib/collections.py:206: ComplexWarning: Casting complex values to real discards the imaginary part\n",
      "  offsets = np.asanyarray(offsets, float)\n",
      "<ipython-input-4-3e91c55e5e6d>:5: ComplexWarning: Casting complex values to real discards the imaginary part\n",
      "  z_column[z] = matrix[z][i][j]\n",
      "<ipython-input-4-3e91c55e5e6d>:5: ComplexWarning: Casting complex values to real discards the imaginary part\n",
      "  z_column[z] = matrix[z][i][j]\n",
      "/home/roberto/miniconda3/lib/python3.9/site-packages/matplotlib/collections.py:206: ComplexWarning: Casting complex values to real discards the imaginary part\n",
      "  offsets = np.asanyarray(offsets, float)\n",
      "<ipython-input-4-3e91c55e5e6d>:5: ComplexWarning: Casting complex values to real discards the imaginary part\n",
      "  z_column[z] = matrix[z][i][j]\n",
      "/home/roberto/miniconda3/lib/python3.9/site-packages/matplotlib/collections.py:206: ComplexWarning: Casting complex values to real discards the imaginary part\n",
      "  offsets = np.asanyarray(offsets, float)\n",
      "<ipython-input-4-3e91c55e5e6d>:5: ComplexWarning: Casting complex values to real discards the imaginary part\n",
      "  z_column[z] = matrix[z][i][j]\n",
      "/home/roberto/miniconda3/lib/python3.9/site-packages/matplotlib/collections.py:206: ComplexWarning: Casting complex values to real discards the imaginary part\n",
      "  offsets = np.asanyarray(offsets, float)\n",
      "<ipython-input-4-3e91c55e5e6d>:5: ComplexWarning: Casting complex values to real discards the imaginary part\n",
      "  z_column[z] = matrix[z][i][j]\n",
      "/home/roberto/miniconda3/lib/python3.9/site-packages/matplotlib/collections.py:206: ComplexWarning: Casting complex values to real discards the imaginary part\n",
      "  offsets = np.asanyarray(offsets, float)\n",
      "<ipython-input-4-3e91c55e5e6d>:5: ComplexWarning: Casting complex values to real discards the imaginary part\n",
      "  z_column[z] = matrix[z][i][j]\n",
      "/home/roberto/miniconda3/lib/python3.9/site-packages/matplotlib/collections.py:206: ComplexWarning: Casting complex values to real discards the imaginary part\n",
      "  offsets = np.asanyarray(offsets, float)\n",
      "<ipython-input-4-3e91c55e5e6d>:5: ComplexWarning: Casting complex values to real discards the imaginary part\n",
      "  z_column[z] = matrix[z][i][j]\n",
      "/home/roberto/miniconda3/lib/python3.9/site-packages/matplotlib/collections.py:206: ComplexWarning: Casting complex values to real discards the imaginary part\n",
      "  offsets = np.asanyarray(offsets, float)\n",
      "<ipython-input-4-3e91c55e5e6d>:5: ComplexWarning: Casting complex values to real discards the imaginary part\n",
      "  z_column[z] = matrix[z][i][j]\n",
      "<ipython-input-4-3e91c55e5e6d>:5: ComplexWarning: Casting complex values to real discards the imaginary part\n",
      "  z_column[z] = matrix[z][i][j]\n",
      "/home/roberto/miniconda3/lib/python3.9/site-packages/matplotlib/collections.py:206: ComplexWarning: Casting complex values to real discards the imaginary part\n",
      "  offsets = np.asanyarray(offsets, float)\n",
      "<ipython-input-4-3e91c55e5e6d>:5: ComplexWarning: Casting complex values to real discards the imaginary part\n",
      "  z_column[z] = matrix[z][i][j]\n",
      "/home/roberto/miniconda3/lib/python3.9/site-packages/matplotlib/collections.py:206: ComplexWarning: Casting complex values to real discards the imaginary part\n",
      "  offsets = np.asanyarray(offsets, float)\n",
      "<ipython-input-4-3e91c55e5e6d>:5: ComplexWarning: Casting complex values to real discards the imaginary part\n",
      "  z_column[z] = matrix[z][i][j]\n",
      "/home/roberto/miniconda3/lib/python3.9/site-packages/matplotlib/collections.py:206: ComplexWarning: Casting complex values to real discards the imaginary part\n",
      "  offsets = np.asanyarray(offsets, float)\n",
      "<ipython-input-4-3e91c55e5e6d>:5: ComplexWarning: Casting complex values to real discards the imaginary part\n",
      "  z_column[z] = matrix[z][i][j]\n",
      "/home/roberto/miniconda3/lib/python3.9/site-packages/matplotlib/collections.py:206: ComplexWarning: Casting complex values to real discards the imaginary part\n",
      "  offsets = np.asanyarray(offsets, float)\n",
      "<ipython-input-4-3e91c55e5e6d>:5: ComplexWarning: Casting complex values to real discards the imaginary part\n",
      "  z_column[z] = matrix[z][i][j]\n",
      "/home/roberto/miniconda3/lib/python3.9/site-packages/matplotlib/collections.py:206: ComplexWarning: Casting complex values to real discards the imaginary part\n",
      "  offsets = np.asanyarray(offsets, float)\n",
      "<ipython-input-4-3e91c55e5e6d>:5: ComplexWarning: Casting complex values to real discards the imaginary part\n",
      "  z_column[z] = matrix[z][i][j]\n",
      "/home/roberto/miniconda3/lib/python3.9/site-packages/matplotlib/collections.py:206: ComplexWarning: Casting complex values to real discards the imaginary part\n",
      "  offsets = np.asanyarray(offsets, float)\n",
      "<ipython-input-4-3e91c55e5e6d>:5: ComplexWarning: Casting complex values to real discards the imaginary part\n",
      "  z_column[z] = matrix[z][i][j]\n"
     ]
    },
    {
     "data": {
      "image/png": "[encoded data removed]",
      "text/plain": [
       "<Figure size 432x288 with 1 Axes>"
      ]
     },
     "metadata": {
      "needs_background": "light"
     },
     "output_type": "display_data"
    }
   ],
   "source": [
    "for i in range(len(r)):\n",
    "    for j in range(len(r)):\n",
    "        plt.plot(t_span, column(Beta2D_time_list, i, True, j))\n",
    "        plt.scatter(t_span[-1],(sigmam_ij_expectations[i][j]))\n",
    "        #plt.ylim(-1,1)\n",
    "        #plt.xlim(0,0.5)"
   ]
  },
  {
   "cell_type": "code",
   "execution_count": null,
   "id": "00cfe46c",
   "metadata": {},
   "outputs": [],
   "source": []
  },
  {
   "cell_type": "code",
   "execution_count": null,
   "id": "4eef9070",
   "metadata": {},
   "outputs": [],
   "source": []
  },
  {
   "cell_type": "code",
   "execution_count": null,
   "id": "4c2fe3b0",
   "metadata": {},
   "outputs": [],
   "source": []
  }
 ],
 "metadata": {
  "kernelspec": {
   "display_name": "Python 3",
   "language": "python",
   "name": "python3"
  },
  "language_info": {
   "codemirror_mode": {
    "name": "ipython",
    "version": 3
   },
   "file_extension": ".py",
   "mimetype": "text/x-python",
   "name": "python",
   "nbconvert_exporter": "python",
   "pygments_lexer": "ipython3",
   "version": "3.9.5"
  }
 },
 "nbformat": 4,
 "nbformat_minor": 5
}
