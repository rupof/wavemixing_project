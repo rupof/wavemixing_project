{
 "cells": [
  {
   "cell_type": "code",
   "execution_count": 235,
   "metadata": {},
   "outputs": [],
   "source": [
    "import numpy as np\n",
    "import matplotlib.pyplot as plt\n",
    "import pandas as pd"
   ]
  },
  {
   "cell_type": "code",
   "execution_count": 236,
   "metadata": {},
   "outputs": [],
   "source": [
    "def get_array_with_complex_julia(df_test):\n",
    "    tes = df_test.to_numpy()\n",
    "    for i in range(len(tes)):\n",
    "        for j in range(len(tes[0])):\n",
    "            if type(tes[i][j]) == str:\n",
    "                tes[i][j] = tes[i][j].replace(\"im\", \"j\")\n",
    "                tes[i][j] = complex(tes[i][j].replace(\" \", \"\"))\n",
    "    return tes\n",
    "\n",
    "def double_index_to_vertically_stacked_index(i, j, N):\n",
    "    h_length  = N\n",
    "    v_length  = N\n",
    "    A = np.zeros(v_length, h_length)\n",
    "    a = 1\n",
    "    for i in range(h_length):\n",
    "        for j in range(v_length):\n",
    "            A[i,j] = a\n",
    "            a += 1\n",
    "    \n",
    "    return int(A[i, j])\n",
    "\n",
    "def vertically_stacked_to_double_index(index, N):\n",
    "    h_length  = N\n",
    "    v_length  = N\n",
    "    A = np.zeros([v_length, h_length])\n",
    "    a = 0\n",
    "    for j in range(h_length):\n",
    "        for i in range(v_length):\n",
    "            if index == a:\n",
    "                return (i, j)\n",
    "            A[i,j] = a\n",
    "            a += 1\n",
    "\n",
    "def full_beta_to_beta_single_double_index(beta, N):\n",
    "    beta_i = np.zeros([N], dtype = \"object\")\n",
    "    beta_ij = np.zeros([N, N], dtype = \"object\")\n",
    "                                          \n",
    "    for i in range(N):\n",
    "        beta_i[i] = beta[:,i]\n",
    "        \n",
    "    for i in range(N, len(beta[0])):\n",
    "        l, m = vertically_stacked_to_double_index(i-N, N)\n",
    "        beta_ij[l][m] = beta[:,i]\n",
    "    return beta_i, beta_ij"
   ]
  },
  {
   "cell_type": "code",
   "execution_count": 237,
   "metadata": {},
   "outputs": [],
   "source": [
    "df_time_julia = pd.read_csv(\"time_test.csv\", header = None)\n",
    "time = get_array_with_complex_julia(df_time_julia)\n",
    "\n",
    "df_beta_julia = pd.read_csv(\"beta_full_test.csv\", header = None)\n",
    "beta_julia = get_array_with_complex_julia(df_beta_julia)"
   ]
  },
  {
   "cell_type": "code",
   "execution_count": 238,
   "metadata": {},
   "outputs": [],
   "source": [
    "N = 2\n",
    "beta_i, beta_ij = full_beta_to_beta_single_double_index(beta_julia, N)"
   ]
  },
  {
   "cell_type": "code",
   "execution_count": 240,
   "metadata": {},
   "outputs": [
    {
     "data": {
      "image/png": "[encoded data removed]",
      "text/plain": [
       "<Figure size 432x288 with 1 Axes>"
      ]
     },
     "metadata": {
      "needs_background": "light"
     },
     "output_type": "display_data"
    }
   ],
   "source": [
    "for i in range(N):\n",
    "    plt.plot(time, np.abs(beta_julia[:,i]))"
   ]
  },
  {
   "cell_type": "code",
   "execution_count": 241,
   "metadata": {},
   "outputs": [
    {
     "data": {
      "image/png": "[encoded data removed]",
      "text/plain": [
       "<Figure size 432x288 with 1 Axes>"
      ]
     },
     "metadata": {
      "needs_background": "light"
     },
     "output_type": "display_data"
    }
   ],
   "source": [
    "for i in range(N, len(beta_julia[0])):\n",
    "    plt.plot(time, np.abs(beta_julia[:,i]))"
   ]
  },
  {
   "cell_type": "code",
   "execution_count": null,
   "metadata": {},
   "outputs": [],
   "source": []
  },
  {
   "cell_type": "code",
   "execution_count": null,
   "metadata": {},
   "outputs": [],
   "source": []
  }
 ],
 "metadata": {
  "kernelspec": {
   "display_name": "Python 3",
   "language": "python",
   "name": "python3"
  },
  "language_info": {
   "codemirror_mode": {
    "name": "ipython",
    "version": 3
   },
   "file_extension": ".py",
   "mimetype": "text/x-python",
   "name": "python",
   "nbconvert_exporter": "python",
   "pygments_lexer": "ipython3",
   "version": "3.7.7"
  },
  "latex_envs": {
   "LaTeX_envs_menu_present": true,
   "autoclose": false,
   "autocomplete": true,
   "bibliofile": "biblio.bib",
   "cite_by": "apalike",
   "current_citInitial": 1,
   "eqLabelWithNumbers": true,
   "eqNumInitial": 1,
   "hotkeys": {
    "equation": "Ctrl-E",
    "itemize": "Ctrl-I"
   },
   "labels_anchors": false,
   "latex_user_defs": false,
   "report_style_numbering": false,
   "user_envs_cfg": false
  },
  "varInspector": {
   "cols": {
    "lenName": 16,
    "lenType": 16,
    "lenVar": 40
   },
   "kernels_config": {
    "python": {
     "delete_cmd_postfix": "",
     "delete_cmd_prefix": "del ",
     "library": "var_list.py",
     "varRefreshCmd": "print(var_dic_list())"
    },
    "r": {
     "delete_cmd_postfix": ") ",
     "delete_cmd_prefix": "rm(",
     "library": "var_list.r",
     "varRefreshCmd": "cat(var_dic_list()) "
    }
   },
   "types_to_exclude": [
    "module",
    "function",
    "builtin_function_or_method",
    "instance",
    "_Feature"
   ],
   "window_display": false
  }
 },
 "nbformat": 4,
 "nbformat_minor": 4
}
