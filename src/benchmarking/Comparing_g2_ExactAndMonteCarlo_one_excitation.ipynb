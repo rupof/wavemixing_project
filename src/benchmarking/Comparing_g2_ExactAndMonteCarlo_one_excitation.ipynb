{
 "cells": [
  {
   "cell_type": "code",
   "execution_count": 1,
   "metadata": {},
   "outputs": [
    {
     "name": "stdout",
     "output_type": "stream",
     "text": [
      "/home/roberto/Documents/Carrera/romain_ic/wavemixing_project/src\n"
     ]
    }
   ],
   "source": [
    "cd /home/roberto/Documents/Carrera/romain_ic/wavemixing_project/src"
   ]
  },
  {
   "cell_type": "code",
   "execution_count": 2,
   "metadata": {},
   "outputs": [],
   "source": [
    "import os\n",
    "import sys\n",
    "\n",
    "sys.path.insert(0, os.path.abspath(\"./post_processing/local_calculations\"))\n",
    "sys.path.insert(0, os.path.abspath(\"./helper_functions/cloud\"))\n",
    "sys.path.insert(0, os.path.abspath(\"./file_manager\"))\n",
    "sys.path.insert(0, os.path.abspath(\"./hamiltonian\"))\n",
    "sys.path.insert(0, os.path.abspath(\"./correlation\"))\n",
    "sys.path.insert(0, os.path.abspath(\"./single_and_double_excitations_subspace\"))"
   ]
  },
  {
   "cell_type": "code",
   "execution_count": 3,
   "metadata": {},
   "outputs": [],
   "source": [
    "from qutip import *\n",
    "import matplotlib.pyplot as plt\n",
    "import matplotlib.lines as mlines\n",
    "\n",
    "from hamiltonian.hamiltonian_builder import *\n",
    "\n",
    "\n",
    "from helper_functions.operators import *\n",
    "from helper_functions.cloud import *\n",
    "from file_manager.visualization_preparation_tools import *\n",
    "from correlation.second_order_correlation  import *\n",
    "from single_and_double_excitations_subspace.parameter_generator_for_ODE import *\n",
    "from single_and_double_excitations_subspace.atomic_contributions_ODE import *\n",
    "from single_and_double_excitations_subspace.atomic_contributions_optimized_ODE import SolveForBeta1DandBeta2D_optimized, SolveForBeta1D_optimized\n",
    "\n",
    "from single_and_double_excitations_subspace.QRT_dynamics_ODE import *\n",
    "\n",
    "from post_processing.local_calculations import *\n",
    "from helper_functions.cloud import *\n",
    "from helper_functions.operators import *\n",
    "from helper_functions.other import * "
   ]
  },
  {
   "cell_type": "markdown",
   "metadata": {},
   "source": [
    "Implementing sandwich_E:\n",
    "\n",
    "\\begin{equation}\n",
    "\\langle{\\psi(t)}| E^*\tE | {\\psi(t)} \\rangle = \\left|\\sum_{n}  e^{-i\\phi_{n}} \\beta_n(t) \\right|^2+  4\\sum_{\\tilde{m}, n, m}  e^{-i(\\phi_m - \\phi^*_{\\tilde{m}})}\\left(\\beta^*_{n\\tilde{m}}(t)\\beta_{nm}(t) \\right)\n",
    "\\end{equation}"
   ]
  },
  {
   "cell_type": "code",
   "execution_count": 4,
   "metadata": {},
   "outputs": [],
   "source": [
    "def sandwich_E(r, Beta1D, Beta2D, n, optimized = False):\n",
    "    #phase vector\n",
    "    phase = np.exp(-1j*n.T @ r) #e^{-kvec x r}\n",
    "    if optimized == False:\n",
    "        s1 = 0\n",
    "        s2 = 0\n",
    "        for n in range(N):\n",
    "            s1 += phase[0, n]*Beta1D[n]\n",
    "            if Beta2D is not None: #not Single Excitation\n",
    "                for m in range(N):\n",
    "                    for j in range(N):\n",
    "                        s2 += 4*phase[0,m]*phase.conj()[0,j]*(Beta2D[n][j].conj()*Beta2D[n][m] )\n",
    "\n",
    "        s = np.abs(s1)**2 + s2\n",
    "    else:\n",
    "        \n",
    "        #Matrix of difference of phases:\n",
    "        phases_difference = np.exp(-1j*(np.reshape(np.subtract.outer(n.T @ r, n.T @ r), [N,N])))\n",
    "        #First term\n",
    "        s  = np.abs(np.einsum(\"ij,kj->\",np.reshape(Beta1D, [1, N]), phase))**2 \n",
    "        if Beta2D is not None: #Single Excitation\n",
    "        #Second term\n",
    "            s += 4*np.einsum('mj,nj,nm', phases_difference,Beta2D.conj().T, Beta2D)\n",
    "        \n",
    "    \n",
    "    return s"
   ]
  },
  {
   "cell_type": "markdown",
   "metadata": {},
   "source": [
    "Implementing get_projected_state\n",
    "\n",
    "\\begin{equation}\n",
    "|\\bar{\\psi}(t)\\rangle\n",
    "= \\frac{ \\left(\\sum_{n} e^{-i\\phi_n}\\beta_n(t)\\right) |0\\rangle + 2 \\sum_{n,m}  e^{-i\\phi_m}\\left(\\beta_{nm}(t) \\right)|n\\rangle }{\\sqrt{ \\left|\\sum_{n}  e^{-i\\phi_{n}} \\beta_n(t) \\right|^2+  4\\sum_{\\tilde{m}, n, m}  e^{-i(\\phi_m - \\phi^*_{\\tilde{m}})}\\left(\\beta^*_{n\\tilde{m}}(t)\\beta_{nm}(t) \\right) }}\n",
    "\\end{equation}\n",
    "\n",
    "Which implies: \n",
    "\n",
    "\\begin{equation}\n",
    "\\beta_{\\ell}\n",
    "= \\frac{  2 \\sum_{m}  e^{-i\\phi_m}\\left(\\beta_{\\ell m}(t) \\right) }{\\sqrt{ \\left|\\sum_{n}  e^{-i\\phi_{n}} \\beta_n(t) \\right|^2+  4\\sum_{\\tilde{m}, n, m}  e^{-i(\\phi_m - \\phi^*_{\\tilde{m}})}\\left(\\beta^*_{n\\tilde{m}}(t)\\beta_{nm}(t) \\right) }}\n",
    "\\end{equation}\n",
    "\n"
   ]
  },
  {
   "cell_type": "code",
   "execution_count": 5,
   "metadata": {},
   "outputs": [],
   "source": [
    "def get_Beta1D_projected_state(r, Beta1D_steady_state, Beta2D_steady_state, n1, optimized = False):\n",
    "    \"\"\" \n",
    "    Beta1D_steady_state, Beta2D_steady_state are both matrices not time evolution matrices\n",
    "    \"\"\"\n",
    "    phase = np.exp(-1j*n1.T @ r)\n",
    "    if optimized == False:\n",
    "        numerator = np.zeros([N], dtype = \"complex\")\n",
    "        for l in range(N):\n",
    "            for m in range(N):\n",
    "                numerator[l] += phase[0, m]*Beta2D_steady_state[l][m]\n",
    "    else:\n",
    "        numerator = np.einsum('ij,jk -> i', Beta2D_steady_state, phase.T)  \n",
    "    \n",
    "    denominator = np.sqrt(sandwich_E(r, Beta1D_steady_state, Beta2D_steady_state, n1) )\n",
    "\n",
    "    return numerator/denominator\n",
    "\n"
   ]
  },
  {
   "cell_type": "markdown",
   "metadata": {},
   "source": [
    "Implementing g2:\n",
    "\n",
    "\\begin{equation}\n",
    "g^{(2)}(\\tau) = \\frac{\\langle\\bar{\\psi}(\\tau)|E^*E|\\bar{\\psi}(\\tau)\\rangle}{\\langle\\psi(t\\rightarrow\\infty)|E^*E| \\psi(t\\rightarrow\\infty)\\rangle}\n",
    "\\end{equation}"
   ]
  },
  {
   "cell_type": "code",
   "execution_count": 6,
   "metadata": {},
   "outputs": [],
   "source": [
    "def get_g2(r, Beta1D_steady_state, Beta2D_steady_state, Beta1D_tau, Beta2D_tau, n1, n2, optimized = False):\n",
    "    g2 = []\n",
    "    if Beta2D_tau is None:\n",
    "        for tau in range(len(Beta1D_tau)):\n",
    "            g2.append(sandwich_E(r, Beta1D_tau[tau], None, n2, optimized)/ \n",
    "                  sandwich_E(r, Beta1D_steady_state, Beta2D_steady_state, n2, optimized))\n",
    "        return g2 \n",
    "    else:\n",
    "        for tau in range(len(Beta1D_tau)):\n",
    "            g2.append(sandwich_E(r, Beta1D_tau[tau], Beta2D_tau[tau], n2, optimized)/ \n",
    "                      sandwich_E(r, Beta1D_steady_state, Beta2D_steady_state, n2, optimized))\n",
    "        return g2"
   ]
  },
  {
   "cell_type": "markdown",
   "metadata": {},
   "source": [
    "### Testing implementation"
   ]
  },
  {
   "cell_type": "code",
   "execution_count": 8,
   "metadata": {},
   "outputs": [],
   "source": [
    "#Initial parameters\n",
    "N_atoms = N = 5\n",
    "b0 = 0.1\n",
    "r = random_cloud(0, N, exc_radius = None, b0 = b0)\n",
    "\n",
    "R1 = get_nhat_from_angle(25)\n",
    "R2 = get_nhat_from_angle(205)\n",
    "\n",
    "Omega = 2\n",
    "Delta = 20\n",
    "\n",
    "tf_steady_state = 50\n",
    "t_span_steady_state, dt = np.linspace(0,tf_steady_state,100, retstep = True) "
   ]
  },
  {
   "cell_type": "markdown",
   "metadata": {},
   "source": [
    "Getting steady-state evolution"
   ]
  },
  {
   "cell_type": "code",
   "execution_count": 9,
   "metadata": {},
   "outputs": [],
   "source": [
    "\n",
    "Beta1D_t, Beta2D_t, t_span, r = SolveForBeta1DandBeta2D_optimized(N, kd = None , b0 = None, exc_radius = None, Delta = Delta, \n",
    "                                                                  Omega = Omega, wave_mixing = True, scalar = True,\n",
    "                                                                  interaction = True, r = r, t_span =t_span_steady_state)  "
   ]
  },
  {
   "cell_type": "code",
   "execution_count": 10,
   "metadata": {},
   "outputs": [
    {
     "data": {
      "image/png": "[encoded data removed]",
      "text/plain": [
       "<Figure size 432x288 with 2 Axes>"
      ]
     },
     "metadata": {
      "needs_background": "light"
     },
     "output_type": "display_data"
    }
   ],
   "source": [
    "plt.subplots(1,2)\n",
    "plt.suptitle(\"Time evolution to steady-state\")\n",
    "plt.subplot(1,2,1)\n",
    "plt.ylabel(r\"$\\beta_{i}(t)$\")\n",
    "plt.plot(t_span, np.real(np.stack(Beta1D_t)[:,0:]))\n",
    "plt.subplot(1,2,2)\n",
    "plt.plot(t_span, np.real(np.stack(Beta2D_t))[:,0:,1])\n",
    "plt.ylabel(r\"$\\beta_{ij}(t)$\")\n",
    "plt.xlabel(\"t\")\n",
    "plt.tight_layout()"
   ]
  },
  {
   "cell_type": "code",
   "execution_count": null,
   "metadata": {},
   "outputs": [],
   "source": [
    "Beta1D_t, Beta2D_t, t_span, r = SolveForBeta1DandBeta2D_optimized(N, kd = None , b0 = None, exc_radius = None, Delta = Delta, \n",
    "                                                                  Omega = Omega, wave_mixing = True, scalar = True,\n",
    "                                                                  interaction = True, r = r, t_span =t_span_steady_state)  "
   ]
  },
  {
   "cell_type": "markdown",
   "metadata": {},
   "source": [
    "Getting projected state time evolution"
   ]
  },
  {
   "cell_type": "code",
   "execution_count": null,
   "metadata": {},
   "outputs": [],
   "source": [
    "tf = 5 #shorter time\n",
    "taulist, dt = np.linspace(0,tf,200, retstep = True) \n",
    "Beta1D_steady_state, Beta2D_steady_state = Beta1D_t[-1], Beta2D_t[-1]\n",
    "\n",
    "Beta1D_projected_state = get_Beta1D_projected_state(r, Beta1D_steady_state, Beta2D_steady_state, \n",
    "                                                    R1, optimized = True)\n",
    "\n",
    "\n",
    "Beta1D_tau, t_span, r = SolveForBeta1D_optimized(N, kd = None , b0 = None, exc_radius = None, Delta = Delta, \n",
    "                                                                  Omega = Omega, wave_mixing = True, scalar = True,\n",
    "                                                                  interaction = True, r = r, t_span =t_span_steady_state)  \n"
   ]
  },
  {
   "cell_type": "code",
   "execution_count": null,
   "metadata": {},
   "outputs": [],
   "source": [
    "plt.subplots(1,2)\n",
    "plt.suptitle(\"Time evolution: projected state\")\n",
    "plt.subplot(1,2,1)\n",
    "plt.ylabel(r\"$\\beta_{i}(\\tau)$\")\n",
    "plt.plot(taulist, np.real(np.stack(Beta1D_tau)[:,0:]))\n",
    "plt.xlabel(r\"$\\tau$\")\n",
    "plt.subplot(1,2,2)\n",
    "plt.plot(taulist, np.real(np.stack(Beta2D_tau))[:,0:,1])\n",
    "plt.ylabel(r\"$\\beta_{ij}(\\tau)$\")\n",
    "plt.xlabel(r\"$\\tau$\")\n",
    "plt.tight_layout()"
   ]
  },
  {
   "cell_type": "markdown",
   "metadata": {},
   "source": [
    "Getting g2 using monte-carlo"
   ]
  },
  {
   "cell_type": "code",
   "execution_count": null,
   "metadata": {},
   "outputs": [],
   "source": [
    "Beta1D_steady_state = Beta1D_t[-1]\n",
    "g2_MonteCarlo = get_g2(r, Beta1D_steady_state, Beta2D_steady_state, \n",
    "                       Beta1D_tau, None, R1, R2, optimized = True)"
   ]
  },
  {
   "cell_type": "markdown",
   "metadata": {},
   "source": [
    "Getting g2 using exact method "
   ]
  },
  {
   "cell_type": "code",
   "execution_count": null,
   "metadata": {},
   "outputs": [],
   "source": [
    "\n",
    "S_H, S_c_ops, GTensor,M, GammaSR, DeltaSR, Omega, SR_state, r = system_spec_N(1, N_atoms, kd = None, b0 = b0, exc_radius = None , Delta = Delta, Omega = Omega, wave_mixing = True, scalar = True, r = r, beam = \"plane_wave\")\n",
    "rho_ss_S, total_time_ss = get_steadystate(S_H, 0, r,  b0, S_c_ops, N, faseglobal = 1, rho_ss = None, rho_ss_parameter = \"direct\", tmax = None)\n",
    "\n",
    "\n",
    "G2_ls, normalization_ls, rho_ss, total_time_ss, total_time_correlation = g2_l(S_H, 0, r, R1, R2, taulist, S_c_ops, N, faseglobal = 1, rho_ss = rho_ss_S, rho_ss_parameter = \"direct\", tmax = None)\n",
    "g2_exact = G2_ls/normalization_ls\n",
    "\n",
    "#sigma_ij = np.zeros([N,N], dtype=\"object\")\n",
    "#for i in range(len(sigma_ij[0])):\n",
    "#    for j in range(len(sigma_ij[0])):\n",
    "#        sigma_ij[i][j] = (correlation_2op_1t(S_H, rho_ss, taulist, S_c_ops, sigmam_i(N,i), sigmam_i(N,j), solver='me', reverse=True))"
   ]
  },
  {
   "cell_type": "markdown",
   "metadata": {},
   "source": [
    "Comparing plots"
   ]
  },
  {
   "cell_type": "code",
   "execution_count": null,
   "metadata": {},
   "outputs": [],
   "source": [
    "fig = plt.figure(figsize=(5, 3), dpi=300)\n",
    "#plt.ylim(-0.2,14)\n",
    "plt.plot(taulist, g2_MonteCarlo, label = 'Monte Carlo')\n",
    "plt.plot(taulist, g2_exact, \"--\", label = \"QuTip Exact\")\n",
    "#plt.title(f\"N = {N}, b0 = {b0}, Omega = {Omega}, Delta = {Delta}  \")\n",
    "\n",
    "plt.xlabel(r\"$\\tau$ \")\n",
    "plt.ylabel(r\"$ g^{(2)}(\\tau)  $\")\n",
    "plt.legend()\n",
    "plt.tight_layout()\n",
    "\n",
    "avg_relative_error = np.average(np.abs(1- g2_MonteCarlo/g2_exact))\n",
    "plt.title(f\"N = {N}, $b_0$ = {b0}, $\\Delta$ = {Delta}, $\\Omega$ = {Omega}  \\n Average relative error = {np.round(avg_relative_error, 3)}\")\n",
    "\n",
    "plt.tight_layout()\n",
    "#plt.savefig(f\"./benchmarking/g2_qutip_vs_MC_N{N}_b0{b0}_Omega{Omega}_avg_error_{np.round(avg_relative_error, 3)}.png\", dpi = 300, tight_layout = True)"
   ]
  },
  {
   "cell_type": "markdown",
   "metadata": {},
   "source": [
    "Checking if g2(0) is correctly implemented:\n",
    "\\begin{equation}\n",
    "\tg^{(2)}(\\tau = 0)= \\frac{1}{\\left|\\sum_{n}  e^{-i\\phi_{n}} \\beta_n(t) \\right|^2+  4\\sum_{\\tilde{m}, n, m}  e^{-i(\\phi_m - \\phi^*_{\\tilde{m}})}\\left(\\beta^*_{n\\tilde{m}}(t)\\beta_{nm}(t) \\right)} \\times \\left|   \\frac{ | 2 \\sum_{\\ell, m}  e^{-i(\\phi_{\\ell} + \\varphi_{m})}\\left(\\beta_{\\ell m}(t) \\right) |^2 }{ \\left|\\sum_{n}  e^{-i\\varphi_{n}} \\beta_n(t) \\right|^2+  4\\sum_{\\tilde{m}, n, m}  e^{-i(\\varphi_m - \\varphi^*_{\\tilde{m}})}\\left(\\beta^*_{n\\tilde{m}}(t)\\beta_{nm}(t) \\right)  } \\right| \n",
    "    \\end{equation}"
   ]
  },
  {
   "cell_type": "markdown",
   "metadata": {},
   "source": [
    "Where $\\varphi= k\\mathbf{n_1}\\mathbf{r} $ and $\\phi= k\\mathbf{n_2}\\mathbf{r} $"
   ]
  },
  {
   "cell_type": "code",
   "execution_count": null,
   "metadata": {},
   "outputs": [],
   "source": [
    "def get_g2_zero(r, Beta1D_steady_state, Beta2D_steady_state, n1, n2):\n",
    "    \"\"\" \n",
    "    \"\"\"\n",
    "    N = len(r)\n",
    "    phase_n1 = np.exp(-1j*n1.T @ r)\n",
    "    phase_n2 = np.exp(-1j*n2.T @ r)\n",
    "\n",
    "    numerator = 0\n",
    "    for l in range(N):\n",
    "        for m in range(N):\n",
    "            numerator += phase_n1[0, m]*phase_n2[0, l]*Beta2D_steady_state[l][m]\n",
    "    \n",
    "    \n",
    "    s1_n2 = 0\n",
    "    s2_n2 = 0\n",
    "    s1_n1 = 0\n",
    "    s2_n1 = 0\n",
    "    for l in range(N):\n",
    "        s1_n2 += phase_n2[0, l]*Beta1D_steady_state[l]\n",
    "        s1_n1 += phase_n1[0, l]*Beta1D_steady_state[l]\n",
    "        for m in range(N):\n",
    "            for n in range(N):\n",
    "                s2_n2 += 4*phase_n2[0, m]*phase_n2[0, l].conj()  *  Beta2D_steady_state[l][n].conj()*Beta2D_steady_state[n][m]\n",
    "                \n",
    "                s2_n1 += 4*phase_n1[0, m]*phase_n1[0, l].conj()  *  Beta2D_steady_state[l][n].conj()*Beta2D_steady_state[n][m]\n",
    "\n",
    "    denominator = (np.abs(s1_n2)**2 + s2_n2)*np.abs((np.abs(s1_n1)**2 + s2_n1))\n",
    "    print(np.abs(numerator)**2)\n",
    "    print(denominator)\n",
    "    return np.abs(numerator)**2/denominator\n",
    "\n",
    "get_g2_zero(r, Beta1D_steady_state, Beta2D_steady_state, R1, R2)"
   ]
  },
  {
   "cell_type": "code",
   "execution_count": null,
   "metadata": {},
   "outputs": [],
   "source": [
    "g2_MonteCarlo[0]"
   ]
  },
  {
   "cell_type": "code",
   "execution_count": null,
   "metadata": {},
   "outputs": [],
   "source": [
    "g2_exact[0]"
   ]
  },
  {
   "cell_type": "code",
   "execution_count": null,
   "metadata": {},
   "outputs": [],
   "source": [
    "1-g2_MonteCarlo[0]/g2_exact[0]"
   ]
  },
  {
   "cell_type": "code",
   "execution_count": null,
   "metadata": {},
   "outputs": [],
   "source": [
    "g2_of_zero_subspace_approach(r, R1, R2, Beta1D_steady_state, Beta2D_steady_state, separated = True )"
   ]
  },
  {
   "cell_type": "code",
   "execution_count": null,
   "metadata": {},
   "outputs": [],
   "source": [
    "4*g2_of_zero_subspace_approach(r, R1, R2, Beta1D_steady_state, Beta2D_steady_state, separated = False )"
   ]
  },
  {
   "cell_type": "markdown",
   "metadata": {},
   "source": [
    "### Benchmarking optimized and for-loops equations"
   ]
  },
  {
   "cell_type": "markdown",
   "metadata": {},
   "source": [
    "\\begin{equation} \\langle{\\psi(t)}| E^*\tE | {\\psi(t)} \\rangle = \\sum_{n, \\tilde{n}} e^{i(\\phi^*_{\\tilde{n}} - \\phi_{n})} \\beta^*_{\\tilde{n}}(t) \\beta_n(t) +  \\sum_{\\tilde{m}, n, m}  e^{-i(\\phi_m - \\phi^*_{\\tilde{m}})}\\left(\\beta^*_{n\\tilde{m}}(t) + \\beta^*_{\\tilde{m}n}(t) \\right)\\left(\\beta_{nm}(t) + \\beta_{mn}(t) \\right) \\end{equation}\n",
    "\n",
    "\\begin{equation} \\langle{\\psi(t)}| E^*\tE | {\\psi(t)} \\rangle = \\left|\\sum_{n}  e^{-i\\phi_{n}} \\beta_n(t) \\right|^2 +  \\sum_{\\tilde{m}, n, m}  e^{-i(\\phi_m - \\phi^*_{\\tilde{m}})}\\left(\\beta^*_{n\\tilde{m}}(t) + \\beta^*_{\\tilde{m}n}(t) \\right)\\left(\\beta_{nm}(t) + \\beta_{mn}(t) \\right) \\end{equation}\n",
    "\n",
    "\\begin{equation} \\langle{\\psi(t)}| E^*\tE | {\\psi(t)} \\rangle = \\left|\\sum_{n}  e^{-i\\phi_{n}} \\beta_n(t) \\right|^2+  4\\sum_{\\tilde{m}, n, m}  e^{-i(\\phi_m - \\phi^*_{\\tilde{m}})}\\left(\\beta^*_{n\\tilde{m}}(t)\\beta_{nm}(t) \\right)\\end{equation}\n",
    "\n",
    "Other normalization: \n",
    "\n",
    "\\begin{equation} \\langle{\\psi(t)}| E^*\tE | {\\psi(t)} \\rangle = \\left|\\sum_{n}  e^{-i\\phi_{n}} \\beta_n(t) \\right|^2 +  \\sum_{n,m,j} \\beta_{nm}(t) \\bigg(   e^{-i(\\phi_{n}-\\phi^*_{j})} \\left(    \\beta^*_{jm}(t) + \\beta^*_{mj}(t) \\right) + e^{-i(\\phi_{m}-\\phi^*_{j})} \\left( \\beta^*_{jn}(t) + \\beta^*_{nj}(t)\\right) \\bigg) \\end{equation}"
   ]
  },
  {
   "cell_type": "markdown",
   "metadata": {},
   "source": [
    "Testing values:"
   ]
  },
  {
   "cell_type": "code",
   "execution_count": null,
   "metadata": {},
   "outputs": [],
   "source": [
    "N_atoms = N = 6\n",
    "b0 = 0.1\n",
    "r = random_cloud(0, N, exc_radius = None, b0 = b0)\n",
    "R1 = get_nhat_from_angle(25)\n",
    "\n",
    "tf = 3\n",
    "Omega = 0.1\n",
    "Delta = 20\n",
    "t_span, dt = np.linspace(0,tf,100, retstep = True) \n"
   ]
  },
  {
   "cell_type": "markdown",
   "metadata": {},
   "source": [
    "Phases: $e^{-i(\\phi_m - \\phi^*_{\\tilde{m}})}$ matrix  and $e^{-i(\\phi_m)}$ vector column"
   ]
  },
  {
   "cell_type": "code",
   "execution_count": null,
   "metadata": {},
   "outputs": [],
   "source": [
    "#phases\n",
    "n = R1\n",
    "phase = np.exp(-1j*n.T @ r)\n",
    "phases_difference = np.exp(-1j*(np.reshape(np.subtract.outer(n.T @ r, n.T @ r), [N,N])))\n",
    "\n",
    "\n",
    "print( \"Implemented \", phases_difference[0][1])\n",
    "print( \"Exact \", phase[0,0]*phase.conj()[0,1])"
   ]
  },
  {
   "cell_type": "markdown",
   "metadata": {},
   "source": [
    " Sandwich E, first term: $\\sum_{n, \\tilde{n}} e^{i(\\phi^*_{\\tilde{n}} - \\phi_{n})} \\beta^*_{\\tilde{n}}(t) \\beta_n(t)$ and $\\left|\\sum_{n}  e^{-i\\phi_{n}} \\beta_n(t) \\right|^2 $"
   ]
  },
  {
   "cell_type": "code",
   "execution_count": null,
   "metadata": {},
   "outputs": [],
   "source": [
    "# Sandwich E: first term\n",
    "Delta1D, Omega1D, Gamma2D, Delta2D  = GetAllODEParametersGiven_r(Omega, Delta, r, beam = \"plane-wave\", scalar = True)\n",
    "Beta1D_t, Beta2D_t, t_span, r = SolveForBeta1DandBeta2D_optimized(N, kd = None , b0 = None, exc_radius = None, Delta = Delta , Omega = Omega, wave_mixing = True, scalar = True, interaction = True, r = r, t_span =t_span)  \n",
    "Beta1D, Beta2D = Beta1D_t[-1], Beta2D_t[-1]\n",
    "\n",
    "s1 = 0\n",
    "s2 = 0\n",
    "for n in range(N):\n",
    "    s2 += phase[0, n]*Beta1D[n]\n",
    "    for m in range(N):\n",
    "        s1 += phase[0,n]*phase.conj()[0,m]*Beta1D.conj()[m]*Beta1D[n]\n",
    "        #s1 += phases_difference[m][n]*Beta1D.conj()[n]*Beta1D[m]\n",
    "\n",
    "            \n",
    "print( \"Exact two loop\", s1)   \n",
    "print( \"Exact one loop\", np.abs(s2)**2)            \n",
    "\n",
    "print( \"Optimized\", np.abs(np.einsum(\"ij,kj->i\",np.reshape(Beta1D, [1, N]), phase))**2)"
   ]
  },
  {
   "cell_type": "markdown",
   "metadata": {},
   "source": [
    "Sandwich E, second term\n",
    "$4\\sum_{\\tilde{m}, n, m}  e^{-i(\\phi_m - \\phi^*_{\\tilde{m}})}\\left(\\beta^*_{n\\tilde{m}}(t)\\beta_{nm}(t) \\right)$ and $ \\sum_{\\tilde{m}, n, m}  e^{-i(\\phi_m - \\phi^*_{\\tilde{m}})}\\left(\\beta^*_{n\\tilde{m}}(t) + \\beta^*_{\\tilde{m}n}(t) \\right)\\left(\\beta_{nm}(t) + \\beta_{mn}(t) \\right)  $"
   ]
  },
  {
   "cell_type": "code",
   "execution_count": null,
   "metadata": {},
   "outputs": [],
   "source": [
    "# Sandwich E: second term\n",
    "\n",
    "s3 = 0\n",
    "s4 = 0\n",
    "\n",
    "s_other_normalization = 0\n",
    "for n in range(N):\n",
    "    for m in range(N):\n",
    "        for j in range(N):\n",
    "            s_other_normalization += Beta2D[n][m]*( 2*phases_difference[n][j]*Beta2D[m][j].conj() + 2*phases_difference[m][j]*Beta2D[n][j].conj())\n",
    "            \n",
    "            \n",
    "            s3 += phases_difference[m][j]*(Beta2D[n][j].conj() + Beta2D[j][n].conj())*(Beta2D[n][m] + Beta2D[m][n])\n",
    "            s4 += 4*phases_difference[m][j]*(Beta2D[n][j].conj()*Beta2D[n][m] )\n",
    "            \n",
    "print(\"Exact \", s3)\n",
    "print(\"Exact \", s4)\n",
    "\n",
    "print( \"Optimized\", 4*np.einsum('mj,nj,nm', phases_difference,Beta2D.conj().T, Beta2D)) \n",
    "print( \"Other normalization\", s_other_normalization)"
   ]
  },
  {
   "cell_type": "markdown",
   "metadata": {},
   "source": [
    "Benchmarking projected state $2 \\sum_{n,m}  e^{-i\\phi_m}\\left(\\beta_{nm}(t) \\right)|{n}\\rangle$\n"
   ]
  },
  {
   "cell_type": "code",
   "execution_count": null,
   "metadata": {},
   "outputs": [],
   "source": [
    "beta_ij_tau_list = np.zeros([N], dtype = \"complex\")\n",
    "for n in range(N):\n",
    "    for m in range(N):\n",
    "        beta_ij_tau_list[n] += phase[0, m]*Beta2D[n][m]\n",
    "        \n",
    "        \n",
    "print(\"Exact\", beta_ij_tau_list)        \n",
    "print(\"Optimized\", np.einsum('ij,jk->i', Beta2D, phase.T))"
   ]
  },
  {
   "cell_type": "code",
   "execution_count": null,
   "metadata": {},
   "outputs": [],
   "source": []
  }
 ],
 "metadata": {
  "kernelspec": {
   "display_name": "Python 3",
   "language": "python",
   "name": "python3"
  },
  "language_info": {
   "codemirror_mode": {
    "name": "ipython",
    "version": 3
   },
   "file_extension": ".py",
   "mimetype": "text/x-python",
   "name": "python",
   "nbconvert_exporter": "python",
   "pygments_lexer": "ipython3",
   "version": "3.7.7"
  },
  "latex_envs": {
   "LaTeX_envs_menu_present": true,
   "autoclose": false,
   "autocomplete": true,
   "bibliofile": "biblio.bib",
   "cite_by": "apalike",
   "current_citInitial": 1,
   "eqLabelWithNumbers": true,
   "eqNumInitial": 1,
   "hotkeys": {
    "equation": "Ctrl-E",
    "itemize": "Ctrl-I"
   },
   "labels_anchors": false,
   "latex_user_defs": false,
   "report_style_numbering": false,
   "user_envs_cfg": false
  },
  "varInspector": {
   "cols": {
    "lenName": 16,
    "lenType": 16,
    "lenVar": 40
   },
   "kernels_config": {
    "python": {
     "delete_cmd_postfix": "",
     "delete_cmd_prefix": "del ",
     "library": "var_list.py",
     "varRefreshCmd": "print(var_dic_list())"
    },
    "r": {
     "delete_cmd_postfix": ") ",
     "delete_cmd_prefix": "rm(",
     "library": "var_list.r",
     "varRefreshCmd": "cat(var_dic_list()) "
    }
   },
   "types_to_exclude": [
    "module",
    "function",
    "builtin_function_or_method",
    "instance",
    "_Feature"
   ],
   "window_display": false
  }
 },
 "nbformat": 4,
 "nbformat_minor": 5
}
