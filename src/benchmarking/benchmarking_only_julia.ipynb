{
 "cells": [
  {
   "cell_type": "code",
   "execution_count": 14,
   "metadata": {},
   "outputs": [],
   "source": [
    "using DifferentialEquations, Random, LinearAlgebra, MKL, TensorOperations, DelimitedFiles, Plots"
   ]
  },
  {
   "cell_type": "code",
   "execution_count": 3,
   "metadata": {},
   "outputs": [
    {
     "data": {
      "text/plain": [
       "doubleExcitation_speedTuned (generic function with 1 method)"
      ]
     },
     "execution_count": 3,
     "metadata": {},
     "output_type": "execute_result"
    }
   ],
   "source": [
    "\n",
    "@views function doubleExcitation_memoryTuned(du, u, p, t)\n",
    "    N, G, Ωₗ, Γₗ, Δₗ, dβₖₗ = p\n",
    "    βₗ = u[1:N]\n",
    "    βₖₗ = reshape(u[N+1:end], N, N)\n",
    "\n",
    "    for l = 1:N\n",
    "        du[l] = (im * Δₗ[l] - Γₗ[l] / 2) * βₗ[l] - 0.5 * im * Ωₗ[l]  # v2\n",
    "    end\n",
    "    mul!(du[1:N], -G, βₗ) # du[1:N] .= - G*βₗ\n",
    "\n",
    "\n",
    "    for k = 1:N\n",
    "        Ωₖ = Ωₗ[k]\n",
    "        Gₖ = G[k, :]\n",
    "        βₖ_linha = βₖₗ[k, :]\n",
    "        βₖ = βₗ[k]\n",
    "        for l = 1:N\n",
    "            dβₖₗ[k, l] =\n",
    "                (im * (Δₗ[k] + Δₗ[l]) - 0.5 * (Γₗ[k] + Γₗ[l])) * βₖₗ[k, l] -\n",
    "                0.5im * (Ωₗ[l] * βₖ + Ωₗ[k] * βₗ[l]) - dot(G[l, :], βₖ_linha) -\n",
    "                dot(Gₖ, βₖₗ[:, l])\n",
    "        end\n",
    "    end\n",
    "    du[N+1:end] .= dβₖₗ[:]\n",
    "\n",
    "    return nothing\n",
    "end\n",
    "\n",
    "\n",
    "\n",
    "function doubleExcitation_speedTuned(du, u, p, t)\n",
    "    N, G, Ωₗ, Γₗ, Δₗ, rightIndex, _temp = p\n",
    "    βₗ = u[1:N]\n",
    "    βₖₗ = reshape(u[N+1:end], N, N)\n",
    "\n",
    "    for l = 1:N\n",
    "        du[l] = (im * Δₗ[l] - Γₗ[l] / 2) * βₗ[l] - 0.5 * im * Ωₗ[l]\n",
    "    end\n",
    "    mul!(du[1:N], G, βₗ)\n",
    "\n",
    "    @tensor begin\n",
    "        _temp[k, l] = G[l, m] * βₖₗ[k, m] + G[k, m] * βₖₗ[m, l]\n",
    "    end\n",
    "\n",
    "    for k = 1:N\n",
    "        for l = 1:N\n",
    "            du[N+rightIndex[k, l]] =\n",
    "                (im * (Δₗ[k] + Δₗ[l]) - 0.5 * (Γₗ[k] + Γₗ[l])) * βₖₗ[k, l] -\n",
    "                0.5im * (Ωₗ[l] * βₗ[k] + Ωₗ[k] * βₗ[l]) + _temp[k, l]\n",
    "        end\n",
    "    end\n",
    "\n",
    "    return nothing\n",
    "end\n",
    "\n",
    "\n",
    "\n",
    "\n",
    "\n",
    "\n"
   ]
  },
  {
   "cell_type": "code",
   "execution_count": 71,
   "metadata": {},
   "outputs": [
    {
     "data": {
      "text/plain": [
       "benchmark_test (generic function with 1 method)"
      ]
     },
     "execution_count": 71,
     "metadata": {},
     "output_type": "execute_result"
    }
   ],
   "source": [
    "function benchmark_test(p)\n",
    "        N, G, Ωₗ, Γₗ, Δₗ = p\n",
    "        #G = rand(ComplexF64, N, N);\n",
    "        G[diagind(G)] .= 0 # avoid the case \"m ≠ l\"  for dot product\n",
    "        G .= -G  # avoid an extra operation of negative (\"-\") inside the TensorOperations\n",
    "\n",
    "        #Ωₗ = rand(ComplexF64, N)\n",
    "        #Γₗ = rand(ComplexF64, N)\n",
    "        #Δₗ = rand(N)\n",
    "        rightIndex = LinearIndices(G)\n",
    "        _temp = similar(G)\n",
    "\n",
    "\n",
    "        p_memory = N, G, Ωₗ, Γₗ, Δₗ, _temp\n",
    "        p_speed = N, G, Ωₗ, Γₗ, Δₗ, rightIndex, _temp\n",
    "\n",
    "        u0 = rand(ComplexF64, N + N^2)*0\n",
    "\n",
    "        prob_memory = ODEProblem(doubleExcitation_memoryTuned, u0, (0.0, 10.0), p_memory)\n",
    "        prob_speed = ODEProblem(doubleExcitation_speedTuned, u0, (0.0, 10.0), p_speed)\n",
    "\n",
    "        sol_memory  = solve(prob_memory, saveat=0.05) #\n",
    "        sol_speed   = solve(prob_speed, saveat=0.05)\n",
    "        sol = sol_speed\n",
    "\n",
    "        t  = sol.t\n",
    "        #print(length(t))\n",
    "\n",
    "        β_full = sol.u\n",
    "        \n",
    "        β_full = reduce(hcat,β_full)\n",
    "        #print(length(βₗ))\n",
    "        #βₖₗ = [reshape(sol.u[i][N+1:end], N, N) for i in 1:length(sol.u)]\n",
    "\n",
    "\n",
    "        #printls(p_memory[:length(p_memory)-1])\n",
    "\n",
    "        \n",
    "        #writedlm(\"../time_test.csv\", t, \",\")\n",
    "        #writedlm(\"../beta_full_test.csv\", β_full, \",\")\n",
    "        \n",
    "        return t, β_full, sol\n",
    "end\n",
    "\n",
    "\n",
    "#N = 2\n",
    "#G = ComplexF64[[0.5 0.5]; [0.5 0.5]]\n",
    "#Γₗ= ComplexF64[1, 1]\n",
    "#Ωₗ= Float64[0.1, 0.1 ]\n",
    "#Δₗ= Float64[20,20 ]\n",
    "#\t\t\n",
    "#p = N, G, Ωₗ, Γₗ, Δₗ \n",
    "#\n",
    "#benchmark_test(p)\n",
    "#\n"
   ]
  },
  {
   "cell_type": "code",
   "execution_count": 72,
   "metadata": {},
   "outputs": [
    {
     "data": {
      "text/plain": [
       "2×2 Matrix{ComplexF64}:\n",
       "   1.0+0.0im  -0.06+0.8im\n",
       " -0.06+0.8im    0.5+0.0im"
      ]
     },
     "execution_count": 72,
     "metadata": {},
     "output_type": "execute_result"
    }
   ],
   "source": [
    "G = ComplexF64[[1 -0.06+0.8im]; [-0.06 + 0.8im 0.5]]"
   ]
  },
  {
   "cell_type": "code",
   "execution_count": 73,
   "metadata": {},
   "outputs": [
    {
     "data": {
      "text/plain": [
       "(2, ComplexF64[1.0 + 0.0im -0.006 + 0.8im; -0.006 + 0.8im 1.0 + 0.0im], [-0.08, 0.03], ComplexF64[2.0 + 0.0im, 2.0 + 0.0im], [20.0, 20.0])"
      ]
     },
     "execution_count": 73,
     "metadata": {},
     "output_type": "execute_result"
    }
   ],
   "source": [
    "N = 2\n",
    "G = ComplexF64[[1 -0.006+0.8im]; [-0.006 + 0.8im 1]]\n",
    "Γₗ= ComplexF64[2, 2]\n",
    "Ωₗ= Float64[-0.08, 0.03 ]\n",
    "Δₗ= Float64[20.0,20.0 ]\n",
    "\n",
    "p = N, G, Ωₗ, Γₗ, Δₗ "
   ]
  },
  {
   "cell_type": "code",
   "execution_count": 74,
   "metadata": {},
   "outputs": [
    {
     "data": {
      "text/plain": [
       "([0.0, 0.05, 0.1, 0.15, 0.2, 0.25, 0.3, 0.35, 0.4, 0.45  …  9.55, 9.6, 9.65, 9.7, 9.75, 9.8, 9.85, 9.9, 9.95, 10.0], ComplexF64[0.0 + 0.0im -0.0008898293332511651 + 0.0016453553900826075im … -0.0019950614136181833 + 9.966909985263473e-5im -0.0019949723710093077 + 9.966954720125811e-5im; 0.0 + 0.0im 0.00033368599996918684 - 0.0006170082712809779im … 0.0007481480301068186 - 3.737591244473828e-5im 0.0007481146391284905 - 3.737608020047201e-5im; … ; 0.0 + 0.0im 6.675360369614818e-7 + 1.1140023574736164e-6im … -1.4141627836769362e-6 + 1.6632112888340622e-7im -1.418517529218873e-6 + 1.1383220860901882e-7im; 0.0 + 0.0im -2.3589226869156772e-7 - 4.216498537305787e-7im … 5.157191544029217e-7 - 7.776485601569186e-8im 5.201401689518672e-7 - 2.5272842342094158e-8im], OrdinaryDiffEq.ODECompositeSolution{ComplexF64, 2, Vector{Vector{ComplexF64}}, Nothing, Nothing, Vector{Float64}, Vector{Vector{Vector{ComplexF64}}}, ODEProblem{Vector{ComplexF64}, Tuple{Float64, Float64}, true, Tuple{Int64, Matrix{ComplexF64}, Vector{Float64}, Vector{ComplexF64}, Vector{Float64}, LinearIndices{2, Tuple{Base.OneTo{Int64}, Base.OneTo{Int64}}}, Matrix{ComplexF64}}, ODEFunction{true, typeof(doubleExcitation_speedTuned), UniformScaling{Bool}, Nothing, Nothing, Nothing, Nothing, Nothing, Nothing, Nothing, Nothing, Nothing, Nothing, Nothing, Nothing, typeof(SciMLBase.DEFAULT_OBSERVED), Nothing}, Base.Pairs{Symbol, Union{}, Tuple{}, NamedTuple{(), Tuple{}}}, SciMLBase.StandardODEProblem}, CompositeAlgorithm{Tuple{Vern9, Rodas5{6, false, GenericLUFactorization{RowMaximum}, typeof(OrdinaryDiffEq.DEFAULT_PRECS), Val{:forward}, true, nothing}}, OrdinaryDiffEq.AutoSwitchCache{Vern9, Rodas5{0, false, Nothing, typeof(OrdinaryDiffEq.DEFAULT_PRECS), Val{:forward}, true, nothing}, Rational{Int64}, Int64}}, OrdinaryDiffEq.CompositeInterpolationData{ODEFunction{true, typeof(doubleExcitation_speedTuned), UniformScaling{Bool}, Nothing, Nothing, Nothing, Nothing, Nothing, Nothing, Nothing, Nothing, Nothing, Nothing, Nothing, Nothing, typeof(SciMLBase.DEFAULT_OBSERVED), Nothing}, Vector{Vector{ComplexF64}}, Vector{Float64}, Vector{Vector{Vector{ComplexF64}}}, OrdinaryDiffEq.CompositeCache{Tuple{OrdinaryDiffEq.Vern9Cache{Vector{ComplexF64}, Vector{ComplexF64}, Vector{ComplexF64}, OrdinaryDiffEq.Vern9Tableau{Float64, Float64}}, OrdinaryDiffEq.Rosenbrock5Cache{Vector{ComplexF64}, Vector{ComplexF64}, Vector{ComplexF64}, Matrix{ComplexF64}, Matrix{ComplexF64}, OrdinaryDiffEq.Rodas5Tableau{Float64, Float64}, SciMLBase.TimeGradientWrapper{ODEFunction{true, typeof(doubleExcitation_speedTuned), UniformScaling{Bool}, Nothing, Nothing, Nothing, Nothing, Nothing, Nothing, Nothing, Nothing, Nothing, Nothing, Nothing, Nothing, typeof(SciMLBase.DEFAULT_OBSERVED), Nothing}, Vector{ComplexF64}, Tuple{Int64, Matrix{ComplexF64}, Vector{Float64}, Vector{ComplexF64}, Vector{Float64}, LinearIndices{2, Tuple{Base.OneTo{Int64}, Base.OneTo{Int64}}}, Matrix{ComplexF64}}}, SciMLBase.UJacobianWrapper{ODEFunction{true, typeof(doubleExcitation_speedTuned), UniformScaling{Bool}, Nothing, Nothing, Nothing, Nothing, Nothing, Nothing, Nothing, Nothing, Nothing, Nothing, Nothing, Nothing, typeof(SciMLBase.DEFAULT_OBSERVED), Nothing}, Float64, Tuple{Int64, Matrix{ComplexF64}, Vector{Float64}, Vector{ComplexF64}, Vector{Float64}, LinearIndices{2, Tuple{Base.OneTo{Int64}, Base.OneTo{Int64}}}, Matrix{ComplexF64}}}, LinearSolve.LinearCache{Matrix{ComplexF64}, Vector{ComplexF64}, Vector{ComplexF64}, SciMLBase.NullParameters, GenericLUFactorization{RowMaximum}, LU{ComplexF64, Matrix{ComplexF64}}, LinearSolve.InvPreconditioner{Diagonal{ComplexF64, Vector{ComplexF64}}}, Diagonal{ComplexF64, Vector{ComplexF64}}, Float64}, FiniteDiff.JacobianCache{Vector{ComplexF64}, Vector{ComplexF64}, Vector{ComplexF64}, UnitRange{Int64}, Nothing, Val{:forward}(), ComplexF64}, FiniteDiff.GradientCache{Nothing, Vector{ComplexF64}, Vector{ComplexF64}, Float64, Val{:forward}(), ComplexF64, Val{true}()}, Float64, Rodas5{6, false, GenericLUFactorization{RowMaximum}, typeof(OrdinaryDiffEq.DEFAULT_PRECS), Val{:forward}, true, nothing}}}, OrdinaryDiffEq.AutoSwitchCache{Vern9, Rodas5{0, false, Nothing, typeof(OrdinaryDiffEq.DEFAULT_PRECS), Val{:forward}, true, nothing}, Rational{Int64}, Int64}}}, DiffEqBase.DEStats}(Vector{ComplexF64}[[0.0 + 0.0im, 0.0 + 0.0im, 0.0 + 0.0im, 0.0 + 0.0im, 0.0 + 0.0im, 0.0 + 0.0im], [-0.0008898293332511651 + 0.0016453553900826075im, 0.00033368599996918684 - 0.0006170082712809779im, -1.8819619358180484e-6 - 2.9380637446935888e-6im, 6.675360369614818e-7 + 1.1140023574736164e-6im, 6.675360369614818e-7 + 1.1140023574736164e-6im, -2.3589226869156772e-7 - 4.216498537305787e-7im], [-0.002664153453925579 + 0.0017787403239824247im, 0.000999057545222092 - 0.0006670276214934093im, 4.047305943557537e-6 - 9.302610976859798e-6im, -1.6587656696629987e-6 + 3.2915423962211677e-6im, -1.6587656696629987e-6 + 3.2915423962211677e-6im, 6.665628140830522e-7 - 1.1577055417995902e-6im], [-0.0036828354448165744 + 0.00042706794829818113im, 0.0013810632918062156 - 0.0001601504806118181im, 1.3081337375677936e-5 - 2.8207992762010256e-6im, -4.580454089780063e-6 + 6.482033512455112e-7im, -4.580454089780063e-6 + 6.482033512455112e-7im, 1.5822132489356598e-6 - 1.1790813613460524e-7im], [-0.0031244667604515513 - 0.0010830115798363233im, 0.001171675035169332 + 0.00040612934243862127im, 8.148157603326972e-6 + 6.468341277453686e-6im, -2.476648643630576e-6 - 2.1231412614978243e-6im, -2.476648643630576e-6 - 2.1231412614978243e-6im, 7.671131279016134e-7 + 6.528270058710176e-7im], [-0.0016287765684489144 - 0.001412183023364845im, 0.0006107912131683431 + 0.0005295686337618172im, 9.411700180121833e-7 + 4.275388450389373e-6im, -6.268798459429579e-7 - 1.121787178824351e-6im, -6.268798459429579e-7 - 1.121787178824351e-6im, 3.744209002625948e-7 + 3.221361561493952e-7im], [-0.0005965851485591197 - 0.0003841629756690804im, 0.00022371943070966972 + 0.00014406111587590554im, 3.148935813156679e-7 + 7.880670298576429e-7im, -3.825946169361298e-7 - 6.430988957032979e-7im, -3.825946169361298e-7 - 6.430988957032979e-7im, 1.364647722523053e-7 + 3.928240054920242e-7im], [-0.0008889489846644709 + 0.0009703884620787935im, 0.0003333558692491761 - 0.00036389567327954744im, -4.592796704838795e-7 - 1.7968011988002185e-6im, 5.405880181767743e-7 + 5.914285965807961e-7im, 5.405880181767743e-7 + 5.914285965807961e-7im, -3.2716237234926964e-7 - 3.133017373411636e-7im], [-0.00212343585643082 + 0.0014325445437208923im, 0.0007962884461615573 - 0.0005372042038953349im, 2.7254797107622194e-6 - 6.211251796239155e-6im, -1.17076238221755e-6 + 2.553193702710218e-6im, -1.17076238221755e-6 + 2.553193702710218e-6im, 6.116072356292756e-7 - 9.808005986968403e-7im], [-0.003127826514649249 + 0.0006819473726394919im, 0.0011729349429934683 - 0.0002557302647398099im, 9.253417993485035e-6 - 3.7573842033793134e-6im, -3.5449425627344938e-6 + 9.419932462398181e-7im, -3.5449425627344938e-6 + 9.419932462398181e-7im, 1.243488551228804e-6 - 9.664097314989438e-8im]  …  [-0.0019951221815803677 + 9.984057282195954e-5im, 0.0007481708180926374 - 3.7440214808234724e-5im, 3.9494086294881075e-6 - 3.845048699828668e-7im, -1.4357119064136592e-6 + 1.3083713100542675e-7im, -1.4357119064136592e-6 + 1.3083713100542675e-7im, 5.372068799006565e-7 - 4.2119743590180334e-8im], [-0.001995140851725577 + 9.970903357622972e-5im, 0.000748177819397091 - 3.7390887591086485e-5im, 3.889188388913149e-6 - 3.611141413341504e-7im, -1.3754285685153478e-6 + 1.078027092512789e-7im, -1.3754285685153478e-6 + 1.078027092512789e-7im, 4.769041877939452e-7 - 1.9220368094390193e-8im], [-0.001995045161604908 + 9.962648937562077e-5im, 0.0007481419356018404 - 3.7359933515858276e-5im, 3.910763579995457e-6 - 4.2486053409412705e-7im, -1.397254978849452e-6 + 1.7175998532268072e-7im, -1.397254978849452e-6 + 1.7175998532268072e-7im, 4.988270399304782e-7 - 8.32399797236311e-8im], [-0.001994929909992367 + 9.966065803145077e-5im, 0.0007480987162471381 - 3.737274676179436e-5im, 3.950553325678433e-6 - 3.7556708416607826e-7im, -1.437326765247151e-6 + 1.2238558226728399e-7im, -1.437326765247151e-6 + 1.2238558226728399e-7im, 5.389826091776263e-7 - 3.3832223776574076e-8im], [-0.0019948980295344514 + 9.977046793402158e-5im, 0.0007480867610754198 - 3.7413925475257935e-5im, 3.880569690065212e-6 - 3.7680596650604144e-7im, -1.3674415409895657e-6 + 1.2336698749170586e-7im, -1.3674415409895657e-6 + 1.2336698749170586e-7im, 4.691319967328873e-7 - 3.4739102172231726e-8im], [-0.0019949695371282317 + 9.985242305202475e-5im, 0.0007481135764230869 - 3.7444658644508755e-5im, 3.91532511288793e-6 - 4.2910126559393805e-7im, -1.402039001213585e-6 + 1.75433358189998e-7im, -1.402039001213585e-6 + 1.75433358189998e-7im, 5.036849911611511e-7 - 8.672172889886179e-8im], [-0.0019950718868682817 + 9.983730412822445e-5im, 0.0007481519575756052 - 3.743898904808379e-5im, 3.937663463544148e-6 - 3.6144977753418825e-7im, -1.4240968280766764e-6 + 1.0779975131912444e-7im, -1.4240968280766764e-6 + 1.0779975131912444e-7im, 5.256369636329707e-7 - 1.9089881847196308e-8im], [-0.001995112388437945 + 9.974761424560276e-5im, 0.0007481671456642288 - 3.740535534210111e-5im, 3.879339553259246e-6 - 3.7946109658926006e-7im, -1.3656585350419708e-6 + 1.260508141926556e-7im, -1.3656585350419708e-6 + 1.260508141926556e-7im, 4.6716118325788216e-7 - 3.7432452614530926e-8im], [-0.0019950614136181833 + 9.966909985263473e-5im, 0.0007481480301068186 - 3.737591244473828e-5im, 3.9277108129233374e-6 - 4.1953160389260887e-7im, -1.4141627836769362e-6 + 1.6632112888340622e-7im, -1.4141627836769362e-6 + 1.6632112888340622e-7im, 5.157191544029217e-7 - 7.776485601569186e-8im], [-0.0019949723710093077 + 9.966954720125811e-5im, 0.0007481146391284905 - 3.737608020047201e-5im, 3.931848385329149e-6 - 3.670385401110231e-7im, -1.418517529218873e-6 + 1.1383220860901882e-7im, -1.418517529218873e-6 + 1.1383220860901882e-7im, 5.201401689518672e-7 - 2.5272842342094158e-8im]], nothing, nothing, [0.0, 0.05, 0.1, 0.15, 0.2, 0.25, 0.3, 0.35, 0.4, 0.45  …  9.55, 9.6, 9.65, 9.7, 9.75, 9.8, 9.85, 9.9, 9.95, 10.0], Vector{Vector{ComplexF64}}[[[0.0 + 0.0im, 0.0 + 0.0im, 0.0 + 0.0im, 0.0 + 0.0im, 0.0 + 0.0im, 0.0 + 0.0im]]], ODEProblem{Vector{ComplexF64}, Tuple{Float64, Float64}, true, Tuple{Int64, Matrix{ComplexF64}, Vector{Float64}, Vector{ComplexF64}, Vector{Float64}, LinearIndices{2, Tuple{Base.OneTo{Int64}, Base.OneTo{Int64}}}, Matrix{ComplexF64}}, ODEFunction{true, typeof(doubleExcitation_speedTuned), UniformScaling{Bool}, Nothing, Nothing, Nothing, Nothing, Nothing, Nothing, Nothing, Nothing, Nothing, Nothing, Nothing, Nothing, typeof(SciMLBase.DEFAULT_OBSERVED), Nothing}, Base.Pairs{Symbol, Union{}, Tuple{}, NamedTuple{(), Tuple{}}}, SciMLBase.StandardODEProblem}(ODEFunction{true, typeof(doubleExcitation_speedTuned), UniformScaling{Bool}, Nothing, Nothing, Nothing, Nothing, Nothing, Nothing, Nothing, Nothing, Nothing, Nothing, Nothing, Nothing, typeof(SciMLBase.DEFAULT_OBSERVED), Nothing}(doubleExcitation_speedTuned, UniformScaling{Bool}(true), nothing, nothing, nothing, nothing, nothing, nothing, nothing, nothing, nothing, nothing, nothing, nothing, SciMLBase.DEFAULT_OBSERVED, nothing), ComplexF64[0.0 + 0.0im, 0.0 + 0.0im, 0.0 + 0.0im, 0.0 + 0.0im, 0.0 + 0.0im, 0.0 + 0.0im], (0.0, 10.0), (2, ComplexF64[-0.0 - 0.0im 0.006 - 0.8im; 0.006 - 0.8im -0.0 - 0.0im], [-0.08, 0.03], ComplexF64[2.0 + 0.0im, 2.0 + 0.0im], [20.0, 20.0], [1 3; 2 4], ComplexF64[1.6702782205483063e-7 + 2.2764444631623753e-6im -2.890521640271658e-7 - 3.5694028031728474e-6im; -2.890521640271658e-7 - 3.5694028031728474e-6im 1.6702782205483063e-7 + 2.2764444631623753e-6im]), Base.Pairs{Symbol, Union{}, Tuple{}, NamedTuple{(), Tuple{}}}(), SciMLBase.StandardODEProblem()), CompositeAlgorithm{Tuple{Vern9, Rodas5{6, false, GenericLUFactorization{RowMaximum}, typeof(OrdinaryDiffEq.DEFAULT_PRECS), Val{:forward}, true, nothing}}, OrdinaryDiffEq.AutoSwitchCache{Vern9, Rodas5{0, false, Nothing, typeof(OrdinaryDiffEq.DEFAULT_PRECS), Val{:forward}, true, nothing}, Rational{Int64}, Int64}}((Vern9(true), Rodas5{6, false, GenericLUFactorization{RowMaximum}, typeof(OrdinaryDiffEq.DEFAULT_PRECS), Val{:forward}, true, nothing}(GenericLUFactorization{RowMaximum}(RowMaximum()), OrdinaryDiffEq.DEFAULT_PRECS)), OrdinaryDiffEq.AutoSwitchCache{Vern9, Rodas5{0, false, Nothing, typeof(OrdinaryDiffEq.DEFAULT_PRECS), Val{:forward}, true, nothing}, Rational{Int64}, Int64}(-115, 115, Vern9(true), Rodas5{0, false, Nothing, typeof(OrdinaryDiffEq.DEFAULT_PRECS), Val{:forward}, true, nothing}(nothing, OrdinaryDiffEq.DEFAULT_PRECS), false, 10, 3, 9//10, 9//10, 2, false, 5)), OrdinaryDiffEq.CompositeInterpolationData{ODEFunction{true, typeof(doubleExcitation_speedTuned), UniformScaling{Bool}, Nothing, Nothing, Nothing, Nothing, Nothing, Nothing, Nothing, Nothing, Nothing, Nothing, Nothing, Nothing, typeof(SciMLBase.DEFAULT_OBSERVED), Nothing}, Vector{Vector{ComplexF64}}, Vector{Float64}, Vector{Vector{Vector{ComplexF64}}}, OrdinaryDiffEq.CompositeCache{Tuple{OrdinaryDiffEq.Vern9Cache{Vector{ComplexF64}, Vector{ComplexF64}, Vector{ComplexF64}, OrdinaryDiffEq.Vern9Tableau{Float64, Float64}}, OrdinaryDiffEq.Rosenbrock5Cache{Vector{ComplexF64}, Vector{ComplexF64}, Vector{ComplexF64}, Matrix{ComplexF64}, Matrix{ComplexF64}, OrdinaryDiffEq.Rodas5Tableau{Float64, Float64}, SciMLBase.TimeGradientWrapper{ODEFunction{true, typeof(doubleExcitation_speedTuned), UniformScaling{Bool}, Nothing, Nothing, Nothing, Nothing, Nothing, Nothing, Nothing, Nothing, Nothing, Nothing, Nothing, Nothing, typeof(SciMLBase.DEFAULT_OBSERVED), Nothing}, Vector{ComplexF64}, Tuple{Int64, Matrix{ComplexF64}, Vector{Float64}, Vector{ComplexF64}, Vector{Float64}, LinearIndices{2, Tuple{Base.OneTo{Int64}, Base.OneTo{Int64}}}, Matrix{ComplexF64}}}, SciMLBase.UJacobianWrapper{ODEFunction{true, typeof(doubleExcitation_speedTuned), UniformScaling{Bool}, Nothing, Nothing, Nothing, Nothing, Nothing, Nothing, Nothing, Nothing, Nothing, Nothing, Nothing, Nothing, typeof(SciMLBase.DEFAULT_OBSERVED), Nothing}, Float64, Tuple{Int64, Matrix{ComplexF64}, Vector{Float64}, Vector{ComplexF64}, Vector{Float64}, LinearIndices{2, Tuple{Base.OneTo{Int64}, Base.OneTo{Int64}}}, Matrix{ComplexF64}}}, LinearSolve.LinearCache{Matrix{ComplexF64}, Vector{ComplexF64}, Vector{ComplexF64}, SciMLBase.NullParameters, GenericLUFactorization{RowMaximum}, LU{ComplexF64, Matrix{ComplexF64}}, LinearSolve.InvPreconditioner{Diagonal{ComplexF64, Vector{ComplexF64}}}, Diagonal{ComplexF64, Vector{ComplexF64}}, Float64}, FiniteDiff.JacobianCache{Vector{ComplexF64}, Vector{ComplexF64}, Vector{ComplexF64}, UnitRange{Int64}, Nothing, Val{:forward}(), ComplexF64}, FiniteDiff.GradientCache{Nothing, Vector{ComplexF64}, Vector{ComplexF64}, Float64, Val{:forward}(), ComplexF64, Val{true}()}, Float64, Rodas5{6, false, GenericLUFactorization{RowMaximum}, typeof(OrdinaryDiffEq.DEFAULT_PRECS), Val{:forward}, true, nothing}}}, OrdinaryDiffEq.AutoSwitchCache{Vern9, Rodas5{0, false, Nothing, typeof(OrdinaryDiffEq.DEFAULT_PRECS), Val{:forward}, true, nothing}, Rational{Int64}, Int64}}}(ODEFunction{true, typeof(doubleExcitation_speedTuned), UniformScaling{Bool}, Nothing, Nothing, Nothing, Nothing, Nothing, Nothing, Nothing, Nothing, Nothing, Nothing, Nothing, Nothing, typeof(SciMLBase.DEFAULT_OBSERVED), Nothing}(doubleExcitation_speedTuned, UniformScaling{Bool}(true), nothing, nothing, nothing, nothing, nothing, nothing, nothing, nothing, nothing, nothing, nothing, nothing, SciMLBase.DEFAULT_OBSERVED, nothing), Vector{ComplexF64}[[0.0 + 0.0im, 0.0 + 0.0im, 0.0 + 0.0im, 0.0 + 0.0im, 0.0 + 0.0im, 0.0 + 0.0im], [-0.0008898293332511651 + 0.0016453553900826075im, 0.00033368599996918684 - 0.0006170082712809779im, -1.8819619358180484e-6 - 2.9380637446935888e-6im, 6.675360369614818e-7 + 1.1140023574736164e-6im, 6.675360369614818e-7 + 1.1140023574736164e-6im, -2.3589226869156772e-7 - 4.216498537305787e-7im], [-0.002664153453925579 + 0.0017787403239824247im, 0.000999057545222092 - 0.0006670276214934093im, 4.047305943557537e-6 - 9.302610976859798e-6im, -1.6587656696629987e-6 + 3.2915423962211677e-6im, -1.6587656696629987e-6 + 3.2915423962211677e-6im, 6.665628140830522e-7 - 1.1577055417995902e-6im], [-0.0036828354448165744 + 0.00042706794829818113im, 0.0013810632918062156 - 0.0001601504806118181im, 1.3081337375677936e-5 - 2.8207992762010256e-6im, -4.580454089780063e-6 + 6.482033512455112e-7im, -4.580454089780063e-6 + 6.482033512455112e-7im, 1.5822132489356598e-6 - 1.1790813613460524e-7im], [-0.0031244667604515513 - 0.0010830115798363233im, 0.001171675035169332 + 0.00040612934243862127im, 8.148157603326972e-6 + 6.468341277453686e-6im, -2.476648643630576e-6 - 2.1231412614978243e-6im, -2.476648643630576e-6 - 2.1231412614978243e-6im, 7.671131279016134e-7 + 6.528270058710176e-7im], [-0.0016287765684489144 - 0.001412183023364845im, 0.0006107912131683431 + 0.0005295686337618172im, 9.411700180121833e-7 + 4.275388450389373e-6im, -6.268798459429579e-7 - 1.121787178824351e-6im, -6.268798459429579e-7 - 1.121787178824351e-6im, 3.744209002625948e-7 + 3.221361561493952e-7im], [-0.0005965851485591197 - 0.0003841629756690804im, 0.00022371943070966972 + 0.00014406111587590554im, 3.148935813156679e-7 + 7.880670298576429e-7im, -3.825946169361298e-7 - 6.430988957032979e-7im, -3.825946169361298e-7 - 6.430988957032979e-7im, 1.364647722523053e-7 + 3.928240054920242e-7im], [-0.0008889489846644709 + 0.0009703884620787935im, 0.0003333558692491761 - 0.00036389567327954744im, -4.592796704838795e-7 - 1.7968011988002185e-6im, 5.405880181767743e-7 + 5.914285965807961e-7im, 5.405880181767743e-7 + 5.914285965807961e-7im, -3.2716237234926964e-7 - 3.133017373411636e-7im], [-0.00212343585643082 + 0.0014325445437208923im, 0.0007962884461615573 - 0.0005372042038953349im, 2.7254797107622194e-6 - 6.211251796239155e-6im, -1.17076238221755e-6 + 2.553193702710218e-6im, -1.17076238221755e-6 + 2.553193702710218e-6im, 6.116072356292756e-7 - 9.808005986968403e-7im], [-0.003127826514649249 + 0.0006819473726394919im, 0.0011729349429934683 - 0.0002557302647398099im, 9.253417993485035e-6 - 3.7573842033793134e-6im, -3.5449425627344938e-6 + 9.419932462398181e-7im, -3.5449425627344938e-6 + 9.419932462398181e-7im, 1.243488551228804e-6 - 9.664097314989438e-8im]  …  [-0.0019951221815803677 + 9.984057282195954e-5im, 0.0007481708180926374 - 3.7440214808234724e-5im, 3.9494086294881075e-6 - 3.845048699828668e-7im, -1.4357119064136592e-6 + 1.3083713100542675e-7im, -1.4357119064136592e-6 + 1.3083713100542675e-7im, 5.372068799006565e-7 - 4.2119743590180334e-8im], [-0.001995140851725577 + 9.970903357622972e-5im, 0.000748177819397091 - 3.7390887591086485e-5im, 3.889188388913149e-6 - 3.611141413341504e-7im, -1.3754285685153478e-6 + 1.078027092512789e-7im, -1.3754285685153478e-6 + 1.078027092512789e-7im, 4.769041877939452e-7 - 1.9220368094390193e-8im], [-0.001995045161604908 + 9.962648937562077e-5im, 0.0007481419356018404 - 3.7359933515858276e-5im, 3.910763579995457e-6 - 4.2486053409412705e-7im, -1.397254978849452e-6 + 1.7175998532268072e-7im, -1.397254978849452e-6 + 1.7175998532268072e-7im, 4.988270399304782e-7 - 8.32399797236311e-8im], [-0.001994929909992367 + 9.966065803145077e-5im, 0.0007480987162471381 - 3.737274676179436e-5im, 3.950553325678433e-6 - 3.7556708416607826e-7im, -1.437326765247151e-6 + 1.2238558226728399e-7im, -1.437326765247151e-6 + 1.2238558226728399e-7im, 5.389826091776263e-7 - 3.3832223776574076e-8im], [-0.0019948980295344514 + 9.977046793402158e-5im, 0.0007480867610754198 - 3.7413925475257935e-5im, 3.880569690065212e-6 - 3.7680596650604144e-7im, -1.3674415409895657e-6 + 1.2336698749170586e-7im, -1.3674415409895657e-6 + 1.2336698749170586e-7im, 4.691319967328873e-7 - 3.4739102172231726e-8im], [-0.0019949695371282317 + 9.985242305202475e-5im, 0.0007481135764230869 - 3.7444658644508755e-5im, 3.91532511288793e-6 - 4.2910126559393805e-7im, -1.402039001213585e-6 + 1.75433358189998e-7im, -1.402039001213585e-6 + 1.75433358189998e-7im, 5.036849911611511e-7 - 8.672172889886179e-8im], [-0.0019950718868682817 + 9.983730412822445e-5im, 0.0007481519575756052 - 3.743898904808379e-5im, 3.937663463544148e-6 - 3.6144977753418825e-7im, -1.4240968280766764e-6 + 1.0779975131912444e-7im, -1.4240968280766764e-6 + 1.0779975131912444e-7im, 5.256369636329707e-7 - 1.9089881847196308e-8im], [-0.001995112388437945 + 9.974761424560276e-5im, 0.0007481671456642288 - 3.740535534210111e-5im, 3.879339553259246e-6 - 3.7946109658926006e-7im, -1.3656585350419708e-6 + 1.260508141926556e-7im, -1.3656585350419708e-6 + 1.260508141926556e-7im, 4.6716118325788216e-7 - 3.7432452614530926e-8im], [-0.0019950614136181833 + 9.966909985263473e-5im, 0.0007481480301068186 - 3.737591244473828e-5im, 3.9277108129233374e-6 - 4.1953160389260887e-7im, -1.4141627836769362e-6 + 1.6632112888340622e-7im, -1.4141627836769362e-6 + 1.6632112888340622e-7im, 5.157191544029217e-7 - 7.776485601569186e-8im], [-0.0019949723710093077 + 9.966954720125811e-5im, 0.0007481146391284905 - 3.737608020047201e-5im, 3.931848385329149e-6 - 3.670385401110231e-7im, -1.418517529218873e-6 + 1.1383220860901882e-7im, -1.418517529218873e-6 + 1.1383220860901882e-7im, 5.201401689518672e-7 - 2.5272842342094158e-8im]], [0.0, 0.05, 0.1, 0.15, 0.2, 0.25, 0.3, 0.35, 0.4, 0.45  …  9.55, 9.6, 9.65, 9.7, 9.75, 9.8, 9.85, 9.9, 9.95, 10.0], Vector{Vector{ComplexF64}}[[[0.0 + 0.0im, 0.0 + 0.0im, 0.0 + 0.0im, 0.0 + 0.0im, 0.0 + 0.0im, 0.0 + 0.0im]]], [1, 1, 1, 1, 1, 1, 1, 1, 1, 1  …  1, 1, 1, 1, 1, 1, 1, 1, 1, 1], false, OrdinaryDiffEq.CompositeCache{Tuple{OrdinaryDiffEq.Vern9Cache{Vector{ComplexF64}, Vector{ComplexF64}, Vector{ComplexF64}, OrdinaryDiffEq.Vern9Tableau{Float64, Float64}}, OrdinaryDiffEq.Rosenbrock5Cache{Vector{ComplexF64}, Vector{ComplexF64}, Vector{ComplexF64}, Matrix{ComplexF64}, Matrix{ComplexF64}, OrdinaryDiffEq.Rodas5Tableau{Float64, Float64}, SciMLBase.TimeGradientWrapper{ODEFunction{true, typeof(doubleExcitation_speedTuned), UniformScaling{Bool}, Nothing, Nothing, Nothing, Nothing, Nothing, Nothing, Nothing, Nothing, Nothing, Nothing, Nothing, Nothing, typeof(SciMLBase.DEFAULT_OBSERVED), Nothing}, Vector{ComplexF64}, Tuple{Int64, Matrix{ComplexF64}, Vector{Float64}, Vector{ComplexF64}, Vector{Float64}, LinearIndices{2, Tuple{Base.OneTo{Int64}, Base.OneTo{Int64}}}, Matrix{ComplexF64}}}, SciMLBase.UJacobianWrapper{ODEFunction{true, typeof(doubleExcitation_speedTuned), UniformScaling{Bool}, Nothing, Nothing, Nothing, Nothing, Nothing, Nothing, Nothing, Nothing, Nothing, Nothing, Nothing, Nothing, typeof(SciMLBase.DEFAULT_OBSERVED), Nothing}, Float64, Tuple{Int64, Matrix{ComplexF64}, Vector{Float64}, Vector{ComplexF64}, Vector{Float64}, LinearIndices{2, Tuple{Base.OneTo{Int64}, Base.OneTo{Int64}}}, Matrix{ComplexF64}}}, LinearSolve.LinearCache{Matrix{ComplexF64}, Vector{ComplexF64}, Vector{ComplexF64}, SciMLBase.NullParameters, GenericLUFactorization{RowMaximum}, LU{ComplexF64, Matrix{ComplexF64}}, LinearSolve.InvPreconditioner{Diagonal{ComplexF64, Vector{ComplexF64}}}, Diagonal{ComplexF64, Vector{ComplexF64}}, Float64}, FiniteDiff.JacobianCache{Vector{ComplexF64}, Vector{ComplexF64}, Vector{ComplexF64}, UnitRange{Int64}, Nothing, Val{:forward}(), ComplexF64}, FiniteDiff.GradientCache{Nothing, Vector{ComplexF64}, Vector{ComplexF64}, Float64, Val{:forward}(), ComplexF64, Val{true}()}, Float64, Rodas5{6, false, GenericLUFactorization{RowMaximum}, typeof(OrdinaryDiffEq.DEFAULT_PRECS), Val{:forward}, true, nothing}}}, OrdinaryDiffEq.AutoSwitchCache{Vern9, Rodas5{0, false, Nothing, typeof(OrdinaryDiffEq.DEFAULT_PRECS), Val{:forward}, true, nothing}, Rational{Int64}, Int64}}((OrdinaryDiffEq.Vern9Cache{Vector{ComplexF64}, Vector{ComplexF64}, Vector{ComplexF64}, OrdinaryDiffEq.Vern9Tableau{Float64, Float64}}(ComplexF64[-0.0019949723710093077 + 9.966954720125811e-5im, 0.0007481146391284905 - 3.737608020047201e-5im, 3.931848385329149e-6 - 3.670385401110231e-7im, -1.418517529218873e-6 + 1.1383220860901882e-7im, -1.418517529218873e-6 + 1.1383220860901882e-7im, 5.201401689518672e-7 - 2.5272842342094158e-8im], ComplexF64[-0.00199510606678169 + 9.971982388129069e-5im, 0.0007481647750431334 - 3.7394933955484187e-5im, 3.884145813396987e-6 - 4.0382187279489054e-7im, -1.3704829593910456e-6 + 1.5048407576288932e-7im, -1.3704829593910456e-6 + 1.5048407576288932e-7im, 4.7199559474062025e-7 - 6.18905100995987e-8im], ComplexF64[7.095891558762078e-7 - 1.8411595150841231e-6im, -2.660959334496206e-7 + 6.90434818151342e-7im, 6.313261002063208e-7 - 1.2404305171310992e-6im, -6.3323545316152e-7 + 1.245188075475625e-6im, -6.3323545316152e-7 + 1.245188075475625e-6im, 6.341099215461126e-7 - 1.2467598975351675e-6im], ComplexF64[1.8590306759547204e-6 - 1.837516168043396e-7im, -6.97136503473696e-7 + 6.890685630596416e-8im, 5.183602979145896e-7 + 1.2139613053388173e-6im, -5.228788232930082e-7 - 1.2134739986783093e-6im, -5.228788232930082e-7 - 1.2134739986783093e-6im, 5.242635294321975e-7 + 1.2134648951353433e-6im], ComplexF64[1.8590306759547204e-6 - 1.837516168043396e-7im, -6.97136503473696e-7 + 6.890685630596416e-8im, 5.183602979145896e-7 + 1.2139613053388173e-6im, -5.228788232930082e-7 - 1.2134739986783093e-6im, -5.228788232930082e-7 - 1.2134739986783093e-6im, 5.242635294321975e-7 + 1.2134648951353433e-6im], ComplexF64[1.815117305066765e-6 - 5.040168459674588e-7im, -6.806689893904417e-7 + 1.8900631723259287e-7im, 8.952314328606707e-7 + 8.75982409329856e-7im, -8.996981484710348e-7 - 8.747350385277897e-7im, -8.996981484710348e-7 - 8.747350385277897e-7im, 9.011340306319775e-7 + 8.745051946650524e-7im], ComplexF64[1.8590306759547204e-6 - 1.837516168043396e-7im, -6.97136503473696e-7 + 6.890685630596416e-8im, 5.183602979145896e-7 + 1.2139613053388173e-6im, -5.228788232930082e-7 - 1.2134739986783093e-6im, -5.228788232930082e-7 - 1.2134739986783093e-6im, 5.242635294321975e-7 + 1.2134648951353433e-6im], ComplexF64[1.5884633154023865e-6 + 9.083158447956152e-7im, -5.956737432145833e-7 - 3.406184417333036e-7im, -2.545353959259754e-6 + 1.1094216911563275e-5im, 2.5431704434415025e-6 - 1.1096469896540407e-5im, 2.5431704434415025e-6 - 1.1096469896540407e-5im, -2.543759739586541e-6 + 1.1097314655921641e-5im], ComplexF64[1.815117305066765e-6 - 5.040168459674588e-7im, -6.806689893904417e-7 + 1.8900631723259287e-7im, 8.952314328606707e-7 + 8.75982409329856e-7im, -8.996981484710348e-7 - 8.747350385277897e-7im, -8.996981484710348e-7 - 8.747350385277897e-7im, 9.011340306319775e-7 + 8.745051946650524e-7im], ComplexF64[1.8590306759547204e-6 - 1.837516168043396e-7im, -6.97136503473696e-7 + 6.890685630596416e-8im, 5.183602979145896e-7 + 1.2139613053388173e-6im, -5.228788232930082e-7 - 1.2134739986783093e-6im, -5.228788232930082e-7 - 1.2134739986783093e-6im, 5.242635294321975e-7 + 1.2134648951353433e-6im], ComplexF64[1.7622844796219214e-6 - 6.928843581388566e-7im, -6.608566798497638e-7 + 2.5983163430207123e-7im, 1.080664127825106e-6 + 7.678416358496122e-7im, -1.0850135145509952e-6 - 7.661455959772063e-7im, -1.0850135145509952e-6 - 7.661455959772063e-7im, 1.0864384773771762e-6 + 7.657825585989514e-7im], ComplexF64[9.12475767938549e-7 - 1.7369741092607138e-6im, -3.4217841297110117e-7 + 6.513652909632267e-7im, 9.377401665696966e-7 - 1.0403310601557863e-6im, -9.401605731191474e-7 + 1.0447678951922386e-6im, -9.401605731191474e-7 + 1.0447678951922386e-6im, 9.41192302909614e-7 - 1.0461772210158828e-6im], ComplexF64[1.3794105331176205e-6 - 1.350962035358283e-6im, -5.172789499134156e-7 + 5.06610763256754e-7im, 1.2440823282852309e-6 - 2.475878020748163e-7im, -1.2476024305935215e-6 + 2.509648102299189e-7im, -1.2476024305935215e-6 + 2.509648102299189e-7im, 1.2489067604643638e-6 - 2.5192693369349324e-7im], ComplexF64[1.8603510719430137e-6 - 1.390810841842005e-7im, -6.976316519709865e-7 + 5.2155406573412e-8im, 4.072113916771967e-7 + 1.1488608178059753e-6im, -4.117410217215733e-7 - 1.1484637723462666e-6im, -4.117410217215733e-7 - 1.1484637723462666e-6im, 4.131307199563962e-7 + 1.1484693914947982e-6im], ComplexF64[1.7990079604797427e-6 + 3.640720113162743e-7im, -6.74627985191396e-7 - 1.3652700424880704e-7im, -1.4847643803303078e-7 - 3.555628793036547e-7im, 1.438499422311606e-7 + 3.54871280155673e-7im, 1.438499422311606e-7 + 3.54871280155673e-7im, -1.4230352773123206e-7 - 3.5463361305041013e-7im], ComplexF64[1.7247434359068427e-6 + 6.154362257801416e-7im, -6.46778788444412e-7 - 2.3078858465974683e-7im, 2.1894361555158165e-7 + 3.039012897292535e-6im, -2.2286706622073873e-7 - 3.0405698863701674e-6im, -2.2286706622073873e-7 - 3.0405698863701674e-6im, 2.238122887980851e-7 + 3.0412366011370943e-6im], ComplexF64[1.5741618538660934e-6 + 8.699029433387184e-7im, -5.903106952307932e-7 - 3.262136037563562e-7im, -4.9233459173787715e-6 - 3.6990678725477476e-6im, 4.918923074504145e-6 + 3.6980138250351214e-6im, 4.918923074504145e-6 + 3.6980138250351214e-6im, -4.917238856724616e-6 - 3.6982883904859176e-6im], ComplexF64[1.5884633154023865e-6 + 9.083158447956152e-7im, -5.956737432145833e-7 - 3.406184417333036e-7im, -2.545353959259754e-6 + 1.1094216911563275e-5im, 2.5431704434415025e-6 - 1.1096469896540407e-5im, 2.5431704434415025e-6 - 1.1096469896540407e-5im, -2.543759739586541e-6 + 1.1097314655921641e-5im], ComplexF64[-9.008482417856943e-12 - 1.1683031630975446e-11im, 3.37818084102154e-12 + 4.3811368115005286e-12im, -8.397569393700279e-9 - 1.2415785015226914e-8im, 8.396049507704748e-9 + 1.2417681422988231e-8im, 8.396049507704748e-9 + 1.2417681422988231e-8im, -8.394501978390226e-9 - 1.241954810084039e-8im], ComplexF64[-0.0019949778947462946 + 9.966670749811844e-5im, 0.0007481167105298606 - 3.737501531179463e-5im, 3.935259543803639e-6 - 3.6825701717143584e-7im, -1.421914863849511e-6 + 1.1505675026314048e-7im, -1.421914863849511e-6 + 1.1505675026314048e-7im, 5.235332890278184e-7 - 2.6499134108757374e-8im], ComplexF64[-9.008482417856943e-12 - 1.1683031630975446e-11im, 3.37818084102154e-12 + 4.3811368115005286e-12im, -8.397569393700279e-9 - 1.2415785015226914e-8im, 8.396049507704748e-9 + 1.2417681422988231e-8im, 8.396049507704748e-9 + 1.2417681422988231e-8im, -8.394501978390226e-9 - 1.241954810084039e-8im], ComplexF64[-3.0052350453627707e-6 - 3.897466239584633e-6im, 1.9313837334569624e-6 + 2.5047967441621253e-6im, -0.008364538310598992 - 0.01236694864277451im, 0.008384118257121303 + 0.012400035211089754im, 0.008384118257121303 + 0.012400035211089754im, -0.00839013278492681 - 0.012413083940307644im], OrdinaryDiffEq.Vern9Tableau{Float64, Float64}(0.03462, 0.09702435063878045, 0.14553652595817068, 0.561, 0.22900791159048503, 0.544992088409515, 0.645, 0.48375, 0.06757, 0.25, 0.6590650618730999, 0.8206, 0.9012, 0.03462, -0.03893354388572875, 0.13595789452450918, 0.03638413148954267, 0.10915239446862801, 2.0257639143939694, -7.638023836496291, 6.173259922102322, 0.05112275589406061, 0.17708237945550218, 0.0008027762409222536, 0.13160063579752163, -0.2957276252669636, 0.08781378035642955, 0.6213052975225274, 0.07166666666666667, 0.33055335789153195, 0.2427799754418014, 0.071806640625, 0.3294380283228177, 0.1165190029271823, -0.034013671875, 0.04836757646340646, 0.03928989925676164, 0.10547409458903446, -0.021438652846483126, -0.10412291746271944, -0.026645614872014785, 0.03333333333333333, -0.1631072244872467, 0.03396081684127761, 0.1572319413814626, 0.21522674780318796, 0.03689009248708622, -0.1465181576725543, 0.2242577768172024, 0.02294405717066073, -0.0035850052905728597, 0.08669223316444385, 0.43838406519683376, -0.4866012215113341, -6.304602650282853, -0.2812456182894729, -2.679019236219849, 0.5188156639241577, 1.3653531876033418, 5.8850910885039465, 2.8028087862720628, 0.4185367457753472, 6.724547581906459, -0.42544428016461133, 3.3432791530012653, 0.6170816631175374, -0.9299661239399329, -6.099948804751011, -3.002206187889399, 0.2553202529443446, -0.7793740861228848, -13.937342538107776, 1.2520488533793563, -14.691500408016868, -0.494705058533141, 2.2429749091462368, 13.367893803828643, 14.396650486650687, -0.79758133317768, 0.4409353709534278, 2.0580513374668867, 22.357937727968032, 0.9094981099755646, 35.89110098240264, -3.442515027624454, -4.865481358036369, -18.909803813543427, -34.26354448030452, 1.2647565216956427, 0.014611976858423152, -0.3915211862331339, 0.23109325002895065, 0.12747667699928525, 0.2246434176204158, 0.5684352689748513, 0.058258715572158275, 0.13643174034822156, 0.030570139830827976, -0.005357988290444578, -2.583020491182464, 0.14252253154686625, 0.013420653512688676, -0.02867296291409493, 2.624999655215792, -0.2825509643291537, 0.13643174034822156, 0.030570139830827976, -0.04834231373823958, OrdinaryDiffEq.Vern9ExtraStages{Float64, Float64}(1.0, 0.014611976858423152, -0.3915211862331339, 0.23109325002895065, 0.12747667699928525, 0.2246434176204158, 0.5684352689748513, 0.058258715572158275, 0.13643174034822156, 0.030570139830827976, 0.7404185470631561, 0.015499736681895594, 0.3355153219059635, 0.20036139441918607, 0.12520606592835493, 0.22986763931842066, -0.20202506534761813, 0.05917103230665457, -0.026518347830476387, -0.023840946021309713, 0.027181715702085017, 0.888, 0.013024539431143383, -0.7452850902413112, 0.2643867896429301, 0.1313961758372754, 0.21672538151229273, 0.8734117564076053, 0.011859056439357767, 0.05876002941689551, 0.003266518630202088, -0.00895930864841793, 0.06941415157202692, 0.696, 0.013970899969259426, -0.46657653359576745, 0.24163727872162571, 0.12903633413456747, 0.22167006717351054, 0.6257275123364645, 0.04355312415679284, 0.10119624916672908, 0.01808582254679721, -0.020798755876891697, -0.09022232517086219, -0.12127967356222542, 0.487, 0.016046388883181127, 0.09517712399458336, 0.13591872646553177, 0.1237765280959854, 0.2335656264102966, -0.09051508172625873, -0.02537574270006131, -0.13596316968871622, -0.04679214284145113, 0.05177958859391748, 0.09672595677476774, 0.14773126903407427, -0.11507507129585039, 0.025, 0.018029186238936207, 0.06983601042028874, -0.025412476607916634, 0.008487827035463275, -0.002427525516089802, -0.10478397528938199, -0.014731477952480419, -0.03916338390816177, -0.010056573432939595, 0.011025103922048344, 0.005092830749095398, 0.04759715599420645, 0.03386307003288383, 0.02764422831404798, 0.15, 0.01677431640522778, 0.6220437408820475, -0.2060859809768842, 0.11563949897660589, 0.026641017933783588, -0.937681079341877, -0.13678064667021603, -0.3678480995268297, -0.09547871314402478, 0.10134920184223697, -0.08911323084568594, 0.46641409889747604, 0.450273629235458, 0.18385224633268188, 0.32, 0.010711497314914442, -0.07094336118221108, 0.10021649003400916, 0.13834539804680251, 0.17963306335781634, 0.09048246545576182, -0.005460662294523339, -0.030004579051196197, -0.011451920269627991, 0.010033946861093851, -0.09506485282809046, 0.04853358804093592, 0.08013325919783924, -0.1251643326835242, 0.78, 0.014101720888692213, -0.3713379753704491, 0.22312655481171803, 0.12870053459181202, 0.22246006596754947, 0.5382853042550702, 0.05417202616988763, 0.1256968791308744, 0.027844927890020542, -0.0307740924620506, 0.008569805293689777, -0.15351746905870445, -0.021799570305481963, 0.014471288197371868, 0.96, 0.014246004117356466, -0.3767107393295407, 0.22523997807304214, 0.128360307629253, 0.22302387052616926, 0.5463127827750747, 0.0552619079137578, 0.12856135087499826, 0.028572506812964065, -0.02398761886357109, 0.055562244589105095, -0.017406756507628386, -0.03815462365996979, 0.011118785048989178), OrdinaryDiffEq.Vern9InterpolationCoefficients{Float64}(1.0, -28.330488700617398, 257.6535452078578, -1152.1544557434572, 2909.390878345409, -4355.005172868188, 3834.083497036262, -1835.419052683407, 368.7958613829998, 2.649656243770091, -96.30312807816006, 869.3095462492796, -3395.688567551074, 6796.933987158715, -7340.848417712072, 4082.8488969923656, -919.2934944890586, -1.5639451819287329, 56.8423973927286, -513.1052300304285, 2004.2867021103232, -4011.8533059139295, 4332.895839278586, -2409.8793479371448, 542.6079835318221, -0.8627103334967224, 31.355653751851733, -283.0413682227354, 1105.613463426007, -2213.0362006784526, 2390.1310977541207, -1329.3482661468738, 299.31580712657853, -1.5202953379012147, 55.25592121120227, -498.7844190970741, 1948.346888525776, -3899.8821364075516, 4211.964345158858, -2342.619408856117, 527.4637482204279, -3.8469388441255234, 139.81898409868404, -1262.1186876216004, 4930.075848057311, -9868.21948606954, 10657.908924348867, -5927.738759872814, 1334.688551172191, -0.39427130612001415, 14.329994760676497, -129.35406659945582, 505.28160770025175, -1011.3900801394333, 1092.3250517818917, -607.531701930281, 136.79172444804232, -0.9233145622082102, 33.55834582309799, -302.9246397549736, 1183.2813069678675, -2368.4989867901113, 2558.034559755808, -1422.7331755778803, 320.3423358787482, -0.20688628029300538, 7.519388975651663, -67.87605708082904, 265.136799698415, -530.7074807559026, 573.176549564149, -318.7905688834869, 71.77882490212657, -0.44724419067440996, 16.44684676010504, -154.40861059212955, 641.8986298540249, -1391.9392256879823, 1643.890568302952, -1004.0652972233179, 248.6243327770223, -0.1507876007899798, 5.527328824824632, -51.33833743084619, 209.60220027032804, -442.7692650421826, 505.0579312588053, -295.63364106156195, 69.70457078142275, -0.6413652207435296, 23.510132486246846, -218.36426832469724, 891.5292818535365, -1883.290177206008, 2148.2309544883997, -1257.4584015217124, 296.4838434449778, 1.8107293134448457, -66.37479657295337, 616.4952025401107, -2517.0030307773227, 5316.984175781034, -6064.976140789574, 3550.1095388883914, -837.0456783831302, 0.05176008760353718, -1.8973378625803488, 17.622648207936294, -71.94907400242467, 151.9871383765666, -173.36864987478606, 101.4806461521468, -23.927131084462175, 31.321782556688, -355.6570858339106, 1752.6852824895159, -4708.092293138363, 7370.900776193489, -6716.504964764566, 3303.940398161186, -678.5938956640391, -2.7196073341859246, 86.64045615858264, -454.1926030939031, 1014.7492211005434, -1133.583456714544, 610.4671827718666, -109.02334994495438, -12.337842943405471, 3.1772148014329233, -113.8098697715143, 978.0935981825675, -3575.1293776236703, 6764.3615198384505, -6987.161043852012, 3751.9057627895713, -821.4378043648254, 0.877284308346553, -31.51810423988375, 273.1229151353221, -993.2198643101782, 1787.888078312664, -1677.394835799641, 781.3579535062688, -141.11342691289855, 1.7194275817987157, -62.89867309250732, 580.333550787398, -2348.110620506761, 4921.119298612906, -5597.912448707917, 3288.5977751496216, -782.8483098245397))), OrdinaryDiffEq.Rosenbrock5Cache{Vector{ComplexF64}, Vector{ComplexF64}, Vector{ComplexF64}, Matrix{ComplexF64}, Matrix{ComplexF64}, OrdinaryDiffEq.Rodas5Tableau{Float64, Float64}, SciMLBase.TimeGradientWrapper{ODEFunction{true, typeof(doubleExcitation_speedTuned), UniformScaling{Bool}, Nothing, Nothing, Nothing, Nothing, Nothing, Nothing, Nothing, Nothing, Nothing, Nothing, Nothing, Nothing, typeof(SciMLBase.DEFAULT_OBSERVED), Nothing}, Vector{ComplexF64}, Tuple{Int64, Matrix{ComplexF64}, Vector{Float64}, Vector{ComplexF64}, Vector{Float64}, LinearIndices{2, Tuple{Base.OneTo{Int64}, Base.OneTo{Int64}}}, Matrix{ComplexF64}}}, SciMLBase.UJacobianWrapper{ODEFunction{true, typeof(doubleExcitation_speedTuned), UniformScaling{Bool}, Nothing, Nothing, Nothing, Nothing, Nothing, Nothing, Nothing, Nothing, Nothing, Nothing, Nothing, Nothing, typeof(SciMLBase.DEFAULT_OBSERVED), Nothing}, Float64, Tuple{Int64, Matrix{ComplexF64}, Vector{Float64}, Vector{ComplexF64}, Vector{Float64}, LinearIndices{2, Tuple{Base.OneTo{Int64}, Base.OneTo{Int64}}}, Matrix{ComplexF64}}}, LinearSolve.LinearCache{Matrix{ComplexF64}, Vector{ComplexF64}, Vector{ComplexF64}, SciMLBase.NullParameters, GenericLUFactorization{RowMaximum}, LU{ComplexF64, Matrix{ComplexF64}}, LinearSolve.InvPreconditioner{Diagonal{ComplexF64, Vector{ComplexF64}}}, Diagonal{ComplexF64, Vector{ComplexF64}}, Float64}, FiniteDiff.JacobianCache{Vector{ComplexF64}, Vector{ComplexF64}, Vector{ComplexF64}, UnitRange{Int64}, Nothing, Val{:forward}(), ComplexF64}, FiniteDiff.GradientCache{Nothing, Vector{ComplexF64}, Vector{ComplexF64}, Float64, Val{:forward}(), ComplexF64, Val{true}()}, Float64, Rodas5{6, false, GenericLUFactorization{RowMaximum}, typeof(OrdinaryDiffEq.DEFAULT_PRECS), Val{:forward}, true, nothing}}(ComplexF64[-0.0019949723710093077 + 9.966954720125811e-5im, 0.0007481146391284905 - 3.737608020047201e-5im, 3.931848385329149e-6 - 3.670385401110231e-7im, -1.418517529218873e-6 + 1.1383220860901882e-7im, -1.418517529218873e-6 + 1.1383220860901882e-7im, 5.201401689518672e-7 - 2.5272842342094158e-8im], ComplexF64[-0.00199510606678169 + 9.971982388129069e-5im, 0.0007481647750431334 - 3.7394933955484187e-5im, 3.884145813396987e-6 - 4.0382187279489054e-7im, -1.3704829593910456e-6 + 1.5048407576288932e-7im, -1.3704829593910456e-6 + 1.5048407576288932e-7im, 4.7199559474062025e-7 - 6.18905100995987e-8im], ComplexF64[0.0 + 0.0im, 0.0 + 0.0im, 0.0 + 0.0im, 0.0 + 0.0im, 0.0 + 0.0im, 0.0 + 0.0im], ComplexF64[0.0 + 0.0im, 0.0 + 0.0im, 0.0 + 0.0im, 0.0 + 0.0im, 0.0 + 0.0im, 0.0 + 0.0im], ComplexF64[0.0 + 0.0im, 0.0 + 0.0im, 0.0 + 0.0im, 0.0 + 0.0im, 0.0 + 0.0im, 0.0 + 0.0im], ComplexF64[0.0 + 0.0im, 0.0 + 0.0im, 0.0 + 0.0im, 0.0 + 0.0im, 0.0 + 0.0im, 0.0 + 0.0im], ComplexF64[0.0 + 0.0im, 0.0 + 0.0im, 0.0 + 0.0im, 0.0 + 0.0im, 0.0 + 0.0im, 0.0 + 0.0im], ComplexF64[0.0 + 0.0im, 0.0 + 0.0im, 0.0 + 0.0im, 0.0 + 0.0im, 0.0 + 0.0im, 0.0 + 0.0im], ComplexF64[0.0 + 0.0im, 0.0 + 0.0im, 0.0 + 0.0im, 0.0 + 0.0im, 0.0 + 0.0im, 0.0 + 0.0im], ComplexF64[0.0 + 0.0im, 0.0 + 0.0im, 0.0 + 0.0im, 0.0 + 0.0im, 0.0 + 0.0im, 0.0 + 0.0im], ComplexF64[0.0 + 0.0im, 0.0 + 0.0im, 0.0 + 0.0im, 0.0 + 0.0im, 0.0 + 0.0im, 0.0 + 0.0im], ComplexF64[0.0 + 0.0im, 0.0 + 0.0im, 0.0 + 0.0im, 0.0 + 0.0im, 0.0 + 0.0im, 0.0 + 0.0im], ComplexF64[0.0 + 0.0im, 0.0 + 0.0im, 0.0 + 0.0im, 0.0 + 0.0im, 0.0 + 0.0im, 0.0 + 0.0im], ComplexF64[0.0 + 0.0im, 0.0 + 0.0im, 0.0 + 0.0im, 0.0 + 0.0im, 0.0 + 0.0im, 0.0 + 0.0im], ComplexF64[0.0 + 0.0im, 0.0 + 0.0im, 0.0 + 0.0im, 0.0 + 0.0im, 0.0 + 0.0im, 0.0 + 0.0im], ComplexF64[0.0 + 0.0im, 0.0 + 0.0im, 0.0 + 0.0im, 0.0 + 0.0im, 0.0 + 0.0im, 0.0 + 0.0im], ComplexF64[0.0 + 0.0im, 0.0 + 0.0im, 0.0 + 0.0im, 0.0 + 0.0im, 0.0 + 0.0im, 0.0 + 0.0im], ComplexF64[0.0 + 0.0im, 0.0 + 0.0im, 0.0 + 0.0im, 0.0 + 0.0im, 0.0 + 0.0im, 0.0 + 0.0im], ComplexF64[0.0 + 0.0im, 0.0 + 0.0im, 0.0 + 0.0im, 0.0 + 0.0im, 0.0 + 0.0im, 0.0 + 0.0im], ComplexF64[0.0 + 0.0im 0.0 + 0.0im … 0.0 + 0.0im 0.0 + 0.0im; 0.0 + 0.0im 0.0 + 0.0im … 0.0 + 0.0im 0.0 + 0.0im; … ; 0.0 + 0.0im 0.0 + 0.0im … 0.0 + 0.0im 0.0 + 0.0im; 0.0 + 0.0im 0.0 + 0.0im … 0.0 + 0.0im 0.0 + 0.0im], ComplexF64[0.0 + 0.0im 5.0e-324 + 0.0im … 0.0 + 0.0im 0.0 + 0.0im; 0.0 + 2.0e-323im 5.0e-324 + 0.0im … 0.0 + 0.0im 0.0 + 0.0im; … ; 0.0 + 0.0im 0.0 + 5.0e-324im … 0.0 + 0.0im 0.0 + 0.0im; 5.0e-324 + 5.0e-324im 0.0 + 5.0e-324im … 0.0 + 0.0im 0.0 + 0.0im], ComplexF64[0.0 + 0.0im, 0.0 + 0.0im, 0.0 + 0.0im, 0.0 + 0.0im, 0.0 + 0.0im, 0.0 + 0.0im], ComplexF64[0.0 + 0.0im, 0.0 + 0.0im, 0.0 + 0.0im, 0.0 + 0.0im, 0.0 + 0.0im, 0.0 + 0.0im], ComplexF64[0.0 + 0.0im, 0.0 + 0.0im, 0.0 + 0.0im, 0.0 + 0.0im, 0.0 + 0.0im, 0.0 + 0.0im], OrdinaryDiffEq.Rodas5Tableau{Float64, Float64}(2.0, 3.040894194418781, 1.041747909077569, 2.576417536461461, 1.62208306077664, -0.9089668560264532, 2.760842080225597, 1.446624659844071, -0.3036980084553738, 0.2877498600325443, -14.09640773051259, 6.925207756232704, -41.47510893210728, 2.343771018586405, 24.13215229196062, -10.31323885133993, -21.04823117650003, -7.234992135176716, 32.22751541853323, -4.943732386540191, 19.44922031041879, -20.69865579590063, -8.816374604402768, 1.260436877740897, -0.7495647613787146, -46.22004352711257, -17.49534862857472, -289.6389582892057, 93.60855400400906, 318.3822534212147, 34.20013733472935, -14.1553540271769, 57.823356409884, 25.83362985412365, 1.408950972071624, -6.551835421242162, 42.57076742291101, -13.80770672017997, 93.98938432427124, 18.77919633714503, -31.5835918722337, -6.685968952921985, -5.810979938412932, 0.19, 0.19, -0.18230792253337147, -0.3192318321868749, 0.3449828624725343, -0.37741756439208984, 0.38, 0.3878509998321533, 0.483971893787384, 0.457047700881958, 27.354592673333357, -6.925207756232857, 26.40037733258859, 0.5635230501052979, -4.699151156849391, -1.6008677469422725, -1.5306074446748028, -1.3929872940716344, 44.19024239501722, 1.3677947663381929e-13, 202.93261852171622, -35.5669339789154, -181.91095152160645, 3.4116351403665033, 2.5793540257308067, 2.2435122582734066, -44.0988150021747, -5.755396159656812e-13, -181.26175034586677, 56.99302194811676, 183.21182741427398, -7.480257918273637, -5.792426076169686, -5.32503859794143), SciMLBase.TimeGradientWrapper{ODEFunction{true, typeof(doubleExcitation_speedTuned), UniformScaling{Bool}, Nothing, Nothing, Nothing, Nothing, Nothing, Nothing, Nothing, Nothing, Nothing, Nothing, Nothing, Nothing, typeof(SciMLBase.DEFAULT_OBSERVED), Nothing}, Vector{ComplexF64}, Tuple{Int64, Matrix{ComplexF64}, Vector{Float64}, Vector{ComplexF64}, Vector{Float64}, LinearIndices{2, Tuple{Base.OneTo{Int64}, Base.OneTo{Int64}}}, Matrix{ComplexF64}}}(ODEFunction{true, typeof(doubleExcitation_speedTuned), UniformScaling{Bool}, Nothing, Nothing, Nothing, Nothing, Nothing, Nothing, Nothing, Nothing, Nothing, Nothing, Nothing, Nothing, typeof(SciMLBase.DEFAULT_OBSERVED), Nothing}(doubleExcitation_speedTuned, UniformScaling{Bool}(true), nothing, nothing, nothing, nothing, nothing, nothing, nothing, nothing, nothing, nothing, nothing, nothing, SciMLBase.DEFAULT_OBSERVED, nothing), ComplexF64[-0.00199510606678169 + 9.971982388129069e-5im, 0.0007481647750431334 - 3.7394933955484187e-5im, 3.884145813396987e-6 - 4.0382187279489054e-7im, -1.3704829593910456e-6 + 1.5048407576288932e-7im, -1.3704829593910456e-6 + 1.5048407576288932e-7im, 4.7199559474062025e-7 - 6.18905100995987e-8im], (2, ComplexF64[-0.0 - 0.0im 0.006 - 0.8im; 0.006 - 0.8im -0.0 - 0.0im], [-0.08, 0.03], ComplexF64[2.0 + 0.0im, 2.0 + 0.0im], [20.0, 20.0], [1 3; 2 4], ComplexF64[1.6702782205483063e-7 + 2.2764444631623753e-6im -2.890521640271658e-7 - 3.5694028031728474e-6im; -2.890521640271658e-7 - 3.5694028031728474e-6im 1.6702782205483063e-7 + 2.2764444631623753e-6im])), SciMLBase.UJacobianWrapper{ODEFunction{true, typeof(doubleExcitation_speedTuned), UniformScaling{Bool}, Nothing, Nothing, Nothing, Nothing, Nothing, Nothing, Nothing, Nothing, Nothing, Nothing, Nothing, Nothing, typeof(SciMLBase.DEFAULT_OBSERVED), Nothing}, Float64, Tuple{Int64, Matrix{ComplexF64}, Vector{Float64}, Vector{ComplexF64}, Vector{Float64}, LinearIndices{2, Tuple{Base.OneTo{Int64}, Base.OneTo{Int64}}}, Matrix{ComplexF64}}}(ODEFunction{true, typeof(doubleExcitation_speedTuned), UniformScaling{Bool}, Nothing, Nothing, Nothing, Nothing, Nothing, Nothing, Nothing, Nothing, Nothing, Nothing, Nothing, Nothing, typeof(SciMLBase.DEFAULT_OBSERVED), Nothing}(doubleExcitation_speedTuned, UniformScaling{Bool}(true), nothing, nothing, nothing, nothing, nothing, nothing, nothing, nothing, nothing, nothing, nothing, nothing, SciMLBase.DEFAULT_OBSERVED, nothing), 0.0, (2, ComplexF64[-0.0 - 0.0im 0.006 - 0.8im; 0.006 - 0.8im -0.0 - 0.0im], [-0.08, 0.03], ComplexF64[2.0 + 0.0im, 2.0 + 0.0im], [20.0, 20.0], [1 3; 2 4], ComplexF64[1.6702782205483063e-7 + 2.2764444631623753e-6im -2.890521640271658e-7 - 3.5694028031728474e-6im; -2.890521640271658e-7 - 3.5694028031728474e-6im 1.6702782205483063e-7 + 2.2764444631623753e-6im])), ComplexF64[0.0 + 0.0im, 0.0 + 0.0im, 0.0 + 0.0im, 0.0 + 0.0im, 0.0 + 0.0im, 0.0 + 0.0im], LinearSolve.LinearCache{Matrix{ComplexF64}, Vector{ComplexF64}, Vector{ComplexF64}, SciMLBase.NullParameters, GenericLUFactorization{RowMaximum}, LU{ComplexF64, Matrix{ComplexF64}}, LinearSolve.InvPreconditioner{Diagonal{ComplexF64, Vector{ComplexF64}}}, Diagonal{ComplexF64, Vector{ComplexF64}}, Float64}(ComplexF64[0.0 + 0.0im 5.0e-324 + 0.0im … 0.0 + 0.0im 0.0 + 0.0im; 0.0 + 2.0e-323im 5.0e-324 + 0.0im … 0.0 + 0.0im 0.0 + 0.0im; … ; 0.0 + 0.0im 0.0 + 5.0e-324im … 0.0 + 0.0im 0.0 + 0.0im; 5.0e-324 + 5.0e-324im 0.0 + 5.0e-324im … 0.0 + 0.0im 0.0 + 0.0im], ComplexF64[0.0 + 0.0im, 0.0 + 0.0im, 0.0 + 0.0im, 0.0 + 0.0im, 0.0 + 0.0im, 0.0 + 0.0im], ComplexF64[0.0 + 0.0im, 0.0 + 0.0im, 0.0 + 0.0im, 0.0 + 0.0im, 0.0 + 0.0im, 0.0 + 0.0im], SciMLBase.NullParameters(), GenericLUFactorization{RowMaximum}(RowMaximum()), LU{ComplexF64, Matrix{ComplexF64}}(Matrix{ComplexF64}(undef, 0, 0), Int64[], 0), true, LinearSolve.InvPreconditioner{Diagonal{ComplexF64, Vector{ComplexF64}}}(ComplexF64[0.0 + 0.0im 0.0 + 0.0im … 0.0 + 0.0im 0.0 + 0.0im; 0.0 + 0.0im 0.0 + 0.0im … 0.0 + 0.0im 0.0 + 0.0im; … ; 0.0 + 0.0im 0.0 + 0.0im … 0.0 + 0.0im 0.0 + 0.0im; 0.0 + 0.0im 0.0 + 0.0im … 0.0 + 0.0im 0.0 + 0.0im]), ComplexF64[0.0 + 0.0im 0.0 + 0.0im … 0.0 + 0.0im 0.0 + 0.0im; 0.0 + 0.0im 0.0 + 0.0im … 0.0 + 0.0im 0.0 + 0.0im; … ; 0.0 + 0.0im 0.0 + 0.0im … 0.0 + 0.0im 0.0 + 0.0im; 0.0 + 0.0im 0.0 + 0.0im … 0.0 + 0.0im 0.0 + 0.0im], 1.4901161193847656e-8, 1.4901161193847656e-8, 6, false), FiniteDiff.JacobianCache{Vector{ComplexF64}, Vector{ComplexF64}, Vector{ComplexF64}, UnitRange{Int64}, Nothing, Val{:forward}(), ComplexF64}(ComplexF64[0.0 + 0.0im, 0.0 + 0.0im, 0.0 + 0.0im, 0.0 + 0.0im, 0.0 + 0.0im, 0.0 + 0.0im], ComplexF64[-0.000249032639661778 + 0.0006815087636916593im, 0.0011829050383934821 - 0.003237166627535412im, -6.473739655712993e-7 + 1.7002750277209874e-6im, 2.4799383312644145e-6 - 7.292693627513984e-6im, 2.4799383312644145e-6 - 7.292693627513984e-6im, -1.1731638140089402e-5 + 3.019480799197126e-5im], ComplexF64[0.0 + 0.0im, 0.0 + 0.0im, 0.0 + 0.0im, 0.0 + 0.0im, 0.0 + 0.0im, 0.0 + 0.0im], ComplexF64[0.0 + 0.0im, 0.0 + 0.0im, 0.0 + 0.0im, 0.0 + 0.0im, 0.0 + 0.0im, 0.0 + 0.0im], 1:6, nothing), FiniteDiff.GradientCache{Nothing, Vector{ComplexF64}, Vector{ComplexF64}, Float64, Val{:forward}(), ComplexF64, Val{true}()}(nothing, ComplexF64[0.0007538826178572252 - 0.00030821571830676533im, -0.0035809424348218714 + 0.001464024661957164im, 2.572659368572861e-6 - 8.041509039531697e-7im, -9.458575569721012e-6 + 3.9272352239249005e-6im, -9.458575569721012e-6 + 3.9272352239249005e-6im, 3.533534334690948e-5 - 1.7815654251593387e-5im], ComplexF64[0.0007997168595563512 - 3.066853953759621e-5im, -0.003798655082892729 + 0.00014567556280359328im, 2.5081665987321144e-6 + 1.8201309209982513e-7im, -9.803181654827483e-6 + 1.1966370927368424e-7im, -9.803181654827483e-6 + 1.1966370927368424e-7im, 3.908594450139697e-5 - 3.63768195153631e-6im], 0.0), 0.001, Rodas5{6, false, GenericLUFactorization{RowMaximum}, typeof(OrdinaryDiffEq.DEFAULT_PRECS), Val{:forward}, true, nothing}(GenericLUFactorization{RowMaximum}(RowMaximum()), OrdinaryDiffEq.DEFAULT_PRECS))), OrdinaryDiffEq.AutoSwitchCache{Vern9, Rodas5{0, false, Nothing, typeof(OrdinaryDiffEq.DEFAULT_PRECS), Val{:forward}, true, nothing}, Rational{Int64}, Int64}(-115, 115, Vern9(true), Rodas5{0, false, Nothing, typeof(OrdinaryDiffEq.DEFAULT_PRECS), Val{:forward}, true, nothing}(nothing, OrdinaryDiffEq.DEFAULT_PRECS), false, 10, 3, 9//10, 9//10, 2, false, 5), 1)), [1, 1, 1, 1, 1, 1, 1, 1, 1, 1  …  1, 1, 1, 1, 1, 1, 1, 1, 1, 1], false, 0, DiffEqBase.DEStats\n",
       "Number of function 1 evaluations:                  1842\n",
       "Number of function 2 evaluations:                  0\n",
       "Number of W matrix evaluations:                    0\n",
       "Number of linear solves:                           0\n",
       "Number of Jacobians created:                       0\n",
       "Number of nonlinear solver iterations:             0\n",
       "Number of nonlinear solver convergence failures:   0\n",
       "Number of rootfind condition calls:                0\n",
       "Number of accepted steps:                          115\n",
       "Number of rejected steps:                          0\n",
       "Maximum eigenvalue recorded:                       42, :Success))"
      ]
     },
     "execution_count": 74,
     "metadata": {},
     "output_type": "execute_result"
    }
   ],
   "source": [
    "t, β, sol =  benchmark_test(p)"
   ]
  },
  {
   "cell_type": "code",
   "execution_count": 75,
   "metadata": {},
   "outputs": [
    {
     "data": {
      "text/plain": [
       "201-element Vector{ComplexF64}:\n",
       "                    0.0 + 0.0im\n",
       " -0.0008898293332511651 + 0.0016453553900826075im\n",
       "  -0.002664153453925579 + 0.0017787403239824247im\n",
       " -0.0036828354448165744 + 0.00042706794829818113im\n",
       " -0.0031244667604515513 - 0.0010830115798363233im\n",
       " -0.0016287765684489144 - 0.001412183023364845im\n",
       " -0.0005965851485591197 - 0.0003841629756690804im\n",
       " -0.0008889489846644709 + 0.0009703884620787935im\n",
       "   -0.00212343585643082 + 0.0014325445437208923im\n",
       "  -0.003127826514649249 + 0.0006819473726394919im\n",
       "  -0.003043233001775305 - 0.0005077684650925107im\n",
       "  -0.002047469191222476 - 0.001051513455396077im\n",
       " -0.0011004643578226712 - 0.0005339308744586516im\n",
       "                        ⋮\n",
       "  -0.001994871612467611 + 9.981950888685562e-5im\n",
       " -0.0019949952170100877 + 9.9898771172407e-5im\n",
       " -0.0019951221815803677 + 9.984057282195954e-5im\n",
       "  -0.001995140851725577 + 9.970903357622972e-5im\n",
       "  -0.001995045161604908 + 9.962648937562077e-5im\n",
       "  -0.001994929909992367 + 9.966065803145077e-5im\n",
       " -0.0019948980295344514 + 9.977046793402158e-5im\n",
       " -0.0019949695371282317 + 9.985242305202475e-5im\n",
       " -0.0019950718868682817 + 9.983730412822445e-5im\n",
       "  -0.001995112388437945 + 9.974761424560276e-5im\n",
       " -0.0019950614136181833 + 9.966909985263473e-5im\n",
       " -0.0019949723710093077 + 9.966954720125811e-5im"
      ]
     },
     "execution_count": 75,
     "metadata": {},
     "output_type": "execute_result"
    }
   ],
   "source": [
    "β[1,:]"
   ]
  },
  {
   "cell_type": "code",
   "execution_count": 76,
   "metadata": {},
   "outputs": [
    {
     "data": {
      "image/svg+xml": [
       "<?xml version=\"1.0\" encoding=\"utf-8\"?>\n",
       "<svg xmlns=\"http://www.w3.org/2000/svg\" xmlns:xlink=\"http://www.w3.org/1999/xlink\" width=\"600\" height=\"400\" viewBox=\"0 0 2400 1600\">\n",
       "<defs>\n",
       "  <clipPath id=\"clip000\">\n",
       "    <rect x=\"0\" y=\"0\" width=\"2400\" height=\"1600\"/>\n",
       "  </clipPath>\n",
       "</defs>\n",
       "<path clip-path=\"url(#clip000)\" d=\"\n",
       "M0 1600 L2400 1600 L2400 0 L0 0  Z\n",
       "  \" fill=\"#ffffff\" fill-rule=\"evenodd\" fill-opacity=\"1\"/>\n",
       "<defs>\n",
       "  <clipPath id=\"clip001\">\n",
       "    <rect x=\"480\" y=\"0\" width=\"1681\" height=\"1600\"/>\n",
       "  </clipPath>\n",
       "</defs>\n",
       "<path clip-path=\"url(#clip000)\" d=\"\n",
       "M253.612 1486.45 L2352.76 1486.45 L2352.76 47.2441 L253.612 47.2441  Z\n",
       "  \" fill=\"#ffffff\" fill-rule=\"evenodd\" fill-opacity=\"1\"/>\n",
       "<defs>\n",
       "  <clipPath id=\"clip002\">\n",
       "    <rect x=\"253\" y=\"47\" width=\"2100\" height=\"1440\"/>\n",
       "  </clipPath>\n",
       "</defs>\n",
       "<polyline clip-path=\"url(#clip002)\" style=\"stroke:#000000; stroke-linecap:butt; stroke-linejoin:round; stroke-width:2; stroke-opacity:0.1; fill:none\" points=\"\n",
       "  313.021,1486.45 313.021,47.2441 \n",
       "  \"/>\n",
       "<polyline clip-path=\"url(#clip002)\" style=\"stroke:#000000; stroke-linecap:butt; stroke-linejoin:round; stroke-width:2; stroke-opacity:0.1; fill:none\" points=\"\n",
       "  808.103,1486.45 808.103,47.2441 \n",
       "  \"/>\n",
       "<polyline clip-path=\"url(#clip002)\" style=\"stroke:#000000; stroke-linecap:butt; stroke-linejoin:round; stroke-width:2; stroke-opacity:0.1; fill:none\" points=\"\n",
       "  1303.18,1486.45 1303.18,47.2441 \n",
       "  \"/>\n",
       "<polyline clip-path=\"url(#clip002)\" style=\"stroke:#000000; stroke-linecap:butt; stroke-linejoin:round; stroke-width:2; stroke-opacity:0.1; fill:none\" points=\"\n",
       "  1798.26,1486.45 1798.26,47.2441 \n",
       "  \"/>\n",
       "<polyline clip-path=\"url(#clip002)\" style=\"stroke:#000000; stroke-linecap:butt; stroke-linejoin:round; stroke-width:2; stroke-opacity:0.1; fill:none\" points=\"\n",
       "  2293.35,1486.45 2293.35,47.2441 \n",
       "  \"/>\n",
       "<polyline clip-path=\"url(#clip000)\" style=\"stroke:#000000; stroke-linecap:butt; stroke-linejoin:round; stroke-width:4; stroke-opacity:1; fill:none\" points=\"\n",
       "  253.612,1486.45 2352.76,1486.45 \n",
       "  \"/>\n",
       "<polyline clip-path=\"url(#clip000)\" style=\"stroke:#000000; stroke-linecap:butt; stroke-linejoin:round; stroke-width:4; stroke-opacity:1; fill:none\" points=\"\n",
       "  313.021,1486.45 313.021,1467.55 \n",
       "  \"/>\n",
       "<polyline clip-path=\"url(#clip000)\" style=\"stroke:#000000; stroke-linecap:butt; stroke-linejoin:round; stroke-width:4; stroke-opacity:1; fill:none\" points=\"\n",
       "  808.103,1486.45 808.103,1467.55 \n",
       "  \"/>\n",
       "<polyline clip-path=\"url(#clip000)\" style=\"stroke:#000000; stroke-linecap:butt; stroke-linejoin:round; stroke-width:4; stroke-opacity:1; fill:none\" points=\"\n",
       "  1303.18,1486.45 1303.18,1467.55 \n",
       "  \"/>\n",
       "<polyline clip-path=\"url(#clip000)\" style=\"stroke:#000000; stroke-linecap:butt; stroke-linejoin:round; stroke-width:4; stroke-opacity:1; fill:none\" points=\"\n",
       "  1798.26,1486.45 1798.26,1467.55 \n",
       "  \"/>\n",
       "<polyline clip-path=\"url(#clip000)\" style=\"stroke:#000000; stroke-linecap:butt; stroke-linejoin:round; stroke-width:4; stroke-opacity:1; fill:none\" points=\"\n",
       "  2293.35,1486.45 2293.35,1467.55 \n",
       "  \"/>\n",
       "<path clip-path=\"url(#clip000)\" d=\"M290.406 1517.37 Q286.795 1517.37 284.966 1520.93 Q283.16 1524.47 283.16 1531.6 Q283.16 1538.71 284.966 1542.27 Q286.795 1545.82 290.406 1545.82 Q294.04 1545.82 295.846 1542.27 Q297.674 1538.71 297.674 1531.6 Q297.674 1524.47 295.846 1520.93 Q294.04 1517.37 290.406 1517.37 M290.406 1513.66 Q296.216 1513.66 299.271 1518.27 Q302.35 1522.85 302.35 1531.6 Q302.35 1540.33 299.271 1544.94 Q296.216 1549.52 290.406 1549.52 Q284.596 1549.52 281.517 1544.94 Q278.461 1540.33 278.461 1531.6 Q278.461 1522.85 281.517 1518.27 Q284.596 1513.66 290.406 1513.66 Z\" fill=\"#000000\" fill-rule=\"evenodd\" fill-opacity=\"1\" /><path clip-path=\"url(#clip000)\" d=\"M310.568 1542.97 L315.452 1542.97 L315.452 1548.85 L310.568 1548.85 L310.568 1542.97 Z\" fill=\"#000000\" fill-rule=\"evenodd\" fill-opacity=\"1\" /><path clip-path=\"url(#clip000)\" d=\"M335.637 1517.37 Q332.026 1517.37 330.197 1520.93 Q328.392 1524.47 328.392 1531.6 Q328.392 1538.71 330.197 1542.27 Q332.026 1545.82 335.637 1545.82 Q339.271 1545.82 341.077 1542.27 Q342.905 1538.71 342.905 1531.6 Q342.905 1524.47 341.077 1520.93 Q339.271 1517.37 335.637 1517.37 M335.637 1513.66 Q341.447 1513.66 344.503 1518.27 Q347.581 1522.85 347.581 1531.6 Q347.581 1540.33 344.503 1544.94 Q341.447 1549.52 335.637 1549.52 Q329.827 1549.52 326.748 1544.94 Q323.693 1540.33 323.693 1531.6 Q323.693 1522.85 326.748 1518.27 Q329.827 1513.66 335.637 1513.66 Z\" fill=\"#000000\" fill-rule=\"evenodd\" fill-opacity=\"1\" /><path clip-path=\"url(#clip000)\" d=\"M779.839 1544.91 L796.158 1544.91 L796.158 1548.85 L774.214 1548.85 L774.214 1544.91 Q776.876 1542.16 781.459 1537.53 Q786.066 1532.88 787.246 1531.53 Q789.492 1529.01 790.371 1527.27 Q791.274 1525.51 791.274 1523.82 Q791.274 1521.07 789.33 1519.33 Q787.408 1517.6 784.306 1517.6 Q782.107 1517.6 779.654 1518.36 Q777.223 1519.13 774.445 1520.68 L774.445 1515.95 Q777.269 1514.82 779.723 1514.24 Q782.177 1513.66 784.214 1513.66 Q789.584 1513.66 792.779 1516.35 Q795.973 1519.03 795.973 1523.52 Q795.973 1525.65 795.163 1527.57 Q794.376 1529.47 792.269 1532.07 Q791.691 1532.74 788.589 1535.95 Q785.487 1539.15 779.839 1544.91 Z\" fill=\"#000000\" fill-rule=\"evenodd\" fill-opacity=\"1\" /><path clip-path=\"url(#clip000)\" d=\"M805.973 1542.97 L810.857 1542.97 L810.857 1548.85 L805.973 1548.85 L805.973 1542.97 Z\" fill=\"#000000\" fill-rule=\"evenodd\" fill-opacity=\"1\" /><path clip-path=\"url(#clip000)\" d=\"M821.089 1514.29 L839.445 1514.29 L839.445 1518.22 L825.371 1518.22 L825.371 1526.7 Q826.389 1526.35 827.408 1526.19 Q828.427 1526 829.445 1526 Q835.232 1526 838.612 1529.17 Q841.991 1532.34 841.991 1537.76 Q841.991 1543.34 838.519 1546.44 Q835.047 1549.52 828.727 1549.52 Q826.552 1549.52 824.283 1549.15 Q822.038 1548.78 819.63 1548.04 L819.63 1543.34 Q821.714 1544.47 823.936 1545.03 Q826.158 1545.58 828.635 1545.58 Q832.639 1545.58 834.977 1543.48 Q837.315 1541.37 837.315 1537.76 Q837.315 1534.15 834.977 1532.04 Q832.639 1529.94 828.635 1529.94 Q826.76 1529.94 824.885 1530.35 Q823.033 1530.77 821.089 1531.65 L821.089 1514.29 Z\" fill=\"#000000\" fill-rule=\"evenodd\" fill-opacity=\"1\" /><path clip-path=\"url(#clip000)\" d=\"M1270.35 1514.29 L1288.7 1514.29 L1288.7 1518.22 L1274.63 1518.22 L1274.63 1526.7 Q1275.65 1526.35 1276.67 1526.19 Q1277.69 1526 1278.7 1526 Q1284.49 1526 1287.87 1529.17 Q1291.25 1532.34 1291.25 1537.76 Q1291.25 1543.34 1287.78 1546.44 Q1284.31 1549.52 1277.99 1549.52 Q1275.81 1549.52 1273.54 1549.15 Q1271.3 1548.78 1268.89 1548.04 L1268.89 1543.34 Q1270.97 1544.47 1273.2 1545.03 Q1275.42 1545.58 1277.89 1545.58 Q1281.9 1545.58 1284.24 1543.48 Q1286.58 1541.37 1286.58 1537.76 Q1286.58 1534.15 1284.24 1532.04 Q1281.9 1529.94 1277.89 1529.94 Q1276.02 1529.94 1274.14 1530.35 Q1272.29 1530.77 1270.35 1531.65 L1270.35 1514.29 Z\" fill=\"#000000\" fill-rule=\"evenodd\" fill-opacity=\"1\" /><path clip-path=\"url(#clip000)\" d=\"M1300.46 1542.97 L1305.35 1542.97 L1305.35 1548.85 L1300.46 1548.85 L1300.46 1542.97 Z\" fill=\"#000000\" fill-rule=\"evenodd\" fill-opacity=\"1\" /><path clip-path=\"url(#clip000)\" d=\"M1325.53 1517.37 Q1321.92 1517.37 1320.09 1520.93 Q1318.29 1524.47 1318.29 1531.6 Q1318.29 1538.71 1320.09 1542.27 Q1321.92 1545.82 1325.53 1545.82 Q1329.17 1545.82 1330.97 1542.27 Q1332.8 1538.71 1332.8 1531.6 Q1332.8 1524.47 1330.97 1520.93 Q1329.17 1517.37 1325.53 1517.37 M1325.53 1513.66 Q1331.34 1513.66 1334.4 1518.27 Q1337.48 1522.85 1337.48 1531.6 Q1337.48 1540.33 1334.4 1544.94 Q1331.34 1549.52 1325.53 1549.52 Q1319.72 1549.52 1316.64 1544.94 Q1313.59 1540.33 1313.59 1531.6 Q1313.59 1522.85 1316.64 1518.27 Q1319.72 1513.66 1325.53 1513.66 Z\" fill=\"#000000\" fill-rule=\"evenodd\" fill-opacity=\"1\" /><path clip-path=\"url(#clip000)\" d=\"M1764.58 1514.29 L1786.81 1514.29 L1786.81 1516.28 L1774.26 1548.85 L1769.38 1548.85 L1781.18 1518.22 L1764.58 1518.22 L1764.58 1514.29 Z\" fill=\"#000000\" fill-rule=\"evenodd\" fill-opacity=\"1\" /><path clip-path=\"url(#clip000)\" d=\"M1795.93 1542.97 L1800.81 1542.97 L1800.81 1548.85 L1795.93 1548.85 L1795.93 1542.97 Z\" fill=\"#000000\" fill-rule=\"evenodd\" fill-opacity=\"1\" /><path clip-path=\"url(#clip000)\" d=\"M1811.04 1514.29 L1829.4 1514.29 L1829.4 1518.22 L1815.33 1518.22 L1815.33 1526.7 Q1816.34 1526.35 1817.36 1526.19 Q1818.38 1526 1819.4 1526 Q1825.19 1526 1828.57 1529.17 Q1831.95 1532.34 1831.95 1537.76 Q1831.95 1543.34 1828.47 1546.44 Q1825 1549.52 1818.68 1549.52 Q1816.51 1549.52 1814.24 1549.15 Q1811.99 1548.78 1809.58 1548.04 L1809.58 1543.34 Q1811.67 1544.47 1813.89 1545.03 Q1816.11 1545.58 1818.59 1545.58 Q1822.59 1545.58 1824.93 1543.48 Q1827.27 1541.37 1827.27 1537.76 Q1827.27 1534.15 1824.93 1532.04 Q1822.59 1529.94 1818.59 1529.94 Q1816.71 1529.94 1814.84 1530.35 Q1812.99 1530.77 1811.04 1531.65 L1811.04 1514.29 Z\" fill=\"#000000\" fill-rule=\"evenodd\" fill-opacity=\"1\" /><path clip-path=\"url(#clip000)\" d=\"M2245.42 1544.91 L2253.06 1544.91 L2253.06 1518.55 L2244.75 1520.21 L2244.75 1515.95 L2253.01 1514.29 L2257.69 1514.29 L2257.69 1544.91 L2265.33 1544.91 L2265.33 1548.85 L2245.42 1548.85 L2245.42 1544.91 Z\" fill=\"#000000\" fill-rule=\"evenodd\" fill-opacity=\"1\" /><path clip-path=\"url(#clip000)\" d=\"M2284.77 1517.37 Q2281.16 1517.37 2279.33 1520.93 Q2277.52 1524.47 2277.52 1531.6 Q2277.52 1538.71 2279.33 1542.27 Q2281.16 1545.82 2284.77 1545.82 Q2288.4 1545.82 2290.21 1542.27 Q2292.04 1538.71 2292.04 1531.6 Q2292.04 1524.47 2290.21 1520.93 Q2288.4 1517.37 2284.77 1517.37 M2284.77 1513.66 Q2290.58 1513.66 2293.64 1518.27 Q2296.71 1522.85 2296.71 1531.6 Q2296.71 1540.33 2293.64 1544.94 Q2290.58 1549.52 2284.77 1549.52 Q2278.96 1549.52 2275.88 1544.94 Q2272.83 1540.33 2272.83 1531.6 Q2272.83 1522.85 2275.88 1518.27 Q2278.96 1513.66 2284.77 1513.66 Z\" fill=\"#000000\" fill-rule=\"evenodd\" fill-opacity=\"1\" /><path clip-path=\"url(#clip000)\" d=\"M2304.93 1542.97 L2309.82 1542.97 L2309.82 1548.85 L2304.93 1548.85 L2304.93 1542.97 Z\" fill=\"#000000\" fill-rule=\"evenodd\" fill-opacity=\"1\" /><path clip-path=\"url(#clip000)\" d=\"M2330 1517.37 Q2326.39 1517.37 2324.56 1520.93 Q2322.76 1524.47 2322.76 1531.6 Q2322.76 1538.71 2324.56 1542.27 Q2326.39 1545.82 2330 1545.82 Q2333.64 1545.82 2335.44 1542.27 Q2337.27 1538.71 2337.27 1531.6 Q2337.27 1524.47 2335.44 1520.93 Q2333.64 1517.37 2330 1517.37 M2330 1513.66 Q2335.81 1513.66 2338.87 1518.27 Q2341.95 1522.85 2341.95 1531.6 Q2341.95 1540.33 2338.87 1544.94 Q2335.81 1549.52 2330 1549.52 Q2324.19 1549.52 2321.11 1544.94 Q2318.06 1540.33 2318.06 1531.6 Q2318.06 1522.85 2321.11 1518.27 Q2324.19 1513.66 2330 1513.66 Z\" fill=\"#000000\" fill-rule=\"evenodd\" fill-opacity=\"1\" /><polyline clip-path=\"url(#clip002)\" style=\"stroke:#000000; stroke-linecap:butt; stroke-linejoin:round; stroke-width:2; stroke-opacity:0.1; fill:none\" points=\"\n",
       "  253.612,1262.63 2352.76,1262.63 \n",
       "  \"/>\n",
       "<polyline clip-path=\"url(#clip002)\" style=\"stroke:#000000; stroke-linecap:butt; stroke-linejoin:round; stroke-width:2; stroke-opacity:0.1; fill:none\" points=\"\n",
       "  253.612,994.512 2352.76,994.512 \n",
       "  \"/>\n",
       "<polyline clip-path=\"url(#clip002)\" style=\"stroke:#000000; stroke-linecap:butt; stroke-linejoin:round; stroke-width:2; stroke-opacity:0.1; fill:none\" points=\"\n",
       "  253.612,726.39 2352.76,726.39 \n",
       "  \"/>\n",
       "<polyline clip-path=\"url(#clip002)\" style=\"stroke:#000000; stroke-linecap:butt; stroke-linejoin:round; stroke-width:2; stroke-opacity:0.1; fill:none\" points=\"\n",
       "  253.612,458.269 2352.76,458.269 \n",
       "  \"/>\n",
       "<polyline clip-path=\"url(#clip002)\" style=\"stroke:#000000; stroke-linecap:butt; stroke-linejoin:round; stroke-width:2; stroke-opacity:0.1; fill:none\" points=\"\n",
       "  253.612,190.147 2352.76,190.147 \n",
       "  \"/>\n",
       "<polyline clip-path=\"url(#clip000)\" style=\"stroke:#000000; stroke-linecap:butt; stroke-linejoin:round; stroke-width:4; stroke-opacity:1; fill:none\" points=\"\n",
       "  253.612,1486.45 253.612,47.2441 \n",
       "  \"/>\n",
       "<polyline clip-path=\"url(#clip000)\" style=\"stroke:#000000; stroke-linecap:butt; stroke-linejoin:round; stroke-width:4; stroke-opacity:1; fill:none\" points=\"\n",
       "  253.612,1262.63 272.509,1262.63 \n",
       "  \"/>\n",
       "<polyline clip-path=\"url(#clip000)\" style=\"stroke:#000000; stroke-linecap:butt; stroke-linejoin:round; stroke-width:4; stroke-opacity:1; fill:none\" points=\"\n",
       "  253.612,994.512 272.509,994.512 \n",
       "  \"/>\n",
       "<polyline clip-path=\"url(#clip000)\" style=\"stroke:#000000; stroke-linecap:butt; stroke-linejoin:round; stroke-width:4; stroke-opacity:1; fill:none\" points=\"\n",
       "  253.612,726.39 272.509,726.39 \n",
       "  \"/>\n",
       "<polyline clip-path=\"url(#clip000)\" style=\"stroke:#000000; stroke-linecap:butt; stroke-linejoin:round; stroke-width:4; stroke-opacity:1; fill:none\" points=\"\n",
       "  253.612,458.269 272.509,458.269 \n",
       "  \"/>\n",
       "<polyline clip-path=\"url(#clip000)\" style=\"stroke:#000000; stroke-linecap:butt; stroke-linejoin:round; stroke-width:4; stroke-opacity:1; fill:none\" points=\"\n",
       "  253.612,190.147 272.509,190.147 \n",
       "  \"/>\n",
       "<path clip-path=\"url(#clip000)\" d=\"M50.9921 1263.08 L80.6679 1263.08 L80.6679 1267.02 L50.9921 1267.02 L50.9921 1263.08 Z\" fill=\"#000000\" fill-rule=\"evenodd\" fill-opacity=\"1\" /><path clip-path=\"url(#clip000)\" d=\"M100.76 1248.43 Q97.1493 1248.43 95.3206 1252 Q93.515 1255.54 93.515 1262.67 Q93.515 1269.77 95.3206 1273.34 Q97.1493 1276.88 100.76 1276.88 Q104.395 1276.88 106.2 1273.34 Q108.029 1269.77 108.029 1262.67 Q108.029 1255.54 106.2 1252 Q104.395 1248.43 100.76 1248.43 M100.76 1244.73 Q106.571 1244.73 109.626 1249.33 Q112.705 1253.92 112.705 1262.67 Q112.705 1271.39 109.626 1276 Q106.571 1280.58 100.76 1280.58 Q94.9502 1280.58 91.8715 1276 Q88.816 1271.39 88.816 1262.67 Q88.816 1253.92 91.8715 1249.33 Q94.9502 1244.73 100.76 1244.73 Z\" fill=\"#000000\" fill-rule=\"evenodd\" fill-opacity=\"1\" /><path clip-path=\"url(#clip000)\" d=\"M120.922 1274.03 L125.807 1274.03 L125.807 1279.91 L120.922 1279.91 L120.922 1274.03 Z\" fill=\"#000000\" fill-rule=\"evenodd\" fill-opacity=\"1\" /><path clip-path=\"url(#clip000)\" d=\"M145.992 1248.43 Q142.381 1248.43 140.552 1252 Q138.746 1255.54 138.746 1262.67 Q138.746 1269.77 140.552 1273.34 Q142.381 1276.88 145.992 1276.88 Q149.626 1276.88 151.431 1273.34 Q153.26 1269.77 153.26 1262.67 Q153.26 1255.54 151.431 1252 Q149.626 1248.43 145.992 1248.43 M145.992 1244.73 Q151.802 1244.73 154.857 1249.33 Q157.936 1253.92 157.936 1262.67 Q157.936 1271.39 154.857 1276 Q151.802 1280.58 145.992 1280.58 Q140.181 1280.58 137.103 1276 Q134.047 1271.39 134.047 1262.67 Q134.047 1253.92 137.103 1249.33 Q140.181 1244.73 145.992 1244.73 Z\" fill=\"#000000\" fill-rule=\"evenodd\" fill-opacity=\"1\" /><path clip-path=\"url(#clip000)\" d=\"M176.153 1248.43 Q172.542 1248.43 170.714 1252 Q168.908 1255.54 168.908 1262.67 Q168.908 1269.77 170.714 1273.34 Q172.542 1276.88 176.153 1276.88 Q179.788 1276.88 181.593 1273.34 Q183.422 1269.77 183.422 1262.67 Q183.422 1255.54 181.593 1252 Q179.788 1248.43 176.153 1248.43 M176.153 1244.73 Q181.964 1244.73 185.019 1249.33 Q188.098 1253.92 188.098 1262.67 Q188.098 1271.39 185.019 1276 Q181.964 1280.58 176.153 1280.58 Q170.343 1280.58 167.265 1276 Q164.209 1271.39 164.209 1262.67 Q164.209 1253.92 167.265 1249.33 Q170.343 1244.73 176.153 1244.73 Z\" fill=\"#000000\" fill-rule=\"evenodd\" fill-opacity=\"1\" /><path clip-path=\"url(#clip000)\" d=\"M210.482 1261.28 Q213.838 1262 215.713 1264.26 Q217.612 1266.53 217.612 1269.87 Q217.612 1274.98 214.093 1277.78 Q210.575 1280.58 204.093 1280.58 Q201.917 1280.58 199.602 1280.14 Q197.311 1279.73 194.857 1278.87 L194.857 1274.36 Q196.802 1275.49 199.116 1276.07 Q201.431 1276.65 203.954 1276.65 Q208.352 1276.65 210.644 1274.91 Q212.959 1273.18 212.959 1269.87 Q212.959 1266.81 210.806 1265.1 Q208.676 1263.36 204.857 1263.36 L200.829 1263.36 L200.829 1259.52 L205.042 1259.52 Q208.491 1259.52 210.32 1258.15 Q212.149 1256.76 212.149 1254.17 Q212.149 1251.51 210.251 1250.1 Q208.376 1248.66 204.857 1248.66 Q202.936 1248.66 200.737 1249.08 Q198.538 1249.5 195.899 1250.38 L195.899 1246.21 Q198.561 1245.47 200.876 1245.1 Q203.214 1244.73 205.274 1244.73 Q210.598 1244.73 213.7 1247.16 Q216.801 1249.57 216.801 1253.69 Q216.801 1256.56 215.158 1258.55 Q213.514 1260.51 210.482 1261.28 Z\" fill=\"#000000\" fill-rule=\"evenodd\" fill-opacity=\"1\" /><path clip-path=\"url(#clip000)\" d=\"M51.9412 994.963 L81.617 994.963 L81.617 998.898 L51.9412 998.898 L51.9412 994.963 Z\" fill=\"#000000\" fill-rule=\"evenodd\" fill-opacity=\"1\" /><path clip-path=\"url(#clip000)\" d=\"M101.709 980.31 Q98.0984 980.31 96.2697 983.875 Q94.4641 987.417 94.4641 994.546 Q94.4641 1001.65 96.2697 1005.22 Q98.0984 1008.76 101.709 1008.76 Q105.344 1008.76 107.149 1005.22 Q108.978 1001.65 108.978 994.546 Q108.978 987.417 107.149 983.875 Q105.344 980.31 101.709 980.31 M101.709 976.607 Q107.52 976.607 110.575 981.213 Q113.654 985.796 113.654 994.546 Q113.654 1003.27 110.575 1007.88 Q107.52 1012.46 101.709 1012.46 Q95.8993 1012.46 92.8206 1007.88 Q89.7651 1003.27 89.7651 994.546 Q89.7651 985.796 92.8206 981.213 Q95.8993 976.607 101.709 976.607 Z\" fill=\"#000000\" fill-rule=\"evenodd\" fill-opacity=\"1\" /><path clip-path=\"url(#clip000)\" d=\"M121.871 1005.91 L126.756 1005.91 L126.756 1011.79 L121.871 1011.79 L121.871 1005.91 Z\" fill=\"#000000\" fill-rule=\"evenodd\" fill-opacity=\"1\" /><path clip-path=\"url(#clip000)\" d=\"M146.941 980.31 Q143.33 980.31 141.501 983.875 Q139.695 987.417 139.695 994.546 Q139.695 1001.65 141.501 1005.22 Q143.33 1008.76 146.941 1008.76 Q150.575 1008.76 152.38 1005.22 Q154.209 1001.65 154.209 994.546 Q154.209 987.417 152.38 983.875 Q150.575 980.31 146.941 980.31 M146.941 976.607 Q152.751 976.607 155.806 981.213 Q158.885 985.796 158.885 994.546 Q158.885 1003.27 155.806 1007.88 Q152.751 1012.46 146.941 1012.46 Q141.131 1012.46 138.052 1007.88 Q134.996 1003.27 134.996 994.546 Q134.996 985.796 138.052 981.213 Q141.131 976.607 146.941 976.607 Z\" fill=\"#000000\" fill-rule=\"evenodd\" fill-opacity=\"1\" /><path clip-path=\"url(#clip000)\" d=\"M177.103 980.31 Q173.491 980.31 171.663 983.875 Q169.857 987.417 169.857 994.546 Q169.857 1001.65 171.663 1005.22 Q173.491 1008.76 177.103 1008.76 Q180.737 1008.76 182.542 1005.22 Q184.371 1001.65 184.371 994.546 Q184.371 987.417 182.542 983.875 Q180.737 980.31 177.103 980.31 M177.103 976.607 Q182.913 976.607 185.968 981.213 Q189.047 985.796 189.047 994.546 Q189.047 1003.27 185.968 1007.88 Q182.913 1012.46 177.103 1012.46 Q171.292 1012.46 168.214 1007.88 Q165.158 1003.27 165.158 994.546 Q165.158 985.796 168.214 981.213 Q171.292 976.607 177.103 976.607 Z\" fill=\"#000000\" fill-rule=\"evenodd\" fill-opacity=\"1\" /><path clip-path=\"url(#clip000)\" d=\"M201.292 1007.86 L217.612 1007.86 L217.612 1011.79 L195.667 1011.79 L195.667 1007.86 Q198.329 1005.1 202.913 1000.47 Q207.519 995.819 208.7 994.477 Q210.945 991.954 211.825 990.218 Q212.727 988.458 212.727 986.769 Q212.727 984.014 210.783 982.278 Q208.862 980.542 205.76 980.542 Q203.561 980.542 201.107 981.306 Q198.677 982.07 195.899 983.62 L195.899 978.898 Q198.723 977.764 201.177 977.185 Q203.63 976.607 205.667 976.607 Q211.038 976.607 214.232 979.292 Q217.426 981.977 217.426 986.468 Q217.426 988.597 216.616 990.519 Q215.829 992.417 213.723 995.009 Q213.144 995.681 210.042 998.898 Q206.94 1002.09 201.292 1007.86 Z\" fill=\"#000000\" fill-rule=\"evenodd\" fill-opacity=\"1\" /><path clip-path=\"url(#clip000)\" d=\"M51.5708 726.842 L81.2466 726.842 L81.2466 730.777 L51.5708 730.777 L51.5708 726.842 Z\" fill=\"#000000\" fill-rule=\"evenodd\" fill-opacity=\"1\" /><path clip-path=\"url(#clip000)\" d=\"M101.339 712.189 Q97.728 712.189 95.8993 715.754 Q94.0937 719.295 94.0937 726.425 Q94.0937 733.531 95.8993 737.096 Q97.728 740.638 101.339 740.638 Q104.973 740.638 106.779 737.096 Q108.608 733.531 108.608 726.425 Q108.608 719.295 106.779 715.754 Q104.973 712.189 101.339 712.189 M101.339 708.485 Q107.149 708.485 110.205 713.092 Q113.283 717.675 113.283 726.425 Q113.283 735.152 110.205 739.758 Q107.149 744.341 101.339 744.341 Q95.5289 744.341 92.4502 739.758 Q89.3947 735.152 89.3947 726.425 Q89.3947 717.675 92.4502 713.092 Q95.5289 708.485 101.339 708.485 Z\" fill=\"#000000\" fill-rule=\"evenodd\" fill-opacity=\"1\" /><path clip-path=\"url(#clip000)\" d=\"M121.501 737.791 L126.385 737.791 L126.385 743.67 L121.501 743.67 L121.501 737.791 Z\" fill=\"#000000\" fill-rule=\"evenodd\" fill-opacity=\"1\" /><path clip-path=\"url(#clip000)\" d=\"M146.57 712.189 Q142.959 712.189 141.131 715.754 Q139.325 719.295 139.325 726.425 Q139.325 733.531 141.131 737.096 Q142.959 740.638 146.57 740.638 Q150.205 740.638 152.01 737.096 Q153.839 733.531 153.839 726.425 Q153.839 719.295 152.01 715.754 Q150.205 712.189 146.57 712.189 M146.57 708.485 Q152.38 708.485 155.436 713.092 Q158.515 717.675 158.515 726.425 Q158.515 735.152 155.436 739.758 Q152.38 744.341 146.57 744.341 Q140.76 744.341 137.681 739.758 Q134.626 735.152 134.626 726.425 Q134.626 717.675 137.681 713.092 Q140.76 708.485 146.57 708.485 Z\" fill=\"#000000\" fill-rule=\"evenodd\" fill-opacity=\"1\" /><path clip-path=\"url(#clip000)\" d=\"M176.732 712.189 Q173.121 712.189 171.292 715.754 Q169.487 719.295 169.487 726.425 Q169.487 733.531 171.292 737.096 Q173.121 740.638 176.732 740.638 Q180.366 740.638 182.172 737.096 Q184.001 733.531 184.001 726.425 Q184.001 719.295 182.172 715.754 Q180.366 712.189 176.732 712.189 M176.732 708.485 Q182.542 708.485 185.598 713.092 Q188.677 717.675 188.677 726.425 Q188.677 735.152 185.598 739.758 Q182.542 744.341 176.732 744.341 Q170.922 744.341 167.843 739.758 Q164.788 735.152 164.788 726.425 Q164.788 717.675 167.843 713.092 Q170.922 708.485 176.732 708.485 Z\" fill=\"#000000\" fill-rule=\"evenodd\" fill-opacity=\"1\" /><path clip-path=\"url(#clip000)\" d=\"M197.704 739.735 L205.343 739.735 L205.343 713.369 L197.033 715.036 L197.033 710.777 L205.297 709.11 L209.973 709.11 L209.973 739.735 L217.612 739.735 L217.612 743.67 L197.704 743.67 L197.704 739.735 Z\" fill=\"#000000\" fill-rule=\"evenodd\" fill-opacity=\"1\" /><path clip-path=\"url(#clip000)\" d=\"M100.112 444.068 Q96.5011 444.068 94.6724 447.632 Q92.8669 451.174 92.8669 458.304 Q92.8669 465.41 94.6724 468.975 Q96.5011 472.516 100.112 472.516 Q103.746 472.516 105.552 468.975 Q107.381 465.41 107.381 458.304 Q107.381 451.174 105.552 447.632 Q103.746 444.068 100.112 444.068 M100.112 440.364 Q105.922 440.364 108.978 444.97 Q112.057 449.554 112.057 458.304 Q112.057 467.03 108.978 471.637 Q105.922 476.22 100.112 476.22 Q94.3021 476.22 91.2234 471.637 Q88.1679 467.03 88.1679 458.304 Q88.1679 449.554 91.2234 444.97 Q94.3021 440.364 100.112 440.364 Z\" fill=\"#000000\" fill-rule=\"evenodd\" fill-opacity=\"1\" /><path clip-path=\"url(#clip000)\" d=\"M120.274 469.669 L125.158 469.669 L125.158 475.549 L120.274 475.549 L120.274 469.669 Z\" fill=\"#000000\" fill-rule=\"evenodd\" fill-opacity=\"1\" /><path clip-path=\"url(#clip000)\" d=\"M145.343 444.068 Q141.732 444.068 139.904 447.632 Q138.098 451.174 138.098 458.304 Q138.098 465.41 139.904 468.975 Q141.732 472.516 145.343 472.516 Q148.978 472.516 150.783 468.975 Q152.612 465.41 152.612 458.304 Q152.612 451.174 150.783 447.632 Q148.978 444.068 145.343 444.068 M145.343 440.364 Q151.154 440.364 154.209 444.97 Q157.288 449.554 157.288 458.304 Q157.288 467.03 154.209 471.637 Q151.154 476.22 145.343 476.22 Q139.533 476.22 136.455 471.637 Q133.399 467.03 133.399 458.304 Q133.399 449.554 136.455 444.97 Q139.533 440.364 145.343 440.364 Z\" fill=\"#000000\" fill-rule=\"evenodd\" fill-opacity=\"1\" /><path clip-path=\"url(#clip000)\" d=\"M175.505 444.068 Q171.894 444.068 170.066 447.632 Q168.26 451.174 168.26 458.304 Q168.26 465.41 170.066 468.975 Q171.894 472.516 175.505 472.516 Q179.14 472.516 180.945 468.975 Q182.774 465.41 182.774 458.304 Q182.774 451.174 180.945 447.632 Q179.14 444.068 175.505 444.068 M175.505 440.364 Q181.316 440.364 184.371 444.97 Q187.45 449.554 187.45 458.304 Q187.45 467.03 184.371 471.637 Q181.316 476.22 175.505 476.22 Q169.695 476.22 166.617 471.637 Q163.561 467.03 163.561 458.304 Q163.561 449.554 166.617 444.97 Q169.695 440.364 175.505 440.364 Z\" fill=\"#000000\" fill-rule=\"evenodd\" fill-opacity=\"1\" /><path clip-path=\"url(#clip000)\" d=\"M205.667 444.068 Q202.056 444.068 200.227 447.632 Q198.422 451.174 198.422 458.304 Q198.422 465.41 200.227 468.975 Q202.056 472.516 205.667 472.516 Q209.301 472.516 211.107 468.975 Q212.936 465.41 212.936 458.304 Q212.936 451.174 211.107 447.632 Q209.301 444.068 205.667 444.068 M205.667 440.364 Q211.477 440.364 214.533 444.97 Q217.612 449.554 217.612 458.304 Q217.612 467.03 214.533 471.637 Q211.477 476.22 205.667 476.22 Q199.857 476.22 196.778 471.637 Q193.723 467.03 193.723 458.304 Q193.723 449.554 196.778 444.97 Q199.857 440.364 205.667 440.364 Z\" fill=\"#000000\" fill-rule=\"evenodd\" fill-opacity=\"1\" /><path clip-path=\"url(#clip000)\" d=\"M101.339 175.946 Q97.728 175.946 95.8993 179.511 Q94.0937 183.053 94.0937 190.182 Q94.0937 197.289 95.8993 200.853 Q97.728 204.395 101.339 204.395 Q104.973 204.395 106.779 200.853 Q108.608 197.289 108.608 190.182 Q108.608 183.053 106.779 179.511 Q104.973 175.946 101.339 175.946 M101.339 172.242 Q107.149 172.242 110.205 176.849 Q113.283 181.432 113.283 190.182 Q113.283 198.909 110.205 203.515 Q107.149 208.099 101.339 208.099 Q95.5289 208.099 92.4502 203.515 Q89.3947 198.909 89.3947 190.182 Q89.3947 181.432 92.4502 176.849 Q95.5289 172.242 101.339 172.242 Z\" fill=\"#000000\" fill-rule=\"evenodd\" fill-opacity=\"1\" /><path clip-path=\"url(#clip000)\" d=\"M121.501 201.548 L126.385 201.548 L126.385 207.427 L121.501 207.427 L121.501 201.548 Z\" fill=\"#000000\" fill-rule=\"evenodd\" fill-opacity=\"1\" /><path clip-path=\"url(#clip000)\" d=\"M146.57 175.946 Q142.959 175.946 141.131 179.511 Q139.325 183.053 139.325 190.182 Q139.325 197.289 141.131 200.853 Q142.959 204.395 146.57 204.395 Q150.205 204.395 152.01 200.853 Q153.839 197.289 153.839 190.182 Q153.839 183.053 152.01 179.511 Q150.205 175.946 146.57 175.946 M146.57 172.242 Q152.38 172.242 155.436 176.849 Q158.515 181.432 158.515 190.182 Q158.515 198.909 155.436 203.515 Q152.38 208.099 146.57 208.099 Q140.76 208.099 137.681 203.515 Q134.626 198.909 134.626 190.182 Q134.626 181.432 137.681 176.849 Q140.76 172.242 146.57 172.242 Z\" fill=\"#000000\" fill-rule=\"evenodd\" fill-opacity=\"1\" /><path clip-path=\"url(#clip000)\" d=\"M176.732 175.946 Q173.121 175.946 171.292 179.511 Q169.487 183.053 169.487 190.182 Q169.487 197.289 171.292 200.853 Q173.121 204.395 176.732 204.395 Q180.366 204.395 182.172 200.853 Q184.001 197.289 184.001 190.182 Q184.001 183.053 182.172 179.511 Q180.366 175.946 176.732 175.946 M176.732 172.242 Q182.542 172.242 185.598 176.849 Q188.677 181.432 188.677 190.182 Q188.677 198.909 185.598 203.515 Q182.542 208.099 176.732 208.099 Q170.922 208.099 167.843 203.515 Q164.788 198.909 164.788 190.182 Q164.788 181.432 167.843 176.849 Q170.922 172.242 176.732 172.242 Z\" fill=\"#000000\" fill-rule=\"evenodd\" fill-opacity=\"1\" /><path clip-path=\"url(#clip000)\" d=\"M197.704 203.492 L205.343 203.492 L205.343 177.127 L197.033 178.793 L197.033 174.534 L205.297 172.867 L209.973 172.867 L209.973 203.492 L217.612 203.492 L217.612 207.427 L197.704 207.427 L197.704 203.492 Z\" fill=\"#000000\" fill-rule=\"evenodd\" fill-opacity=\"1\" /><polyline clip-path=\"url(#clip002)\" style=\"stroke:#009af9; stroke-linecap:butt; stroke-linejoin:round; stroke-width:4; stroke-opacity:1; fill:none\" points=\"\n",
       "  313.021,458.269 322.923,696.851 332.825,1172.59 342.726,1445.72 352.628,1296.01 362.529,894.979 372.431,618.226 382.333,696.615 392.234,1027.61 402.136,1296.91 \n",
       "  412.038,1274.22 421.939,1007.24 431.841,753.327 441.742,733.908 451.644,943.697 461.546,1176.91 471.447,1226.81 481.349,1067.07 491.251,857.738 501.152,787.092 \n",
       "  511.054,903.889 520.955,1087.87 530.857,1171.3 540.759,1090.59 550.66,932.13 560.562,842.286 570.464,893.311 580.365,1027.05 590.267,1118.36 600.168,1091.2 \n",
       "  610.07,980.66 619.972,891.619 629.873,900.108 639.775,989.402 649.677,1073.51 659.578,1079.16 669.48,1008.87 679.381,931.507 689.283,915.583 699.185,969.217 \n",
       "  709.086,1038.75 718.988,1061.7 728.89,1022.37 738.791,961.18 748.693,933.87 758.594,961.163 768.496,1013.93 778.398,1043.47 788.299,1026.09 798.201,981.502 \n",
       "  808.103,951.389 818.004,960.785 827.906,997.69 837.807,1027.12 847.709,1023.98 857.611,994.126 867.512,966.276 877.414,964.666 887.316,988.209 897.217,1013.86 \n",
       "  907.119,1018.93 917.02,1000.93 926.922,977.84 936.824,970.394 946.725,983.633 956.627,1003.98 966.529,1012.91 976.43,1003.69 986.332,986.121 996.233,976.412 \n",
       "  1006.14,982.326 1016.04,997.191 1025.94,1007.12 1035.84,1003.87 1045.74,991.555 1055.64,981.829 1065.54,982.979 1075.45,992.959 1085.35,1002.18 1095.25,1002.62 \n",
       "  1105.15,994.741 1115.05,986.234 1124.95,984.623 1134.86,990.665 1144.76,998.332 1154.66,1000.75 1164.56,996.291 1174.46,989.527 1184.36,986.605 1194.27,989.722 \n",
       "  1204.17,995.57 1214.07,998.76 1223.97,996.748 1233.87,991.794 1243.77,988.522 1253.68,989.641 1263.58,993.752 1273.48,996.965 1283.38,996.548 1293.28,993.212 \n",
       "  1303.18,990.16 1313.09,990.042 1322.99,992.682 1332.89,995.502 1342.79,996.013 1352.69,993.986 1362.59,991.44 1372.5,990.658 1382.4,992.157 1392.3,994.405 \n",
       "  1402.2,995.36 1412.1,994.307 1422,992.361 1431.9,991.313 1441.81,991.997 1451.71,993.648 1461.61,994.727 1471.51,994.341 1481.41,992.969 1491.31,991.908 \n",
       "  1501.22,992.058 1511.12,993.173 1521.02,994.183 1530.92,994.212 1540.82,993.329 1550.72,992.394 1560.63,992.232 1570.53,992.912 1580.43,993.757 1590.33,994.011 \n",
       "  1600.23,993.506 1610.13,992.759 1620.04,992.447 1629.94,992.802 1639.84,993.45 1649.74,993.794 1659.64,993.562 1669.54,993.012 1679.45,992.656 1689.35,992.789 \n",
       "  1699.25,993.247 1709.15,993.598 1719.05,993.544 1728.95,993.171 1738.86,992.837 1748.76,992.83 1758.66,993.126 1768.56,993.436 1778.46,993.487 1788.36,993.259 \n",
       "  1798.26,992.978 1808.17,992.896 1818.07,993.066 1827.97,993.314 1837.87,993.416 1847.77,993.296 1857.67,993.081 1867.58,992.968 1877.48,993.047 1887.38,993.23 \n",
       "  1897.28,993.347 1907.18,993.301 1917.08,993.149 1926.99,993.033 1936.89,993.052 1946.79,993.177 1956.69,993.287 1966.59,993.288 1976.49,993.189 1986.4,993.087 \n",
       "  1996.3,993.071 2006.2,993.147 2016.1,993.24 2026,993.267 2035.9,993.21 2045.81,993.127 2055.71,993.094 2065.61,993.134 2075.51,993.206 2085.41,993.243 \n",
       "  2095.31,993.216 2105.22,993.155 2115.12,993.117 2125.02,993.132 2134.92,993.183 2144.82,993.222 2154.72,993.215 2164.63,993.173 2174.53,993.137 2184.43,993.137 \n",
       "  2194.33,993.17 2204.23,993.204 2214.13,993.209 2224.03,993.183 2233.94,993.152 2243.84,993.144 2253.74,993.163 2263.64,993.19 2273.54,993.201 2283.44,993.187 \n",
       "  2293.35,993.164 \n",
       "  \"/>\n",
       "<polyline clip-path=\"url(#clip002)\" style=\"stroke:#e26f46; stroke-linecap:butt; stroke-linejoin:round; stroke-width:4; stroke-opacity:1; fill:none\" points=\"\n",
       "  313.021,458.269 322.923,368.801 332.825,190.4 342.726,87.9763 352.628,144.118 362.529,294.503 372.431,398.285 382.333,368.889 392.234,244.767 402.136,143.78 \n",
       "  412.038,152.285 421.939,252.405 431.841,347.622 441.742,354.904 451.644,276.233 461.546,188.779 471.447,170.068 481.349,229.967 491.251,308.468 501.152,334.96 \n",
       "  511.054,291.161 520.955,222.169 530.857,190.883 540.759,221.15 550.66,280.571 560.562,314.262 570.464,295.128 580.365,244.975 590.267,210.735 600.168,220.921 \n",
       "  610.07,262.372 619.972,295.763 629.873,292.579 639.775,259.094 649.677,227.555 659.578,225.435 669.48,251.792 679.381,280.804 689.283,286.776 699.185,266.663 \n",
       "  709.086,240.587 718.988,231.981 728.89,246.73 738.791,269.677 748.693,279.919 758.594,269.683 768.496,249.895 778.398,238.817 788.299,245.334 798.201,262.056 \n",
       "  808.103,273.349 818.004,269.825 827.906,255.986 837.807,244.949 847.709,246.126 857.611,257.322 867.512,267.766 877.414,268.37 887.316,259.541 897.217,249.921 \n",
       "  907.119,248.019 917.02,254.77 926.922,263.43 936.824,266.222 946.725,261.257 956.627,253.628 966.529,250.277 976.43,253.737 986.332,260.324 996.233,263.965 \n",
       "  1006.14,261.747 1016.04,256.173 1025.94,252.45 1035.84,253.668 1045.74,258.287 1055.64,261.934 1065.54,261.503 1075.45,257.76 1085.35,254.303 1095.25,254.136 \n",
       "  1105.15,257.092 1115.05,260.282 1124.95,260.886 1134.86,258.62 1144.76,255.745 1154.66,254.84 1164.56,256.511 1174.46,259.047 1184.36,260.143 1194.27,258.974 \n",
       "  1204.17,256.781 1214.07,255.585 1223.97,256.339 1233.87,258.197 1243.77,259.424 1253.68,259.004 1263.58,257.463 1273.48,256.258 1283.38,256.414 1293.28,257.665 \n",
       "  1303.18,258.81 1313.09,258.854 1322.99,257.864 1332.89,256.806 1342.79,256.615 1352.69,257.375 1362.59,258.33 1372.5,258.623 1382.4,258.061 1392.3,257.218 \n",
       "  1402.2,256.859 1412.1,257.254 1422,257.984 1431.9,258.377 1441.81,258.121 1451.71,257.502 1461.61,257.097 1471.51,257.242 1481.41,257.756 1491.31,258.154 \n",
       "  1501.22,258.098 1511.12,257.68 1521.02,257.301 1530.92,257.29 1540.82,257.621 1550.72,257.972 1560.63,258.033 1570.53,257.778 1580.43,257.461 1590.33,257.366 \n",
       "  1600.23,257.555 1610.13,257.835 1620.04,257.952 1629.94,257.819 1639.84,257.576 1649.74,257.447 1659.64,257.534 1669.54,257.74 1679.45,257.874 1689.35,257.824 \n",
       "  1699.25,257.652 1709.15,257.521 1719.05,257.541 1728.95,257.681 1738.86,257.806 1748.76,257.808 1758.66,257.697 1768.56,257.581 1778.46,257.562 1788.36,257.648 \n",
       "  1798.26,257.753 1808.17,257.784 1818.07,257.72 1827.97,257.627 1837.87,257.589 1847.77,257.634 1857.67,257.714 1867.58,257.757 1877.48,257.727 1887.38,257.658 \n",
       "  1897.28,257.615 1907.18,257.632 1917.08,257.689 1926.99,257.732 1936.89,257.725 1946.79,257.678 1956.69,257.637 1966.59,257.637 1976.49,257.674 1986.4,257.712 \n",
       "  1996.3,257.718 2006.2,257.69 2016.1,257.655 2026,257.645 2035.9,257.666 2045.81,257.697 2055.71,257.709 2065.61,257.694 2075.51,257.667 2085.41,257.653 \n",
       "  2095.31,257.664 2105.22,257.686 2115.12,257.701 2125.02,257.695 2134.92,257.676 2144.82,257.662 2154.72,257.664 2164.63,257.68 2174.53,257.693 2184.43,257.693 \n",
       "  2194.33,257.681 2204.23,257.668 2214.13,257.666 2224.03,257.676 2233.94,257.688 2243.84,257.691 2253.74,257.684 2263.64,257.673 2273.54,257.669 2283.44,257.674 \n",
       "  2293.35,257.683 \n",
       "  \"/>\n",
       "<path clip-path=\"url(#clip000)\" d=\"\n",
       "M1997.12 250.738 L2282.78 250.738 L2282.78 95.2176 L1997.12 95.2176  Z\n",
       "  \" fill=\"#ffffff\" fill-rule=\"evenodd\" fill-opacity=\"1\"/>\n",
       "<polyline clip-path=\"url(#clip000)\" style=\"stroke:#000000; stroke-linecap:butt; stroke-linejoin:round; stroke-width:4; stroke-opacity:1; fill:none\" points=\"\n",
       "  1997.12,250.738 2282.78,250.738 2282.78,95.2176 1997.12,95.2176 1997.12,250.738 \n",
       "  \"/>\n",
       "<polyline clip-path=\"url(#clip000)\" style=\"stroke:#009af9; stroke-linecap:butt; stroke-linejoin:round; stroke-width:4; stroke-opacity:1; fill:none\" points=\"\n",
       "  2020.44,147.058 2160.38,147.058 \n",
       "  \"/>\n",
       "<path clip-path=\"url(#clip000)\" d=\"M2197.55 166.745 Q2195.74 171.375 2194.03 172.787 Q2192.32 174.199 2189.45 174.199 L2186.04 174.199 L2186.04 170.634 L2188.54 170.634 Q2190.3 170.634 2191.28 169.8 Q2192.25 168.967 2193.43 165.865 L2194.19 163.921 L2183.71 138.412 L2188.22 138.412 L2196.32 158.689 L2204.42 138.412 L2208.94 138.412 L2197.55 166.745 Z\" fill=\"#000000\" fill-rule=\"evenodd\" fill-opacity=\"1\" /><path clip-path=\"url(#clip000)\" d=\"M2216.23 160.402 L2223.87 160.402 L2223.87 134.037 L2215.56 135.703 L2215.56 131.444 L2223.82 129.778 L2228.5 129.778 L2228.5 160.402 L2236.14 160.402 L2236.14 164.338 L2216.23 164.338 L2216.23 160.402 Z\" fill=\"#000000\" fill-rule=\"evenodd\" fill-opacity=\"1\" /><polyline clip-path=\"url(#clip000)\" style=\"stroke:#e26f46; stroke-linecap:butt; stroke-linejoin:round; stroke-width:4; stroke-opacity:1; fill:none\" points=\"\n",
       "  2020.44,198.898 2160.38,198.898 \n",
       "  \"/>\n",
       "<path clip-path=\"url(#clip000)\" d=\"M2197.55 218.585 Q2195.74 223.215 2194.03 224.627 Q2192.32 226.039 2189.45 226.039 L2186.04 226.039 L2186.04 222.474 L2188.54 222.474 Q2190.3 222.474 2191.28 221.64 Q2192.25 220.807 2193.43 217.705 L2194.19 215.761 L2183.71 190.252 L2188.22 190.252 L2196.32 210.529 L2204.42 190.252 L2208.94 190.252 L2197.55 218.585 Z\" fill=\"#000000\" fill-rule=\"evenodd\" fill-opacity=\"1\" /><path clip-path=\"url(#clip000)\" d=\"M2219.45 212.242 L2235.77 212.242 L2235.77 216.178 L2213.82 216.178 L2213.82 212.242 Q2216.48 209.488 2221.07 204.858 Q2225.67 200.205 2226.85 198.863 Q2229.1 196.34 2229.98 194.604 Q2230.88 192.844 2230.88 191.155 Q2230.88 188.4 2228.94 186.664 Q2227.02 184.928 2223.91 184.928 Q2221.72 184.928 2219.26 185.692 Q2216.83 186.455 2214.05 188.006 L2214.05 183.284 Q2216.88 182.15 2219.33 181.571 Q2221.79 180.993 2223.82 180.993 Q2229.19 180.993 2232.39 183.678 Q2235.58 186.363 2235.58 190.854 Q2235.58 192.983 2234.77 194.905 Q2233.98 196.803 2231.88 199.395 Q2231.3 200.067 2228.2 203.284 Q2225.1 206.479 2219.45 212.242 Z\" fill=\"#000000\" fill-rule=\"evenodd\" fill-opacity=\"1\" /></svg>\n"
      ]
     },
     "execution_count": 76,
     "metadata": {},
     "output_type": "execute_result"
    }
   ],
   "source": [
    "plot(sol.t,  real(β[1,:]))\n",
    "plot!(sol.t, real(β[2,:]))"
   ]
  },
  {
   "cell_type": "code",
   "execution_count": 77,
   "metadata": {},
   "outputs": [
    {
     "ename": "LoadError",
     "evalue": "syntax: extra token \"tarde\" after end of expression",
     "output_type": "error",
     "traceback": [
      "syntax: extra token \"tarde\" after end of expression",
      "",
      "Stacktrace:",
      " [1] top-level scope",
      "   @ In[77]:1",
      " [2] eval",
      "   @ ./boot.jl:373 [inlined]",
      " [3] include_string(mapexpr::typeof(REPL.softscope), mod::Module, code::String, filename::String)",
      "   @ Base ./loading.jl:1196"
     ]
    }
   ],
   "source": [
    "Boa tarde Noel! Tudo bem? \n",
    "\n",
    "\n",
    "O Romain disse que você é o super expert em Julia. Eu estou tendo uma dúvida e gostaria ver se você consegue me ajudar.\n",
    "\n",
    "Originalmente, todo meu projeto eu fiz em python, agora, temos interesse em optimizar as simulações e usaremos Julia.\n",
    "No meu projeto eu já implementei as EDOs de single excitation no python que voce implementou aqui.\n",
    "\n",
    "Eu gostaria implementar suas EDOs (e novas que a gente tem) em Julia mas rodando um programa python usando pyjulia \n",
    "(pois gostaria reaproveitar códigos dos cálculas previos da EDO).\n",
    "\n",
    "Já consegui rodar seu programa com inputs de python no meu terminal. No entanto, estou tendo um problema: os dois resultado não estão batendo\n",
    "\n",
    "\n",
    "\n",
    "\n",
    "Assim, eu estou implementando as mesmas equações do single excitation que você ja implementou em Julia\n",
    "\n",
    "\n",
    "\n"
   ]
  },
  {
   "cell_type": "code",
   "execution_count": 21,
   "metadata": {},
   "outputs": [
    {
     "data": {
      "text/plain": [
       "1-element Vector{Vector{Float64}}:\n",
       " [0.0, 0.0, 0.0, 0.0, 0.0, 0.0]"
      ]
     },
     "execution_count": 21,
     "metadata": {},
     "output_type": "execute_result"
    }
   ],
   "source": [
    "real(β_full[1,:])"
   ]
  },
  {
   "cell_type": "code",
   "execution_count": 18,
   "metadata": {},
   "outputs": [
    {
     "ename": "BoundsError",
     "evalue": "BoundsError: attempt to access 6-element Vector{Float64} at index [1:201]",
     "output_type": "error",
     "traceback": [
      "BoundsError: attempt to access 6-element Vector{Float64} at index [1:201]",
      "",
      "Stacktrace:",
      "  [1] throw_boundserror(A::Vector{Float64}, I::Tuple{UnitRange{Int64}})",
      "    @ Base ./abstractarray.jl:691",
      "  [2] checkbounds",
      "    @ ./abstractarray.jl:656 [inlined]",
      "  [3] getindex(A::Vector{Float64}, I::UnitRange{Int64})",
      "    @ Base ./array.jl:867",
      "  [4] gr_draw_segments(series::Plots.Series, x::Vector{Float64}, y::Vector{Float64}, fillrange::Nothing, clims::Tuple{Float64, Float64})",
      "    @ Plots ~/.julia/packages/Plots/1KWPG/src/backends/gr.jl:1920",
      "  [5] gr_add_series(sp::Plots.Subplot{Plots.GRBackend}, series::Plots.Series)",
      "    @ Plots ~/.julia/packages/Plots/1KWPG/src/backends/gr.jl:1835",
      "  [6] gr_display(sp::Plots.Subplot{Plots.GRBackend}, w::Measures.AbsoluteLength, h::Measures.AbsoluteLength, viewport_canvas::Vector{Float64})",
      "    @ Plots ~/.julia/packages/Plots/1KWPG/src/backends/gr.jl:1005",
      "  [7] gr_display(plt::Plots.Plot{Plots.GRBackend}, fmt::String)",
      "    @ Plots ~/.julia/packages/Plots/1KWPG/src/backends/gr.jl:670",
      "  [8] _show(io::IOBuffer, #unused#::MIME{Symbol(\"image/svg+xml\")}, plt::Plots.Plot{Plots.GRBackend})",
      "    @ Plots ~/.julia/packages/Plots/1KWPG/src/backends/gr.jl:2169",
      "  [9] show(io::IOBuffer, m::MIME{Symbol(\"image/svg+xml\")}, plt::Plots.Plot{Plots.GRBackend})",
      "    @ Plots ~/.julia/packages/Plots/1KWPG/src/output.jl:212",
      " [10] sprint(::Function, ::MIME{Symbol(\"image/svg+xml\")}, ::Vararg{Any}; context::Nothing, sizehint::Int64)",
      "    @ Base ./strings/io.jl:114",
      " [11] sprint",
      "    @ ./strings/io.jl:108 [inlined]",
      " [12] _ijulia_display_dict(plt::Plots.Plot{Plots.GRBackend})",
      "    @ Plots ~/.julia/packages/Plots/1KWPG/src/ijulia.jl:47",
      " [13] display_dict(plt::Plots.Plot{Plots.GRBackend})",
      "    @ Plots ~/.julia/packages/Plots/1KWPG/src/init.jl:92",
      " [14] #invokelatest#2",
      "    @ ./essentials.jl:716 [inlined]",
      " [15] invokelatest",
      "    @ ./essentials.jl:714 [inlined]",
      " [16] execute_request(socket::ZMQ.Socket, msg::IJulia.Msg)",
      "    @ IJulia ~/.julia/packages/IJulia/AQu2H/src/execute_request.jl:112",
      " [17] #invokelatest#2",
      "    @ ./essentials.jl:716 [inlined]",
      " [18] invokelatest",
      "    @ ./essentials.jl:714 [inlined]",
      " [19] eventloop(socket::ZMQ.Socket)",
      "    @ IJulia ~/.julia/packages/IJulia/AQu2H/src/eventloop.jl:8",
      " [20] (::IJulia.var\"#15#18\")()",
      "    @ IJulia ./task.jl:423"
     ]
    }
   ],
   "source": [
    "plot(t, real(β_full[1]) )"
   ]
  },
  {
   "cell_type": "code",
   "execution_count": null,
   "metadata": {},
   "outputs": [],
   "source": []
  }
 ],
 "metadata": {
  "kernelspec": {
   "display_name": "Julia 1.7.2",
   "language": "julia",
   "name": "julia-1.7"
  },
  "language_info": {
   "file_extension": ".jl",
   "mimetype": "application/julia",
   "name": "julia",
   "version": "1.7.2"
  },
  "latex_envs": {
   "LaTeX_envs_menu_present": true,
   "autoclose": false,
   "autocomplete": true,
   "bibliofile": "biblio.bib",
   "cite_by": "apalike",
   "current_citInitial": 1,
   "eqLabelWithNumbers": true,
   "eqNumInitial": 1,
   "hotkeys": {
    "equation": "Ctrl-E",
    "itemize": "Ctrl-I"
   },
   "labels_anchors": false,
   "latex_user_defs": false,
   "report_style_numbering": false,
   "user_envs_cfg": false
  },
  "varInspector": {
   "cols": {
    "lenName": 16,
    "lenType": 16,
    "lenVar": 40
   },
   "kernels_config": {
    "python": {
     "delete_cmd_postfix": "",
     "delete_cmd_prefix": "del ",
     "library": "var_list.py",
     "varRefreshCmd": "print(var_dic_list())"
    },
    "r": {
     "delete_cmd_postfix": ") ",
     "delete_cmd_prefix": "rm(",
     "library": "var_list.r",
     "varRefreshCmd": "cat(var_dic_list()) "
    }
   },
   "types_to_exclude": [
    "module",
    "function",
    "builtin_function_or_method",
    "instance",
    "_Feature"
   ],
   "window_display": false
  }
 },
 "nbformat": 4,
 "nbformat_minor": 4
}
