{
 "cells": [
  {
   "cell_type": "code",
   "execution_count": 1,
   "metadata": {},
   "outputs": [
    {
     "name": "stdout",
     "output_type": "stream",
     "text": [
      "/home/roberto/Documents/Carrera/romain_ic/wavemixing_project/src\n"
     ]
    }
   ],
   "source": [
    "cd /home/roberto/Documents/Carrera/romain_ic/wavemixing_project/src"
   ]
  },
  {
   "cell_type": "code",
   "execution_count": 2,
   "metadata": {},
   "outputs": [],
   "source": [
    "import os\n",
    "import sys\n",
    "\n",
    "sys.path.insert(0, os.path.abspath(\"./post_processing/local_calculations\"))\n",
    "sys.path.insert(0, os.path.abspath(\"./helper_functions/cloud\"))\n",
    "sys.path.insert(0, os.path.abspath(\"./file_manager\"))\n",
    "sys.path.insert(0, os.path.abspath(\"./hamiltonian_builder\"))\n",
    "sys.path.insert(0, os.path.abspath(\"./correlation\"))\n",
    "sys.path.insert(0, os.path.abspath(\"./single_and_double_excitations_subspace\"))"
   ]
  },
  {
   "cell_type": "code",
   "execution_count": 12,
   "metadata": {},
   "outputs": [],
   "source": [
    "from file_manager.visualization_preparation_tools import *\n",
    "from file_manager.file_saver import *\n",
    "from helper_functions.operators import *\n",
    "from helper_functions.cloud import *\n",
    "from helper_functions.other import * \n",
    "\n",
    "import matplotlib.pyplot as plt\n"
   ]
  },
  {
   "cell_type": "code",
   "execution_count": 26,
   "metadata": {},
   "outputs": [],
   "source": [
    "def get_array_of_runs(N, Omega, Delta, b0):\n",
    "    description = f\"b0_{b0}_V_Int_On_testing_steady_state_foda_avg_direct\"\n",
    "\n",
    "    results_path = \"../results/\"\n",
    "    DefaultInfo = f\"N{N}_Omega{Omega}_Delta{Delta}_\"\n",
    "    defaultangle, angle = \"25_\", \"205\"\n",
    "    rho_ss_parameter = \"_direct\"\n",
    "\n",
    "\n",
    "    label_folder = results_path+DefaultInfo+description + \"/\" # \"_\"+ defaultangle +angle+ \"_\"   + rho_ss_parameter + \"/\"\n",
    "    paths_array = get_array_of_runs_dat_files(label_folder) #all runs for a given phi\n",
    "    runs_txt = get_array_of_numpy_runs(paths_array, npy = True)\n",
    "    \n",
    "    #paths_array = get_array_of_runs_dat_files(label_folder, get_r = True) #all runs for a given \n",
    "    #print(paths_array)\n",
    "    #runs_txt = get_array_of_numpy_runs(paths_array, npy = True)\n",
    "    \n",
    "    return runs_txt"
   ]
  },
  {
   "cell_type": "code",
   "execution_count": 31,
   "metadata": {},
   "outputs": [],
   "source": [
    "runs_txt = get_array_of_runs(N=12, Omega=0.5, Delta=20.0, b0=1.1)"
   ]
  },
  {
   "cell_type": "code",
   "execution_count": 38,
   "metadata": {},
   "outputs": [
    {
     "data": {
      "text/plain": [
       "array([0.0, 3.4482758620689653, 6.896551724137931, 10.344827586206897,\n",
       "       13.793103448275861, 17.241379310344826, 20.689655172413794,\n",
       "       24.137931034482758, 27.586206896551722, 31.034482758620687,\n",
       "       34.48275862068965, 37.93103448275862, 41.37931034482759,\n",
       "       44.82758620689655, 48.275862068965516, 51.72413793103448,\n",
       "       55.172413793103445, 58.62068965517241, 62.068965517241374,\n",
       "       65.51724137931033, 68.9655172413793, 72.41379310344827,\n",
       "       75.86206896551724, 79.3103448275862, 82.75862068965517,\n",
       "       86.20689655172413, 89.6551724137931, 93.10344827586206,\n",
       "       96.55172413793103, 100.0], dtype=object)"
      ]
     },
     "execution_count": 38,
     "metadata": {},
     "output_type": "execute_result"
    }
   ],
   "source": [
    "runs_txt[0][2]"
   ]
  },
  {
   "cell_type": "code",
   "execution_count": 6,
   "metadata": {},
   "outputs": [],
   "source": [
    "Beta1D_t, Beta2D_t, t_span = runs_txt[0][0], runs_txt[0][1], runs_txt[0][2]"
   ]
  },
  {
   "cell_type": "code",
   "execution_count": 7,
   "metadata": {},
   "outputs": [
    {
     "data": {
      "text/plain": [
       "array([0.+0.j, 0.+0.j, 0.+0.j, 0.+0.j, 0.+0.j, 0.+0.j, 0.+0.j, 0.+0.j,\n",
       "       0.+0.j, 0.+0.j])"
      ]
     },
     "execution_count": 7,
     "metadata": {},
     "output_type": "execute_result"
    }
   ],
   "source": [
    "Beta1D_t[0]"
   ]
  },
  {
   "cell_type": "code",
   "execution_count": 8,
   "metadata": {},
   "outputs": [
    {
     "name": "stderr",
     "output_type": "stream",
     "text": [
      "/home/roberto/anaconda3/lib/python3.7/site-packages/numpy/core/_asarray.py:85: ComplexWarning: Casting complex values to real discards the imaginary part\n",
      "  return array(a, dtype, copy=False, order=order)\n"
     ]
    },
    {
     "data": {
      "text/plain": [
       "[<matplotlib.lines.Line2D at 0x7f721a840f90>,\n",
       " <matplotlib.lines.Line2D at 0x7f7218df4c10>,\n",
       " <matplotlib.lines.Line2D at 0x7f7218e02a50>,\n",
       " <matplotlib.lines.Line2D at 0x7f7218e029d0>,\n",
       " <matplotlib.lines.Line2D at 0x7f7218e02bd0>,\n",
       " <matplotlib.lines.Line2D at 0x7f7218e02c10>,\n",
       " <matplotlib.lines.Line2D at 0x7f7218e02e50>,\n",
       " <matplotlib.lines.Line2D at 0x7f7218e02f50>,\n",
       " <matplotlib.lines.Line2D at 0x7f7218e02f90>,\n",
       " <matplotlib.lines.Line2D at 0x7f7218e02d10>]"
      ]
     },
     "execution_count": 8,
     "metadata": {},
     "output_type": "execute_result"
    },
    {
     "data": {
      "image/png": "[encoded data removed]",
      "text/plain": [
       "<Figure size 432x288 with 1 Axes>"
      ]
     },
     "metadata": {
      "needs_background": "light"
     },
     "output_type": "display_data"
    }
   ],
   "source": [
    "plt.plot(t_span, np.stack(Beta1D_t[:,]))"
   ]
  },
  {
   "cell_type": "code",
   "execution_count": null,
   "metadata": {},
   "outputs": [],
   "source": []
  }
 ],
 "metadata": {
  "kernelspec": {
   "display_name": "Python 3",
   "language": "python",
   "name": "python3"
  },
  "language_info": {
   "codemirror_mode": {
    "name": "ipython",
    "version": 3
   },
   "file_extension": ".py",
   "mimetype": "text/x-python",
   "name": "python",
   "nbconvert_exporter": "python",
   "pygments_lexer": "ipython3",
   "version": "3.7.7"
  },
  "latex_envs": {
   "LaTeX_envs_menu_present": true,
   "autoclose": false,
   "autocomplete": true,
   "bibliofile": "biblio.bib",
   "cite_by": "apalike",
   "current_citInitial": 1,
   "eqLabelWithNumbers": true,
   "eqNumInitial": 1,
   "hotkeys": {
    "equation": "Ctrl-E",
    "itemize": "Ctrl-I"
   },
   "labels_anchors": false,
   "latex_user_defs": false,
   "report_style_numbering": false,
   "user_envs_cfg": false
  },
  "varInspector": {
   "cols": {
    "lenName": 16,
    "lenType": 16,
    "lenVar": 40
   },
   "kernels_config": {
    "python": {
     "delete_cmd_postfix": "",
     "delete_cmd_prefix": "del ",
     "library": "var_list.py",
     "varRefreshCmd": "print(var_dic_list())"
    },
    "r": {
     "delete_cmd_postfix": ") ",
     "delete_cmd_prefix": "rm(",
     "library": "var_list.r",
     "varRefreshCmd": "cat(var_dic_list()) "
    }
   },
   "types_to_exclude": [
    "module",
    "function",
    "builtin_function_or_method",
    "instance",
    "_Feature"
   ],
   "window_display": false
  }
 },
 "nbformat": 4,
 "nbformat_minor": 4
}
