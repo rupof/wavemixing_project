{
 "cells": [
  {
   "cell_type": "code",
   "execution_count": 2,
   "metadata": {},
   "outputs": [
    {
     "name": "stdout",
     "output_type": "stream",
     "text": [
      "/home/roberto/Documents/Carrera/romain_ic/wavemixing_project/src\n"
     ]
    }
   ],
   "source": [
    "cd /home/roberto/Documents/Carrera/romain_ic/wavemixing_project/src"
   ]
  },
  {
   "cell_type": "code",
   "execution_count": 3,
   "metadata": {},
   "outputs": [],
   "source": [
    "import os\n",
    "import sys\n",
    "\n",
    "sys.path.insert(0, os.path.abspath(\"./post_processing/local_calculations\"))\n",
    "sys.path.insert(0, os.path.abspath(\"./helper_functions/cloud\"))\n",
    "sys.path.insert(0, os.path.abspath(\"./file_manager\"))\n",
    "sys.path.insert(0, os.path.abspath(\"./hamiltonian_builder\"))\n",
    "sys.path.insert(0, os.path.abspath(\"./correlation\"))\n",
    "sys.path.insert(0, os.path.abspath(\"./single_and_double_excitations_subspace\"))"
   ]
  },
  {
   "cell_type": "code",
   "execution_count": 4,
   "metadata": {},
   "outputs": [],
   "source": [
    "from file_manager.visualization_preparation_tools import *\n",
    "from file_manager.file_saver import *\n",
    "from helper_functions.operators import *\n",
    "from helper_functions.cloud import *\n",
    "from helper_functions.other import * \n",
    "\n",
    "import matplotlib.pyplot as plt\n"
   ]
  },
  {
   "cell_type": "code",
   "execution_count": 5,
   "metadata": {},
   "outputs": [],
   "source": [
    "def get_array_of_runs(N, Omega, Delta, b0):\n",
    "    description = \"full_sh_implementation_avg\" #testing_steady_state_foda_avg\n",
    "\n",
    "    results_path = \"../results/\"\n",
    "    DefaultInfo = f\"N{N}_Omega{Omega}_Delta{Delta}_\"\n",
    "    defaultangle, angle = \"25_\", \"205\"\n",
    "    rho_ss_parameter = \"_direct\"\n",
    "\n",
    "    full_description = f\"b0_{b0}_V_Int_On_{description}{rho_ss_parameter}\"\n",
    "\n",
    "\n",
    "    label_folder = results_path+DefaultInfo+full_description + \"/\" # \"_\"+ defaultangle +angle+ \"_\"   + rho_ss_parameter + \"/\"\n",
    "    paths_array = get_array_of_runs_dat_files(label_folder) #all runs for a given phi\n",
    "    runs_txt = get_array_of_numpy_runs(paths_array, npy = True)\n",
    "    \n",
    "    #paths_array = get_array_of_runs_dat_files(label_folder, get_r = True) #all runs for a given \n",
    "    #print(paths_array)\n",
    "    #runs_txt = get_array_of_numpy_runs(paths_array, npy = True)\n",
    "    \n",
    "    return runs_txt\n",
    "\n",
    "\n",
    "def get_experiments_data(N, Omega, Delta, b0, description, start_index, end_index):\n",
    "    #G2_MonteCarlo, G2_MonteCarlo_single_excitation = experiments[exp_num][i][0],  experiments[exp_num][i][1]\n",
    "    #G2_MonteCarlo_same_direction, G2_MonteCarlo_single_excitation_same_direction = experiments[exp_num][i][2], experiments[exp_num][i][3]\n",
    "    #I_MonteCarlo, I_MonteCarlo_single_excitation = experiments[exp_num][i][4], experiments[exp_num][i][5]\n",
    "    #I_MonteCarlo_same_direction, I_MonteCarlo_single_excitation_same_direction = experiments[exp_num][i][6], experiments[exp_num][i][7] \n",
    "    #taulist = experiments[exp_num][i][8]\n",
    "\n",
    "    results_path = \"../results/\"\n",
    "    DefaultInfo = f\"N{N}_Omega{Omega}_Delta{Delta}_b0_{b0}_\"\n",
    "    defaultangle, angle = \"25_\", \"205\"\n",
    "    rho_ss_parameter = \"_direct\"\n",
    "\n",
    "    full_description = f\"V_Int_On_{description}{rho_ss_parameter}\"\n",
    "    \n",
    "    #thetas = np.float32(np.int32(np.linspace(0,359, 90)))[:-1]\n",
    "    #thetas = np.float32(np.int32(np.linspace(0,360, 90)))    \n",
    "    thetas = np.float32(np.int32(np.linspace(0,361, 90)))[1:-2]\n",
    "    \n",
    "    experiments = np.zeros([end_index-start_index, len(thetas)], dtype = \"object\")\n",
    "    indices = []\n",
    "    for run_index in range(start_index,end_index):\n",
    "        label_folder = results_path+DefaultInfo+full_description + \"/\"\n",
    "        paths_array_containing_theta_files = get_array_of_runs_dat_files(label_folder)#all runs for a given phi\n",
    "        ##print(sorted(paths_array_containing_theta_files)[0:20])\n",
    "        paths_array = [run_name for run_name in paths_array_containing_theta_files if \"theta\"  in run_name and f\"run{run_index}\" in run_name ]\n",
    "        print(sorted(paths_array)[0])\n",
    "        runs_txt = get_array_of_numpy_runs(paths_array[4:], npy=True) #all runs for a given phi\n",
    "        for angle in range(len(thetas)):\n",
    "            try:\n",
    "                experiments[run_index-start_index][angle] = runs_txt[angle]\n",
    "            except Exception as e:\n",
    "                print(\"Problem for: \" + str(sorted(paths_array)[0]))\n",
    "                print(e)\n",
    "    return experiments\n",
    "\n",
    "\n",
    "#G2_MonteCarlo, G2_MonteCarlo_single_excitation = experiments[exp_num][i][0],  experiments[exp_num][i][1]\n",
    "    #G2_MonteCarlo_same_direction, G2_MonteCarlo_single_excitation_same_direction = experiments[exp_num][i][2], experiments[exp_num][i][3]\n",
    "    #I_MonteCarlo, I_MonteCarlo_single_excitation = experiments[exp_num][i][4], experiments[exp_num][i][5]\n",
    "    #I_MonteCarlo_same_direction, I_MonteCarlo_single_excitation_same_direction = experiments[exp_num][i][6], experiments[exp_num][i][7] \n",
    "    #taulist = experiments[exp_num][i][8]\n",
    "    \n",
    "    \n",
    "def get_G2_MonteCarlo_from_experiment_and_angle(experiments, exp_num, i, double_excitation_dynamics = True):\n",
    "    if double_excitation_dynamics == True:\n",
    "        return experiments[exp_num][i][0]\n",
    "def get_G2_MonteCarlo_single_excitation_from_experiment_and_angle(experiments, exp_num, i, double_excitation_dynamics = True):\n",
    "    if double_excitation_dynamics == True:\n",
    "        return experiments[exp_num][i][1]\n",
    "def get_G2_MonteCarlo_same_direction_from_experiment_and_angle(experiments, exp_num, i, double_excitation_dynamics = True):\n",
    "    if double_excitation_dynamics == True:\n",
    "        return experiments[exp_num][i][2]\n",
    "def get_G2_MonteCarlo_single_excitation_same_direction_from_experiment_and_angle(experiments, exp_num, i, double_excitation_dynamics = True):\n",
    "    if double_excitation_dynamics == True:\n",
    "        return experiments[exp_num][i][3]\n",
    "\n",
    "    \n",
    "def get_I_MonteCarlo_from_experiment_and_angle(experiments, exp_num, i, double_excitation_dynamics = True):\n",
    "    if double_excitation_dynamics == True:\n",
    "        return experiments[exp_num][i][0+4]\n",
    "def get_I_MonteCarlo_single_excitation_from_experiment_and_angle(experiments, exp_num, i, double_excitation_dynamics = True):\n",
    "    if double_excitation_dynamics == True:\n",
    "        return experiments[exp_num][i][1+4]\n",
    "def get_I_MonteCarlo_same_direction_from_experiment_and_angle(experiments, exp_num, i, double_excitation_dynamics = True):\n",
    "    if double_excitation_dynamics == True:\n",
    "        return experiments[exp_num][i][2+4]\n",
    "def get_I_MonteCarlo_single_excitation_same_direction_from_experiment_and_angle(experiments, exp_num, i, double_excitation_dynamics = True):\n",
    "    if double_excitation_dynamics == True:\n",
    "        return experiments[exp_num][i][3+4]\n",
    "    \n",
    "def get_taulist_from_experiment_and_angle(experiments, exp_num, i, double_excitation_dynamics = True):\n",
    "    if double_excitation_dynamics == True:\n",
    "        return experiments[exp_num][i][8]\n",
    "\n",
    "def get_g2_from_experiment_and_angle(experiments, exp_num, i, double_excitation_dynamics = True):\n",
    "    if double_excitation_dynamics == True:\n",
    "        return get_G2_MonteCarlo_from_experiment_and_angle(experiments, exp_num, i, double_excitation_dynamics = True)/get_I_MonteCarlo_from_experiment_and_angle(experiments, exp_num, i, double_excitation_dynamics = True)\n"
   ]
  },
  {
   "cell_type": "code",
   "execution_count": 45,
   "metadata": {},
   "outputs": [],
   "source": [
    "def get_averaged_in_theta_g2(experiments, single_excitation = False):\n",
    "    #thetas = np.float32(np.int32(np.linspace(0,359, 90)))[:-1]\n",
    "    #thetas = np.float32(np.int32(np.linspace(0,360, 90)))    \n",
    "    #thetas = np.float32(np.int32(np.linspace(0,361, 90)))[1:-2]\n",
    "\n",
    "    \n",
    "    g2_theta_avg_all_configurations = []\n",
    "    for run_index in range(len(experiments)):\n",
    "        G2_theta_avg = np.average([get_G2_MonteCarlo_from_experiment_and_angle(experiments, run_index, angle) for angle in range(len(thetas))], axis = 0)\n",
    "        I_theta_avg = np.average(np.array([get_I_MonteCarlo_from_experiment_and_angle(experiments, run_index, angle) for angle in range(len(thetas))]))\n",
    "\n",
    "        g2_theta_avg  = G2_theta_avg/I_theta_avg\n",
    "        g2_theta_avg_all_configurations.append(g2_theta_avg)\n",
    "\n",
    "        if single_excitation == True:  \n",
    "            G2_theta_avg = np.average([get_G2_MonteCarlo_single_excitation_from_experiment_and_angle(experiments, run_index, angle) for angle in range(len(thetas))], axis = 0)\n",
    "            I_theta_avg = np.average(np.array([get_I_MonteCarlo_single_excitation_from_experiment_and_angle(experiments, run_index, angle) for angle in range(len(thetas))]))\n",
    "\n",
    "            g2_theta_avg  = G2_theta_avg/I_theta_avg\n",
    "            g2_theta_avg_all_configurations.append(g2_theta_avg)\n",
    "\n",
    "    \n",
    "    taulist = get_taulist_from_experiment_and_angle(experiments, 0, 0)\n",
    "    return taulist, g2_theta_avg_all_configurations\n",
    "\n"
   ]
  },
  {
   "cell_type": "markdown",
   "metadata": {},
   "source": [
    "Uploading simulated results"
   ]
  },
  {
   "cell_type": "code",
   "execution_count": 46,
   "metadata": {
    "code_folding": []
   },
   "outputs": [
    {
     "name": "stdout",
     "output_type": "stream",
     "text": [
      "../results/N517_Omega6.0_Delta20.0_b0_15.00_V_Int_On_MC_npy_avg_direct/N517_Omega6.0_Delta20.0_theta100.0_run0.npy\n",
      "Problem for: ../results/N517_Omega6.0_Delta20.0_b0_15.00_V_Int_On_MC_npy_avg_direct/N517_Omega6.0_Delta20.0_theta100.0_run0.npy\n",
      "list index out of range\n",
      "Problem for: ../results/N517_Omega6.0_Delta20.0_b0_15.00_V_Int_On_MC_npy_avg_direct/N517_Omega6.0_Delta20.0_theta100.0_run0.npy\n",
      "list index out of range\n",
      "Problem for: ../results/N517_Omega6.0_Delta20.0_b0_15.00_V_Int_On_MC_npy_avg_direct/N517_Omega6.0_Delta20.0_theta100.0_run0.npy\n",
      "list index out of range\n",
      "../results/N517_Omega6.0_Delta20.0_b0_15.00_V_Int_On_MC_npy_avg_direct/N517_Omega6.0_Delta20.0_theta100.0_run1.npy\n",
      "Problem for: ../results/N517_Omega6.0_Delta20.0_b0_15.00_V_Int_On_MC_npy_avg_direct/N517_Omega6.0_Delta20.0_theta100.0_run1.npy\n",
      "list index out of range\n",
      "Problem for: ../results/N517_Omega6.0_Delta20.0_b0_15.00_V_Int_On_MC_npy_avg_direct/N517_Omega6.0_Delta20.0_theta100.0_run1.npy\n",
      "list index out of range\n",
      "Problem for: ../results/N517_Omega6.0_Delta20.0_b0_15.00_V_Int_On_MC_npy_avg_direct/N517_Omega6.0_Delta20.0_theta100.0_run1.npy\n",
      "list index out of range\n"
     ]
    }
   ],
   "source": [
    "Omega = 6.0\n",
    "Delta = 20.0\n",
    "b0 = 15\n",
    "N = 517\n",
    "description = \"full_sh_implementation_avg\" #testing_steady_state_foda_avg\n",
    "#experiments[realização i][angulo j]\n",
    "#experiments = get_experiments_data(N = N, Omega = Omega, Delta = Delta, b0 = f\"{b0:.2f}\", description = description, start_index=3, end_index=11)\n",
    "\n",
    "\n",
    "#N = 6\n",
    "description = \"MC_npy_avg\"\n",
    "experiments = get_experiments_data(N = N, Omega = Omega, Delta = Delta, b0 = f\"{b0:.2f}\", description = description, start_index=, end_index=2)\n"
   ]
  },
  {
   "cell_type": "markdown",
   "metadata": {},
   "source": [
    "Showing  average $g^{(2)}(\\tau)$ for $\\theta = 0$ and for $ 0 < \\theta < 360$ ($\\theta$ averaging) for each configuration."
   ]
  },
  {
   "cell_type": "code",
   "execution_count": 10,
   "metadata": {},
   "outputs": [
    {
     "ename": "TypeError",
     "evalue": "'int' object is not subscriptable",
     "output_type": "error",
     "traceback": [
      "\u001b[0;31m---------------------------------------------------------------------------\u001b[0m",
      "\u001b[0;31mTypeError\u001b[0m                                 Traceback (most recent call last)",
      "\u001b[0;32m<ipython-input-10-5091864bfee4>\u001b[0m in \u001b[0;36m<module>\u001b[0;34m\u001b[0m\n\u001b[1;32m      4\u001b[0m \u001b[0mplt\u001b[0m\u001b[0;34m.\u001b[0m\u001b[0msuptitle\u001b[0m\u001b[0;34m(\u001b[0m\u001b[0;34mf\" $ N = {N}, \\Omega = {Omega}, \\Delta = {Delta}, b_0 = {b0} , \\phi_1 = 25^o, \\phi_2 = 25^o+180^o $ \"\u001b[0m\u001b[0;34m,\u001b[0m \u001b[0msize\u001b[0m \u001b[0;34m=\u001b[0m \u001b[0;34m\"large\"\u001b[0m\u001b[0;34m)\u001b[0m\u001b[0;34m\u001b[0m\u001b[0;34m\u001b[0m\u001b[0m\n\u001b[1;32m      5\u001b[0m \u001b[0;34m\u001b[0m\u001b[0m\n\u001b[0;32m----> 6\u001b[0;31m \u001b[0mtaulist\u001b[0m\u001b[0;34m,\u001b[0m \u001b[0mg2_theta_avg_all_configurations\u001b[0m \u001b[0;34m=\u001b[0m \u001b[0mget_averaged_in_theta_g2\u001b[0m\u001b[0;34m(\u001b[0m\u001b[0mexperiments\u001b[0m\u001b[0;34m,\u001b[0m \u001b[0msingle_excitation\u001b[0m \u001b[0;34m=\u001b[0m \u001b[0;32mFalse\u001b[0m\u001b[0;34m)\u001b[0m\u001b[0;34m\u001b[0m\u001b[0;34m\u001b[0m\u001b[0m\n\u001b[0m\u001b[1;32m      7\u001b[0m \u001b[0;34m\u001b[0m\u001b[0m\n\u001b[1;32m      8\u001b[0m \u001b[0;32mfor\u001b[0m \u001b[0mrun_num\u001b[0m \u001b[0;32min\u001b[0m \u001b[0mrange\u001b[0m\u001b[0;34m(\u001b[0m\u001b[0;36m0\u001b[0m\u001b[0;34m,\u001b[0m \u001b[0mlen\u001b[0m\u001b[0;34m(\u001b[0m\u001b[0mexperiments\u001b[0m\u001b[0;34m)\u001b[0m\u001b[0;34m)\u001b[0m\u001b[0;34m:\u001b[0m\u001b[0;34m\u001b[0m\u001b[0;34m\u001b[0m\u001b[0m\n",
      "\u001b[0;32m<ipython-input-8-0a6d6f1d4c4b>\u001b[0m in \u001b[0;36mget_averaged_in_theta_g2\u001b[0;34m(experiments, single_excitation)\u001b[0m\n\u001b[1;32m      5\u001b[0m     \u001b[0mg2_theta_avg_all_configurations\u001b[0m \u001b[0;34m=\u001b[0m \u001b[0;34m[\u001b[0m\u001b[0;34m]\u001b[0m\u001b[0;34m\u001b[0m\u001b[0;34m\u001b[0m\u001b[0m\n\u001b[1;32m      6\u001b[0m     \u001b[0;32mfor\u001b[0m \u001b[0mrun_index\u001b[0m \u001b[0;32min\u001b[0m \u001b[0mrange\u001b[0m\u001b[0;34m(\u001b[0m\u001b[0mlen\u001b[0m\u001b[0;34m(\u001b[0m\u001b[0mexperiments\u001b[0m\u001b[0;34m)\u001b[0m\u001b[0;34m)\u001b[0m\u001b[0;34m:\u001b[0m\u001b[0;34m\u001b[0m\u001b[0;34m\u001b[0m\u001b[0m\n\u001b[0;32m----> 7\u001b[0;31m         \u001b[0mG2_theta_avg\u001b[0m \u001b[0;34m=\u001b[0m \u001b[0mnp\u001b[0m\u001b[0;34m.\u001b[0m\u001b[0maverage\u001b[0m\u001b[0;34m(\u001b[0m\u001b[0;34m[\u001b[0m\u001b[0mget_G2_MonteCarlo_from_experiment_and_angle\u001b[0m\u001b[0;34m(\u001b[0m\u001b[0mexperiments\u001b[0m\u001b[0;34m,\u001b[0m \u001b[0mrun_index\u001b[0m\u001b[0;34m,\u001b[0m \u001b[0mangle\u001b[0m\u001b[0;34m)\u001b[0m \u001b[0;32mfor\u001b[0m \u001b[0mangle\u001b[0m \u001b[0;32min\u001b[0m \u001b[0mrange\u001b[0m\u001b[0;34m(\u001b[0m\u001b[0mlen\u001b[0m\u001b[0;34m(\u001b[0m\u001b[0mthetas\u001b[0m\u001b[0;34m)\u001b[0m\u001b[0;34m)\u001b[0m\u001b[0;34m]\u001b[0m\u001b[0;34m,\u001b[0m \u001b[0maxis\u001b[0m \u001b[0;34m=\u001b[0m \u001b[0;36m0\u001b[0m\u001b[0;34m)\u001b[0m\u001b[0;34m\u001b[0m\u001b[0;34m\u001b[0m\u001b[0m\n\u001b[0m\u001b[1;32m      8\u001b[0m         \u001b[0mI_theta_avg\u001b[0m \u001b[0;34m=\u001b[0m \u001b[0mnp\u001b[0m\u001b[0;34m.\u001b[0m\u001b[0maverage\u001b[0m\u001b[0;34m(\u001b[0m\u001b[0mnp\u001b[0m\u001b[0;34m.\u001b[0m\u001b[0marray\u001b[0m\u001b[0;34m(\u001b[0m\u001b[0;34m[\u001b[0m\u001b[0mget_I_MonteCarlo_from_experiment_and_angle\u001b[0m\u001b[0;34m(\u001b[0m\u001b[0mexperiments\u001b[0m\u001b[0;34m,\u001b[0m \u001b[0mrun_index\u001b[0m\u001b[0;34m,\u001b[0m \u001b[0mangle\u001b[0m\u001b[0;34m)\u001b[0m \u001b[0;32mfor\u001b[0m \u001b[0mangle\u001b[0m \u001b[0;32min\u001b[0m \u001b[0mrange\u001b[0m\u001b[0;34m(\u001b[0m\u001b[0mlen\u001b[0m\u001b[0;34m(\u001b[0m\u001b[0mthetas\u001b[0m\u001b[0;34m)\u001b[0m\u001b[0;34m)\u001b[0m\u001b[0;34m]\u001b[0m\u001b[0;34m)\u001b[0m\u001b[0;34m)\u001b[0m\u001b[0;34m\u001b[0m\u001b[0;34m\u001b[0m\u001b[0m\n\u001b[1;32m      9\u001b[0m \u001b[0;34m\u001b[0m\u001b[0m\n",
      "\u001b[0;32m<ipython-input-8-0a6d6f1d4c4b>\u001b[0m in \u001b[0;36m<listcomp>\u001b[0;34m(.0)\u001b[0m\n\u001b[1;32m      5\u001b[0m     \u001b[0mg2_theta_avg_all_configurations\u001b[0m \u001b[0;34m=\u001b[0m \u001b[0;34m[\u001b[0m\u001b[0;34m]\u001b[0m\u001b[0;34m\u001b[0m\u001b[0;34m\u001b[0m\u001b[0m\n\u001b[1;32m      6\u001b[0m     \u001b[0;32mfor\u001b[0m \u001b[0mrun_index\u001b[0m \u001b[0;32min\u001b[0m \u001b[0mrange\u001b[0m\u001b[0;34m(\u001b[0m\u001b[0mlen\u001b[0m\u001b[0;34m(\u001b[0m\u001b[0mexperiments\u001b[0m\u001b[0;34m)\u001b[0m\u001b[0;34m)\u001b[0m\u001b[0;34m:\u001b[0m\u001b[0;34m\u001b[0m\u001b[0;34m\u001b[0m\u001b[0m\n\u001b[0;32m----> 7\u001b[0;31m         \u001b[0mG2_theta_avg\u001b[0m \u001b[0;34m=\u001b[0m \u001b[0mnp\u001b[0m\u001b[0;34m.\u001b[0m\u001b[0maverage\u001b[0m\u001b[0;34m(\u001b[0m\u001b[0;34m[\u001b[0m\u001b[0mget_G2_MonteCarlo_from_experiment_and_angle\u001b[0m\u001b[0;34m(\u001b[0m\u001b[0mexperiments\u001b[0m\u001b[0;34m,\u001b[0m \u001b[0mrun_index\u001b[0m\u001b[0;34m,\u001b[0m \u001b[0mangle\u001b[0m\u001b[0;34m)\u001b[0m \u001b[0;32mfor\u001b[0m \u001b[0mangle\u001b[0m \u001b[0;32min\u001b[0m \u001b[0mrange\u001b[0m\u001b[0;34m(\u001b[0m\u001b[0mlen\u001b[0m\u001b[0;34m(\u001b[0m\u001b[0mthetas\u001b[0m\u001b[0;34m)\u001b[0m\u001b[0;34m)\u001b[0m\u001b[0;34m]\u001b[0m\u001b[0;34m,\u001b[0m \u001b[0maxis\u001b[0m \u001b[0;34m=\u001b[0m \u001b[0;36m0\u001b[0m\u001b[0;34m)\u001b[0m\u001b[0;34m\u001b[0m\u001b[0;34m\u001b[0m\u001b[0m\n\u001b[0m\u001b[1;32m      8\u001b[0m         \u001b[0mI_theta_avg\u001b[0m \u001b[0;34m=\u001b[0m \u001b[0mnp\u001b[0m\u001b[0;34m.\u001b[0m\u001b[0maverage\u001b[0m\u001b[0;34m(\u001b[0m\u001b[0mnp\u001b[0m\u001b[0;34m.\u001b[0m\u001b[0marray\u001b[0m\u001b[0;34m(\u001b[0m\u001b[0;34m[\u001b[0m\u001b[0mget_I_MonteCarlo_from_experiment_and_angle\u001b[0m\u001b[0;34m(\u001b[0m\u001b[0mexperiments\u001b[0m\u001b[0;34m,\u001b[0m \u001b[0mrun_index\u001b[0m\u001b[0;34m,\u001b[0m \u001b[0mangle\u001b[0m\u001b[0;34m)\u001b[0m \u001b[0;32mfor\u001b[0m \u001b[0mangle\u001b[0m \u001b[0;32min\u001b[0m \u001b[0mrange\u001b[0m\u001b[0;34m(\u001b[0m\u001b[0mlen\u001b[0m\u001b[0;34m(\u001b[0m\u001b[0mthetas\u001b[0m\u001b[0;34m)\u001b[0m\u001b[0;34m)\u001b[0m\u001b[0;34m]\u001b[0m\u001b[0;34m)\u001b[0m\u001b[0;34m)\u001b[0m\u001b[0;34m\u001b[0m\u001b[0;34m\u001b[0m\u001b[0m\n\u001b[1;32m      9\u001b[0m \u001b[0;34m\u001b[0m\u001b[0m\n",
      "\u001b[0;32m<ipython-input-7-010850083dbf>\u001b[0m in \u001b[0;36mget_G2_MonteCarlo_from_experiment_and_angle\u001b[0;34m(experiments, exp_num, i, double_excitation_dynamics)\u001b[0m\n\u001b[1;32m      8\u001b[0m \u001b[0;32mdef\u001b[0m \u001b[0mget_G2_MonteCarlo_from_experiment_and_angle\u001b[0m\u001b[0;34m(\u001b[0m\u001b[0mexperiments\u001b[0m\u001b[0;34m,\u001b[0m \u001b[0mexp_num\u001b[0m\u001b[0;34m,\u001b[0m \u001b[0mi\u001b[0m\u001b[0;34m,\u001b[0m \u001b[0mdouble_excitation_dynamics\u001b[0m \u001b[0;34m=\u001b[0m \u001b[0;32mTrue\u001b[0m\u001b[0;34m)\u001b[0m\u001b[0;34m:\u001b[0m\u001b[0;34m\u001b[0m\u001b[0;34m\u001b[0m\u001b[0m\n\u001b[1;32m      9\u001b[0m     \u001b[0;32mif\u001b[0m \u001b[0mdouble_excitation_dynamics\u001b[0m \u001b[0;34m==\u001b[0m \u001b[0;32mTrue\u001b[0m\u001b[0;34m:\u001b[0m\u001b[0;34m\u001b[0m\u001b[0;34m\u001b[0m\u001b[0m\n\u001b[0;32m---> 10\u001b[0;31m         \u001b[0;32mreturn\u001b[0m \u001b[0mexperiments\u001b[0m\u001b[0;34m[\u001b[0m\u001b[0mexp_num\u001b[0m\u001b[0;34m]\u001b[0m\u001b[0;34m[\u001b[0m\u001b[0mi\u001b[0m\u001b[0;34m]\u001b[0m\u001b[0;34m[\u001b[0m\u001b[0;36m0\u001b[0m\u001b[0;34m]\u001b[0m\u001b[0;34m\u001b[0m\u001b[0;34m\u001b[0m\u001b[0m\n\u001b[0m\u001b[1;32m     11\u001b[0m \u001b[0;32mdef\u001b[0m \u001b[0mget_G2_MonteCarlo_single_excitation_from_experiment_and_angle\u001b[0m\u001b[0;34m(\u001b[0m\u001b[0mexperiments\u001b[0m\u001b[0;34m,\u001b[0m \u001b[0mexp_num\u001b[0m\u001b[0;34m,\u001b[0m \u001b[0mi\u001b[0m\u001b[0;34m,\u001b[0m \u001b[0mdouble_excitation_dynamics\u001b[0m \u001b[0;34m=\u001b[0m \u001b[0;32mTrue\u001b[0m\u001b[0;34m)\u001b[0m\u001b[0;34m:\u001b[0m\u001b[0;34m\u001b[0m\u001b[0;34m\u001b[0m\u001b[0m\n\u001b[1;32m     12\u001b[0m     \u001b[0;32mif\u001b[0m \u001b[0mdouble_excitation_dynamics\u001b[0m \u001b[0;34m==\u001b[0m \u001b[0;32mTrue\u001b[0m\u001b[0;34m:\u001b[0m\u001b[0;34m\u001b[0m\u001b[0;34m\u001b[0m\u001b[0m\n",
      "\u001b[0;31mTypeError\u001b[0m: 'int' object is not subscriptable"
     ]
    },
    {
     "data": {
      "image/png": "[encoded data removed]",
      "text/plain": [
       "<Figure size 576x360 with 1 Axes>"
      ]
     },
     "metadata": {
      "needs_background": "light"
     },
     "output_type": "display_data"
    }
   ],
   "source": [
    "fig = plt.figure(figsize = (8,5))\n",
    "\n",
    "plt.subplot(1,2,1)\n",
    "plt.suptitle(f\" $ N = {N}, \\Omega = {Omega}, \\Delta = {Delta}, b_0 = {b0} , \\phi_1 = 25^o, \\phi_2 = 25^o+180^o $ \", size = \"large\")\n",
    "\n",
    "taulist, g2_theta_avg_all_configurations = get_averaged_in_theta_g2(experiments, single_excitation = False)\n",
    "\n",
    "for run_num in range(0, len(experiments)):\n",
    "    configuration = run_num\n",
    "    g2_double_excitation_for_given_angle_and_configuration = np.abs(get_g2_from_experiment_and_angle(experiments, run_num, 0, double_excitation_dynamics = True)) \n",
    "    plt.plot(taulist*26, g2_double_excitation_for_given_angle_and_configuration, label = f\"Configuration {run_num}\")\n",
    "    \n",
    "\n",
    "plt.legend()\n",
    "plt.title(r\"$\\theta = 0$, No average\")\n",
    "plt.ylabel(r\"$g^{(2)}(\\tau)$\")\n",
    "plt.xlabel(r\"$\\tau$\")\n",
    "\n",
    "plt.subplot(1,2,2)\n",
    "\n",
    "  \n",
    "for run_num in range(0, len(experiments)):\n",
    "    configuration = run_num\n",
    "    g2_theta_avg_for_given_configuration = g2_theta_avg_all_configurations[configuration]\n",
    "    plt.plot(taulist*26, np.abs(g2_theta_avg_for_given_configuration), label = f\"Configuration {run_num}\")\n",
    "\n",
    "in_plane_average = np.average([np.abs(get_g2_from_experiment_and_angle(experiments, run_num, 0, double_excitation_dynamics = True)) \n",
    "                                 for run_num in range(len(experiments))],axis = 0)\n",
    "\n",
    "plt.plot(taulist*26, in_plane_average, \"--\")\n",
    " \n",
    "\n",
    "\n",
    "relative_error_between_avg_of_theta_zero_and_theta_avg = relative_error(in_plane_average, g2_theta_avg_for_given_configuration) \n",
    "\n",
    "title = r\"$\\theta$ averaging.\" +  \"\\n\" + r\"Error with average of $\\theta=0$:  \" + str(np.round(relative_error_between_avg_of_theta_zero_and_theta_avg, 3)) \n",
    "plt.title(title)\n",
    "\n",
    "plt.tight_layout()\n",
    "\n",
    "plt.savefig(f\"showing_theta_averages_works_N{N}.png\", dpi = 400)"
   ]
  },
  {
   "cell_type": "markdown",
   "metadata": {},
   "source": [
    "Comparing in-plane against theta averaging"
   ]
  },
  {
   "cell_type": "code",
   "execution_count": null,
   "metadata": {},
   "outputs": [],
   "source": [
    "b0_s =np.arange(11.00,18,0.50)\n",
    "b0_s\n",
    "experiments_b0 = []\n",
    "for i in range(len(b0_s)):\n",
    "    b0 = b0_s[i]\n",
    "    experiments = get_experiments_data(N, Omega, Delta = Delta, b0 = \"%0.2f\" % b0, description = description, start_index=1, end_index=10)\n",
    "    experiments_b0.append(experiments)\n",
    "    "
   ]
  },
  {
   "cell_type": "code",
   "execution_count": null,
   "metadata": {},
   "outputs": [],
   "source": [
    "fig = plt.figure(figsize = (10,7))\n",
    "\n",
    "plt.subplot(1,2,1)\n",
    "plt.suptitle(f\" $ N = {N}, \\Omega = {Omega}, \\Delta = {Delta}, b_0 = changing , \\phi_1 = 25^o, \\phi_2 = 25^o+180^o $ \\n Comparing in-plane averaging with theta averaging\", size = \"large\")\n",
    "\n",
    "b0_s = np.arange(11.00,19,0.50)\n",
    "kd_s = [get_radius_from_optical_thickness(N,b0) for b0 in b0_s]\n",
    "\n",
    "for i in range(len(kd_s)):\n",
    "    kd = kd_s[i]\n",
    "    b0 = b0_s[i]\n",
    "    \n",
    "    try:\n",
    "        plt.subplot(2,4,i+1)\n",
    "    except:\n",
    "        break\n",
    "\n",
    "    plt.title(f\"$kd$ = {np.round(kd,3)}, $b_0$ = {b0} \")\n",
    "    plt.ylabel(r\"$g^{(2)}(\\tau)$\")\n",
    "    plt.xlabel(r\"$\\tau$\")\n",
    "\n",
    "    experiments = experiments_b0[i]\n",
    "    taulist, g2_theta_avg_all_configurations = get_averaged_in_theta_g2(experiments, single_excitation = True)\n",
    "    \n",
    "\n",
    "  \n",
    "    for run_num in range(0, len(experiments)):\n",
    "        configuration = run_num\n",
    "        g2_theta_avg_for_given_configuration = g2_theta_avg_all_configurations[configuration]\n",
    "        plt.plot(taulist*26, np.abs(g2_theta_avg_for_given_configuration))\n",
    "\n",
    "    in_plane_average = np.abs(np.average([np.abs(get_g2_from_experiment_and_angle(experiments, run_num, 0, double_excitation_dynamics = True)) \n",
    "                                 for run_num in range(len(experiments))],axis = 0))\n",
    "\n",
    "    #plt.plot(taulist*26, in_plane_average, \"--\")\n",
    "\n",
    "    relative_error_between_avg_of_theta_zero_and_theta_avg = relative_error(in_plane_average, g2_theta_avg_for_given_configuration) \n",
    "\n",
    "    s = r\"$Error_{rel}$=\"+ f\"{np.round(relative_error_between_avg_of_theta_zero_and_theta_avg, 3)}\"\n",
    "    plt.text(10, np.max(np.abs(in_plane_average))*0.90,s  )\n",
    "    \n",
    "plt.tight_layout()\n",
    "\n",
    "#plt.savefig(f\"showing_theta_averages_works_N{N}.png\", dpi = 400)"
   ]
  },
  {
   "cell_type": "markdown",
   "metadata": {},
   "source": [
    "Showing the small error in the $\\theta$ averaging case in each configuration with respect to the mean (of all configurations)"
   ]
  },
  {
   "cell_type": "code",
   "execution_count": null,
   "metadata": {},
   "outputs": [],
   "source": [
    "g2_theta_avg_all_configurations_average =  np.average(g2_theta_avg_all_configurations,axis=0)\n",
    "relative_error_of_theta_averaged_configurations = [relative_error(g2_theta_avg_all_configurations_average, g2_theta_avg_all_configurations[i]) for i in range(len(experiments))]\n",
    "\n",
    "plt.barh(range(len(experiments)),relative_error_of_theta_averaged_configurations)\n",
    "plt.ylabel(r\"Configuration\")\n",
    "plt.xlabel(r\"Relative error of each $\\theta$ averaged configuration with respect to mean\")"
   ]
  },
  {
   "cell_type": "markdown",
   "metadata": {},
   "source": [
    "Let's see the error between each $\\theta$ run and its $\\theta$ averaged mean"
   ]
  },
  {
   "cell_type": "code",
   "execution_count": null,
   "metadata": {},
   "outputs": [],
   "source": [
    "taulist, g2_theta_avg_all_configurations = get_averaged_in_theta_g2(experiments, single_excitation = False)\n",
    "taulist, g2_theta_avg_all_configurations_single_excitation = get_averaged_in_theta_g2(experiments, single_excitation = True)\n",
    "\n",
    "\n",
    "fig = plt.figure(figsize = (10,16))\n",
    "\n",
    "\n",
    "configuration = 5\n",
    "num_of_angles = 90\n",
    "thetas = np.float32(np.int32(np.linspace(0,360, num_of_angles)))\n",
    "error_of_each_angle_with_average = np.zeros_like(thetas)\n",
    "\n",
    "\n",
    "\n",
    "for run_num in range(0, len(experiments)):\n",
    "\n",
    "    configuration = run_num\n",
    "    plt.subplot(len(experiments), 2, 2*configuration+1 )\n",
    "\n",
    "    g2_theta_avg_for_given_configuration = g2_theta_avg_all_configurations[configuration]\n",
    "\n",
    "    for angle in range(len(thetas)):\n",
    "        g2_double_excitation_for_given_angle_and_configuration = np.abs(get_g2_from_experiment_and_angle(experiments, configuration, angle, double_excitation_dynamics = True)) \n",
    "        plt.plot(taulist*26, g2_double_excitation_for_given_angle_and_configuration)\n",
    "        error_of_each_angle_with_average[angle] = relative_error(g2_theta_avg_for_given_configuration,\n",
    "                                                                 g2_double_excitation_for_given_angle_and_configuration)\n",
    "\n",
    "    plt.plot(taulist*26, np.abs(g2_theta_avg_for_given_configuration), \"*\")\n",
    "\n",
    "\n",
    "    #plt.plot(taulist, np.abs(get_g2_from_experiment_and_angle(experiments, configuration, 0) ))\n",
    "\n",
    "    #plt.legend()\n",
    "    plt.suptitle(f\" $ N = {N}, \\Omega = {Omega}, \\Delta = {Delta}, b_0 = {b0} , \\phi_1 = 25^o, \\phi_2 = 25^o+180^o $ \", size = \"large\")\n",
    "\n",
    "    plt.title(f\" Configuration {configuration}. Plot for each\"  + r\" $\\theta$\")        \n",
    "    plt.ylabel(r\"$g^{(2)}(\\tau)$\")\n",
    "    plt.xlabel(r\" $\\tau$ [ns]\")\n",
    "\n",
    "    plt.subplot(len(experiments), 2, 2*configuration+2)\n",
    "\n",
    "    plt.ylim(0,32)\n",
    "    plt.yticks([0,5,10,15,20])\n",
    "    plt.grid()\n",
    "    plt.hist(error_of_each_angle_with_average, 20)\n",
    "    plt.xlabel(r\"Error of each angle with respect to average\")\n",
    "\n",
    "\n",
    "plt.tight_layout()\n",
    "\n",
    "\n"
   ]
  },
  {
   "cell_type": "code",
   "execution_count": null,
   "metadata": {},
   "outputs": [],
   "source": [
    "from scipy.signal import  argrelextrema\n",
    "import scipy.optimize"
   ]
  },
  {
   "cell_type": "code",
   "execution_count": null,
   "metadata": {},
   "outputs": [],
   "source": [
    "def monoExp(x, m, t):\n",
    "    return m * np.exp(-t * x) + 1"
   ]
  },
  {
   "cell_type": "code",
   "execution_count": null,
   "metadata": {},
   "outputs": [],
   "source": [
    "def get_decay_rate_using_extrema(x,y):\n",
    "    extrema = argrelextrema(y, np.greater, order = 2)\n",
    "    p0 = (1, 1) # start with values near those we expect\n",
    "    params, cv = scipy.optimize.curve_fit(monoExp, x[extrema], y[extrema], p0)\n",
    "    m, lam = params\n",
    "    \n",
    "    return params\n"
   ]
  },
  {
   "cell_type": "code",
   "execution_count": null,
   "metadata": {
    "hide_input": false
   },
   "outputs": [],
   "source": [
    "taulist_ns = taulist*26\n",
    "\n",
    "plt.plot(taulist_ns, np.average(g2_theta_avg_all_configurations, axis = 0), \"-o\" , label = \"Double excitation average\")\n",
    "\n",
    "\n",
    "extrema = argrelextrema(np.average(g2_theta_avg_all_configurations, axis = 0), np.greater, order = 2)\n",
    "taulist_extrema = taulist_ns[extrema]\n",
    "g2_theta_extrema = np.average(g2_theta_avg_all_configurations, axis = 0)[extrema]\n",
    "plt.plot(taulist_extrema, g2_theta_extrema, \"*\" )\n",
    "\n",
    "\n",
    "p0 = (1, 1) # start with values near those we expect\n",
    "params, cv = scipy.optimize.curve_fit(monoExp, taulist_extrema, g2_theta_extrema, p0)\n",
    "m, lam = params\n",
    "plt.plot(taulist_ns[extrema[0][0]:], monoExp(taulist_ns[extrema[0][0]:], *params))\n",
    "\n",
    "\n",
    "#plt.ylim(0.5,2)\n",
    "plt.legend()\n",
    "\n",
    "plt.suptitle(f\" $ N = {N}, \\Omega = {Omega}, \\Delta = {Delta}, b_0 = {b0} , \\phi_1 = 25^o, \\phi_2 = 25^o+180^o $ and averaging in\"  + r\" $\\theta$\", size = \"large\")\n",
    "plt.ylabel(r\"$g^{(2)}(\\tau)$\")\n",
    "plt.xlabel(r\" $\\tau$ [ns]\")\n"
   ]
  },
  {
   "cell_type": "code",
   "execution_count": null,
   "metadata": {},
   "outputs": [],
   "source": [
    "b0_s = np.arange(11,18,0.5)#range(11,19,0.5)\n",
    "N = 6\n",
    "#description = \"full_sh_implementation_avg\" #testing_steady_state_foda_avg\n",
    "description = \"MC_npy_avg\"\n",
    "#experiments[realização i][angulo j]\n",
    "r_s = [get_radius_from_optical_thickness(N, b0) for b0 in b0_s]\n",
    "g2_single_excitation = np.zeros([len(b0_s)+1, len(taulist)], dtype = \"complex\")\n",
    "g2_double_excitation = np.zeros([len(b0_s)+1, len(taulist)], dtype = \"complex\")\n",
    "\n",
    "\n",
    "decay_rates_double_excitation = np.zeros([len(b0_s)+1])\n",
    "decay_rates_single_excitation = np.zeros([len(b0_s)+1])\n",
    "\n",
    "\n",
    "cs_single_excitation = np.zeros([len(b0_s)+1, len(taulist)], dtype = \"complex\")\n",
    "cs_double_excitation = np.zeros([len(b0_s)+1, len(taulist)], dtype = \"complex\")\n",
    "\n",
    "Omega = 0.5\n",
    "Delta = 20.0 \n",
    "\n",
    "\n",
    "i = 0\n",
    "for b0 in b0_s:\n",
    "\n",
    "    experiments = get_experiments_data(N, Omega, Delta = 20.0, b0 = \"%0.2f\" %b0, description = description, start_index=3, end_index=11)\n",
    "    taulist, g2_theta_avg_all_configurations = get_averaged_in_theta_g2(experiments, single_excitation = False)\n",
    "    taulist, g2_theta_avg_all_configurations_single_excitation = get_averaged_in_theta_g2(experiments, single_excitation = True)\n",
    "    \n",
    "    g2_single_excitation[i] = np.average(g2_theta_avg_all_configurations_single_excitation,axis = 0) \n",
    "    g2_double_excitation[i] = np.average(g2_theta_avg_all_configurations,axis = 0) \n",
    "    \n",
    "    \n",
    "    m, lam = get_decay_rate_using_extrema(taulist,g2_single_excitation[i])\n",
    "    decay_rates_single_excitation[i] = lam\n",
    "    \n",
    "    \n",
    "    m, lam = get_decay_rate_using_extrema(taulist,g2_double_excitation[i])\n",
    "    decay_rates_double_excitation[i] = lam\n",
    "    \n",
    "    \n",
    "    \n",
    "    i += 1\n",
    "    \n",
    "    \n",
    "    "
   ]
  },
  {
   "cell_type": "code",
   "execution_count": null,
   "metadata": {},
   "outputs": [],
   "source": [
    "decay_rates_double_excitation"
   ]
  },
  {
   "cell_type": "code",
   "execution_count": null,
   "metadata": {},
   "outputs": [],
   "source": [
    "kd_s = [get_radius_from_optical_thickness(N,b0) for b0 in b0_s]\n",
    "\n",
    "#plt.plot(b0_s,decay_rates_double_excitation[:-1])\n",
    "#plt.plot(b0_s,decay_rates_single_excitation[:-1])\n",
    "\n",
    "plt.scatter(kd_s,decay_rates_double_excitation[:-1])\n",
    "plt.scatter(kd_s,decay_rates_single_excitation[:-1])\n",
    "\n",
    "plt.suptitle(f\" $ N = {N}, \\Omega = {Omega}, \\Delta = {Delta}, \\phi_1 = 25^o, \\phi_2 = 25^o+180^o $ and averaging in\"  + r\" $\\theta$\", size = \"large\")\n",
    "plt.title(R\"$g^{(2)}(\\tau)$ decay rates\")\n",
    "\n",
    "plt.ylabel(r\"$\\Gamma_{g^{(2)(\\tau)}}/\\Gamma$\", size = \"large\")\n",
    "plt.xlabel(\"$kd$\")\n",
    "plt.tight_layout()"
   ]
  },
  {
   "cell_type": "markdown",
   "metadata": {},
   "source": [
    "Comparing single and double excitation "
   ]
  },
  {
   "cell_type": "code",
   "execution_count": null,
   "metadata": {},
   "outputs": [],
   "source": [
    "taulist, g2_theta_avg_all_configurations_single_excitation = get_averaged_in_theta_g2(experiments, single_excitation = True)\n",
    "taulist, g2_theta_avg_all_configurations_double_excitation = get_averaged_in_theta_g2(experiments, single_excitation = False)"
   ]
  },
  {
   "cell_type": "code",
   "execution_count": null,
   "metadata": {},
   "outputs": [],
   "source": [
    "fig = plt.figure(figsize = (10,5))\n",
    "\n",
    "plt.suptitle(\"Relative error between single and double excitation\")\n",
    "for i in range(len(kd_s)):\n",
    "    kd = kd_s[i]\n",
    "    b0 = b0_s[i]\n",
    "    plt.subplot(2,4,i+1)\n",
    "    plt.title(f\"$kd$ = {np.round(kd,3)}, $b_0$ = {b0} \")\n",
    "    plt.plot(taulist, np.abs(g2_double_excitation[i]), \"-\")\n",
    "    plt.plot(taulist, np.abs(g2_single_excitation[i]), \"--\")\n",
    "    avg_relative_error = relative_error(np.abs(g2_double_excitation[i]),np.abs(g2_single_excitation[i]))\n",
    "    s = r\"$Error_{relative}$=\"+ f\"{np.round(avg_relative_error, 2)}\"\n",
    "    plt.text(0.7, np.max(np.abs(g2_double_excitation[i]))*0.80,s  )\n",
    "\n",
    "    plt.ylim(0.5,3)\n",
    "plt.tight_layout()\n",
    "    "
   ]
  },
  {
   "cell_type": "markdown",
   "metadata": {},
   "source": [
    "Comparing in-plane against theta averaging"
   ]
  },
  {
   "cell_type": "code",
   "execution_count": null,
   "metadata": {},
   "outputs": [],
   "source": []
  }
 ],
 "metadata": {
  "kernelspec": {
   "display_name": "Python 3",
   "language": "python",
   "name": "python3"
  },
  "language_info": {
   "codemirror_mode": {
    "name": "ipython",
    "version": 3
   },
   "file_extension": ".py",
   "mimetype": "text/x-python",
   "name": "python",
   "nbconvert_exporter": "python",
   "pygments_lexer": "ipython3",
   "version": "3.7.7"
  },
  "latex_envs": {
   "LaTeX_envs_menu_present": true,
   "autoclose": false,
   "autocomplete": true,
   "bibliofile": "biblio.bib",
   "cite_by": "apalike",
   "current_citInitial": 1,
   "eqLabelWithNumbers": true,
   "eqNumInitial": 1,
   "hotkeys": {
    "equation": "Ctrl-E",
    "itemize": "Ctrl-I"
   },
   "labels_anchors": false,
   "latex_user_defs": false,
   "report_style_numbering": false,
   "user_envs_cfg": false
  },
  "varInspector": {
   "cols": {
    "lenName": 16,
    "lenType": 16,
    "lenVar": 40
   },
   "kernels_config": {
    "python": {
     "delete_cmd_postfix": "",
     "delete_cmd_prefix": "del ",
     "library": "var_list.py",
     "varRefreshCmd": "print(var_dic_list())"
    },
    "r": {
     "delete_cmd_postfix": ") ",
     "delete_cmd_prefix": "rm(",
     "library": "var_list.r",
     "varRefreshCmd": "cat(var_dic_list()) "
    }
   },
   "types_to_exclude": [
    "module",
    "function",
    "builtin_function_or_method",
    "instance",
    "_Feature"
   ],
   "window_display": false
  }
 },
 "nbformat": 4,
 "nbformat_minor": 4
}
