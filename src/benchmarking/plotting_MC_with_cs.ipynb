{
 "cells": [
  {
   "cell_type": "code",
   "execution_count": 1,
   "metadata": {},
   "outputs": [
    {
     "name": "stdout",
     "output_type": "stream",
     "text": [
      "/home/roberto/Documents/Carrera/romain_ic/wavemixing_project/src\n"
     ]
    }
   ],
   "source": [
    "cd /home/roberto/Documents/Carrera/romain_ic/wavemixing_project/src"
   ]
  },
  {
   "cell_type": "code",
   "execution_count": 2,
   "metadata": {},
   "outputs": [],
   "source": [
    "import os\n",
    "import sys\n",
    "\n",
    "sys.path.insert(0, os.path.abspath(\"./post_processing/local_calculations\"))\n",
    "sys.path.insert(0, os.path.abspath(\"./helper_functions/cloud\"))\n",
    "sys.path.insert(0, os.path.abspath(\"./file_manager\"))\n",
    "sys.path.insert(0, os.path.abspath(\"./hamiltonian_builder\"))\n",
    "sys.path.insert(0, os.path.abspath(\"./correlation\"))\n",
    "sys.path.insert(0, os.path.abspath(\"./single_and_double_excitations_subspace\"))"
   ]
  },
  {
   "cell_type": "code",
   "execution_count": 3,
   "metadata": {},
   "outputs": [],
   "source": [
    "from file_manager.visualization_preparation_tools import *\n",
    "from file_manager.file_saver import *\n",
    "from helper_functions.operators import *\n",
    "from helper_functions.cloud import *\n",
    "from helper_functions.other import * \n",
    "\n",
    "import matplotlib.pyplot as plt\n"
   ]
  },
  {
   "cell_type": "code",
   "execution_count": 4,
   "metadata": {},
   "outputs": [],
   "source": [
    "def relative_error(A,B):\n",
    "    try:\n",
    "        return np.average(np.abs((A-B)/(A+B)), axis = 0)\n",
    "    except:\n",
    "        return (np.abs((A-B)/(A+B)))\n"
   ]
  },
  {
   "cell_type": "code",
   "execution_count": 5,
   "metadata": {},
   "outputs": [],
   "source": [
    "def get_array_of_runs(N, Omega, Delta, b0):\n",
    "    description = \"full_sh_implementation_avg\" #testing_steady_state_foda_avg\n",
    "\n",
    "    results_path = \"../results/\"\n",
    "    DefaultInfo = f\"N{N}_Omega{Omega}_Delta{Delta}_\"\n",
    "    defaultangle, angle = \"25_\", \"205\"\n",
    "    rho_ss_parameter = \"_direct\"\n",
    "\n",
    "    full_description = f\"b0_{b0}_V_Int_On_{description}{rho_ss_parameter}\"\n",
    "\n",
    "\n",
    "    label_folder = results_path+DefaultInfo+full_description + \"/\" # \"_\"+ defaultangle +angle+ \"_\"   + rho_ss_parameter + \"/\"\n",
    "    paths_array = get_array_of_runs_dat_files(label_folder) #all runs for a given phi\n",
    "    runs_txt = get_array_of_numpy_runs(paths_array, npy = True)\n",
    "    \n",
    "    #paths_array = get_array_of_runs_dat_files(label_folder, get_r = True) #all runs for a given \n",
    "    #print(paths_array)\n",
    "    #runs_txt = get_array_of_numpy_runs(paths_array, npy = True)\n",
    "    \n",
    "    return runs_txt"
   ]
  },
  {
   "cell_type": "code",
   "execution_count": 6,
   "metadata": {},
   "outputs": [],
   "source": [
    "def get_experiments_data(N, Omega, Delta, b0, description, start_index, end_index):\n",
    "    #G2_MonteCarlo, G2_MonteCarlo_single_excitation = experiments[exp_num][i][0],  experiments[exp_num][i][1]\n",
    "    #G2_MonteCarlo_same_direction, G2_MonteCarlo_single_excitation_same_direction = experiments[exp_num][i][2], experiments[exp_num][i][3]\n",
    "    #I_MonteCarlo, I_MonteCarlo_single_excitation = experiments[exp_num][i][4], experiments[exp_num][i][5]\n",
    "    #I_MonteCarlo_same_direction, I_MonteCarlo_single_excitation_same_direction = experiments[exp_num][i][6], experiments[exp_num][i][7] \n",
    "    #taulist = experiments[exp_num][i][8]\n",
    "\n",
    "    results_path = \"../results/\"\n",
    "    DefaultInfo = f\"N{N}_Omega{Omega}_Delta{Delta}_b0_{b0}_\"\n",
    "    defaultangle, angle = \"25_\", \"205\"\n",
    "    rho_ss_parameter = \"_direct\"\n",
    "\n",
    "    full_description = f\"V_Int_On_{description}{rho_ss_parameter}\"\n",
    "    thetas = np.float32(np.int32(np.linspace(0,361, 90)))[1:-2]\n",
    "\n",
    "    experiments = np.zeros([end_index-start_index, len(thetas)], dtype = \"object\")\n",
    "    indices = []\n",
    "    for run_index in range(start_index,end_index):\n",
    "        label_folder = results_path+DefaultInfo+full_description + \"/\"\n",
    "        paths_array_containing_theta_files = get_array_of_runs_dat_files(label_folder)#all runs for a given phi\n",
    "        \n",
    "        paths_array = [run_name for run_name in paths_array_containing_theta_files if \"theta\"  in run_name and f\"run{run_index}\" in run_name ]\n",
    "        print(sorted(paths_array)[0])\n",
    "        runs_txt = get_array_of_numpy_runs(paths_array, npy=True) #all runs for a given phi\n",
    "        for angle in range(len(thetas)):\n",
    "            try:\n",
    "                \n",
    "                experiments[run_index-start_index][angle] = runs_txt[angle]\n",
    "            except:\n",
    "                print(f\"Problem for: {angle}\" )\n",
    "    return experiments"
   ]
  },
  {
   "cell_type": "code",
   "execution_count": 7,
   "metadata": {},
   "outputs": [],
   "source": [
    "#G2_MonteCarlo, G2_MonteCarlo_single_excitation = experiments[exp_num][i][0],  experiments[exp_num][i][1]\n",
    "    #G2_MonteCarlo_same_direction, G2_MonteCarlo_single_excitation_same_direction = experiments[exp_num][i][2], experiments[exp_num][i][3]\n",
    "    #I_MonteCarlo, I_MonteCarlo_single_excitation = experiments[exp_num][i][4], experiments[exp_num][i][5]\n",
    "    #I_MonteCarlo_same_direction, I_MonteCarlo_single_excitation_same_direction = experiments[exp_num][i][6], experiments[exp_num][i][7] \n",
    "    #taulist = experiments[exp_num][i][8]\n",
    "    \n",
    "    \n",
    "def get_G2_MonteCarlo_from_experiment_and_angle(experiments, exp_num, i, double_excitation_dynamics = True):\n",
    "    if double_excitation_dynamics == True:\n",
    "        return experiments[exp_num][i][0]\n",
    "def get_G2_MonteCarlo_single_excitation_from_experiment_and_angle(experiments, exp_num, i, double_excitation_dynamics = True):\n",
    "    if double_excitation_dynamics == True:\n",
    "        return experiments[exp_num][i][1]\n",
    "def get_G2_MonteCarlo_same_direction_from_experiment_and_angle(experiments, exp_num, i, double_excitation_dynamics = True):\n",
    "    if double_excitation_dynamics == True:\n",
    "        return experiments[exp_num][i][2]\n",
    "def get_G2_MonteCarlo_single_excitation_same_direction_from_experiment_and_angle(experiments, exp_num, i, double_excitation_dynamics = True):\n",
    "    if double_excitation_dynamics == True:\n",
    "        return experiments[exp_num][i][3]\n",
    "\n",
    "    \n",
    "def get_I_MonteCarlo_from_experiment_and_angle(experiments, exp_num, i, double_excitation_dynamics = True):\n",
    "    if double_excitation_dynamics == True:\n",
    "        return experiments[exp_num][i][0+4]\n",
    "def get_I_MonteCarlo_single_excitation_from_experiment_and_angle(experiments, exp_num, i, double_excitation_dynamics = True):\n",
    "    if double_excitation_dynamics == True:\n",
    "        return experiments[exp_num][i][1+4]\n",
    "def get_I_MonteCarlo_same_direction_from_experiment_and_angle(experiments, exp_num, i, double_excitation_dynamics = True):\n",
    "    if double_excitation_dynamics == True:\n",
    "        return experiments[exp_num][i][2+4]\n",
    "def get_I_MonteCarlo_single_excitation_same_direction_from_experiment_and_angle(experiments, exp_num, i, double_excitation_dynamics = True):\n",
    "    if double_excitation_dynamics == True:\n",
    "        return experiments[exp_num][i][3+4]\n",
    "    \n",
    "def get_taulist_from_experiment_and_angle(experiments, exp_num, i, double_excitation_dynamics = True):\n",
    "    if double_excitation_dynamics == True:\n",
    "        return experiments[exp_num][i][8]\n",
    "\n",
    "def get_g2_from_experiment_and_angle(experiments, exp_num, i, double_excitation_dynamics = True):\n",
    "    if double_excitation_dynamics == True:\n",
    "        return get_G2_MonteCarlo_from_experiment_and_angle(experiments, exp_num, i, double_excitation_dynamics = True)/get_I_MonteCarlo_from_experiment_and_angle(experiments, exp_num, i, double_excitation_dynamics = True)\n",
    "\n",
    "    \n",
    "def get_cs_from_experiment_and_angle(experiments, exp_num, i, double_excitation_dynamics = True):\n",
    "    if double_excitation_dynamics == True:\n",
    "        g12 = get_g2_from_experiment_and_angle(experiments, exp_num, i, double_excitation_dynamics = True)\n",
    "        g11 = get_G2_MonteCarlo_same_direction_from_experiment_and_angle(experiments, exp_num, i, double_excitation_dynamics = True)/get_I_MonteCarlo_same_direction_from_experiment_and_angle(experiments, exp_num, i, double_excitation_dynamics = True)\n",
    "    return g12*g12/(g11*g11)"
   ]
  },
  {
   "cell_type": "code",
   "execution_count": 10,
   "metadata": {},
   "outputs": [
    {
     "data": {
      "text/plain": [
       "array([  4.,   8.,  12.,  16.,  20.,  24.,  28.,  32.,  36.,  40.,  44.,\n",
       "        48.,  52.,  56.,  60.,  64.,  68.,  73.,  77.,  81.,  85.,  89.,\n",
       "        93.,  97., 101., 105., 109., 113., 117., 121., 125., 129., 133.,\n",
       "       137., 141., 146., 150., 154., 158., 162., 166., 170., 174., 178.,\n",
       "       182., 186., 190., 194., 198., 202., 206., 210., 214., 219., 223.,\n",
       "       227., 231., 235., 239., 243., 247., 251., 255., 259., 263., 267.,\n",
       "       271., 275., 279., 283., 287., 292., 296., 300., 304., 308., 312.,\n",
       "       316., 320., 324., 328., 332., 336., 340., 344., 348., 352.],\n",
       "      dtype=float32)"
      ]
     },
     "execution_count": 10,
     "metadata": {},
     "output_type": "execute_result"
    }
   ],
   "source": [
    "thetas = np.float32(np.int32(np.linspace(0,361, 90)))[1:-2]\n",
    "thetas"
   ]
  },
  {
   "cell_type": "code",
   "execution_count": 48,
   "metadata": {},
   "outputs": [],
   "source": [
    "def get_averaged_in_theta_g2(experiments, G2 = get_G2_MonteCarlo_from_experiment_and_angle, I = get_I_MonteCarlo_from_experiment_and_angle ):\n",
    "    thetas = np.float32(np.int32(np.linspace(0,360, 90)))\n",
    "    thetas = np.float32(np.int32(np.linspace(0,361, 90)))[1:-2]\n",
    "        \n",
    "    g2_theta_avg_all_configurations = []\n",
    "    for run_index in range(len(experiments)):\n",
    "        G2_theta_avg = np.average([G2(experiments, run_index, angle) for angle in range(len(thetas))], axis = 0)\n",
    "        I_theta_avg = np.average(np.array([I(experiments, run_index, angle) for angle in range(len(thetas))]))\n",
    "\n",
    "        g2_theta_avg  = G2_theta_avg/I_theta_avg\n",
    "        g2_theta_avg_all_configurations.append(g2_theta_avg)\n",
    "\n",
    "    \n",
    "    taulist = get_taulist_from_experiment_and_angle(experiments, 0, 0)\n",
    "    return taulist, g2_theta_avg_all_configurations\n",
    "\n"
   ]
  },
  {
   "cell_type": "code",
   "execution_count": 52,
   "metadata": {},
   "outputs": [],
   "source": [
    "def get_averaged_in_theta_cs(experiments, single_excitation = False):\n",
    "    thetas = np.float32(np.int32(np.linspace(0,360, 90)))\n",
    "    thetas = np.float32(np.int32(np.linspace(0,361, 90)))[1:-2]\n",
    "        \n",
    "    cs_theta_avg_all_configurations = []\n",
    "    \n",
    "    if single_excitation == False:\n",
    "        taulist, g12_theta_avg_all_configurations = get_averaged_in_theta_g2(experiments)\n",
    "        taulist, g11_theta_avg_all_configurations = get_averaged_in_theta_g2(experiments,\n",
    "                                                                             G2 = get_G2_MonteCarlo_same_direction_from_experiment_and_angle,\n",
    "                                                                             I = get_I_MonteCarlo_same_direction_from_experiment_and_angle )\n",
    "    else:\n",
    "        print (\"Not implemented\")\n",
    "    \n",
    "    \n",
    "    taulist = get_taulist_from_experiment_and_angle(experiments, 0, 0)\n",
    "    \n",
    "    for i in range(len(g12_theta_avg_all_configurations)):\n",
    "        cs = g12_theta_avg_all_configurations[i]**2/g11_theta_avg_all_configurations[i]**2\n",
    "        cs_theta_avg_all_configurations.append(cs)\n",
    "        \n",
    "        \n",
    "    return taulist, cs_theta_avg_all_configurations\n",
    "\n"
   ]
  },
  {
   "cell_type": "markdown",
   "metadata": {},
   "source": [
    "Uploading simulated results"
   ]
  },
  {
   "cell_type": "code",
   "execution_count": 8,
   "metadata": {
    "code_folding": []
   },
   "outputs": [
    {
     "name": "stdout",
     "output_type": "stream",
     "text": [
      "../results/N517_Omega6.0_Delta20.0_b0_15.00_V_Int_On_MC_npy_avg_direct/N517_Omega6.0_Delta20.0_theta100.0_run0.npy\n",
      "../results/N517_Omega6.0_Delta20.0_b0_15.00_V_Int_On_MC_npy_avg_direct/N517_Omega6.0_Delta20.0_theta100.0_run1.npy\n"
     ]
    }
   ],
   "source": [
    "Omega = 6.0\n",
    "Delta = 20.0\n",
    "b0 = 15\n",
    "N = 517\n",
    "description = \"full_sh_implementation_avg\" #testing_steady_state_foda_avg\n",
    "#experiments[realização i][angulo j]\n",
    "#experiments = get_experiments_data(N = N, Omega = Omega, Delta = Delta, b0 = f\"{b0:.2f}\", description = description, start_index=3, end_index=11)\n",
    "\n",
    "\n",
    "#N = 6\n",
    "description = \"MC_npy_avg\"\n",
    "experiments = get_experiments_data(N = N, Omega = Omega, Delta = Delta, b0 = f\"{b0:.2f}\", description = description, start_index=0, end_index=2)\n"
   ]
  },
  {
   "cell_type": "markdown",
   "metadata": {},
   "source": [
    "Showing  average $g^{(2)}(\\tau)$ for $\\theta = 0$ and for $ 0 < \\theta < 360$ ($\\theta$ averaging) for each configuration."
   ]
  },
  {
   "cell_type": "code",
   "execution_count": 50,
   "metadata": {},
   "outputs": [
    {
     "data": {
      "image/png": "[encoded data removed]",
      "text/plain": [
       "<Figure size 576x360 with 2 Axes>"
      ]
     },
     "metadata": {
      "needs_background": "light"
     },
     "output_type": "display_data"
    }
   ],
   "source": [
    "fig = plt.figure(figsize = (8,5))\n",
    "plt.subplot(1,2,1)\n",
    "plt.suptitle(f\" $ N = {N}, \\Omega = {Omega}, \\Delta = {Delta}, b_0 = {b0} , \\phi_1 = 25^o, \\phi_2 = 25^o+180^o $ \", size = \"large\")\n",
    "\n",
    "taulist, g2_theta_avg_all_configurations = get_averaged_in_theta_g2(experiments)\n",
    "\n",
    "for run_num in range(0, len(experiments)):\n",
    "    configuration = run_num\n",
    "    g2_double_excitation_for_given_angle_and_configuration = np.abs(get_g2_from_experiment_and_angle(experiments, run_num, 0, double_excitation_dynamics = True)) \n",
    "    plt.plot(taulist*26, g2_double_excitation_for_given_angle_and_configuration, label = f\"Configuration {run_num}\")\n",
    "    \n",
    "\n",
    "plt.legend()\n",
    "plt.title(r\"$\\theta = 0$, No average\")\n",
    "plt.ylabel(r\"$g^{(2)}(\\tau)$\")\n",
    "plt.xlabel(r\"$\\tau$\")\n",
    "\n",
    "plt.subplot(1,2,2)\n",
    "\n",
    "  \n",
    "for run_num in range(0, len(experiments)):\n",
    "    configuration = run_num\n",
    "    g2_theta_avg_for_given_configuration = g2_theta_avg_all_configurations[configuration]\n",
    "    plt.plot(taulist*26, np.abs(g2_theta_avg_for_given_configuration), label = f\"Configuration {run_num}\")\n",
    "\n",
    "in_plane_average = np.average([np.abs(get_g2_from_experiment_and_angle(experiments, run_num, 0, double_excitation_dynamics = True)) \n",
    "                                 for run_num in range(len(experiments))],axis = 0)\n",
    "\n",
    "#plt.plot(taulist*26, in_plane_average, \"-o\")\n",
    " \n",
    "#plt.ylim(0,3)\n",
    "#plt.xlim(0,30)\n",
    "\n",
    "relative_error_between_avg_of_theta_zero_and_theta_avg = relative_error(in_plane_average, g2_theta_avg_for_given_configuration) \n",
    "\n",
    "title = r\"$\\theta$ averaging.\" +  \"\\n\" + r\"Error with average of $\\theta=0$:\" + str(np.round(relative_error_between_avg_of_theta_zero_and_theta_avg, 3)) \n",
    "\n",
    "\n",
    "plt.title(title)\n",
    "plt.tight_layout()\n",
    "\n",
    "plt.savefig(f\"showing_theta_averages_works_N{N}.png\", dpi = 400)"
   ]
  },
  {
   "cell_type": "code",
   "execution_count": 56,
   "metadata": {},
   "outputs": [
    {
     "data": {
      "image/png": "[encoded data removed]",
      "text/plain": [
       "<Figure size 576x360 with 2 Axes>"
      ]
     },
     "metadata": {
      "needs_background": "light"
     },
     "output_type": "display_data"
    }
   ],
   "source": [
    "fig = plt.figure(figsize = (8,5))\n",
    "\n",
    "plt.subplot(1,2,1)\n",
    "plt.suptitle(f\" $ N = {N}, \\Omega = {Omega}, \\Delta = {Delta}, b_0 = {b0} , \\phi_1 = 25^o, \\phi_2 = 25^o+180^o $ \", size = \"large\")\n",
    "\n",
    "taulist, cs_theta_avg_all_configurations = get_averaged_in_theta_cs(experiments, single_excitation = False)\n",
    "\n",
    "for run_num in range(0, len(experiments)):\n",
    "    configuration = run_num\n",
    "    cs_double_excitation_for_given_angle_and_configuration = np.abs(get_cs_from_experiment_and_angle(experiments, run_num, 0, double_excitation_dynamics = True)) \n",
    "    plt.plot(taulist*26, cs_double_excitation_for_given_angle_and_configuration, label = f\"Configuration {run_num}\")\n",
    "    \n",
    "\n",
    "plt.legend()\n",
    "plt.title(r\"$\\theta = 0$, No average\")\n",
    "plt.ylabel(r\"$g^{(2)}(\\tau)$\")\n",
    "plt.xlabel(r\"$\\tau$\")\n",
    "\n",
    "plt.subplot(1,2,2)\n",
    "\n",
    "  \n",
    "for run_num in range(0, len(experiments)):\n",
    "    configuration = run_num\n",
    "    cs_double_excitation_for_given_angle_and_configuration = cs_theta_avg_all_configurations[configuration]\n",
    "    plt.plot(taulist*26, np.abs(cs_double_excitation_for_given_angle_and_configuration), label = f\"Configuration {run_num}\")\n",
    "\n",
    "in_plane_average = np.average([np.abs(get_cs_from_experiment_and_angle(experiments, run_num, 0, double_excitation_dynamics = True)) \n",
    "                                 for run_num in range(len(experiments))],axis = 0)\n",
    "\n",
    "plt.plot(taulist*26, in_plane_average, \"--\")\n",
    " \n",
    "\n",
    "\n",
    "relative_error_between_avg_of_theta_zero_and_theta_avg = relative_error(in_plane_average, cs_double_excitation_for_given_angle_and_configuration) \n",
    "\n",
    "title = r\"$\\theta$ averaging.\" +  \"\\n\" + r\"Error with average of $\\theta=0$:\" + str(np.round(relative_error_between_avg_of_theta_zero_and_theta_avg, 3)) \n",
    "plt.title(title)\n",
    "\n",
    "plt.tight_layout()\n",
    "\n",
    "plt.savefig(f\"showing_theta_averages_works_N{N}.png\", dpi = 400)"
   ]
  },
  {
   "cell_type": "code",
   "execution_count": 64,
   "metadata": {},
   "outputs": [
    {
     "data": {
      "text/plain": [
       "[(0.16991131283311783+0j),\n",
       " (95.76521823874731+6.54307337477622e-14j),\n",
       " (652.1963735498559+9.0068924540887e-13j),\n",
       " (1544.7524271577993-7.867706486308634e-12j),\n",
       " (2067.4228057985315-6.643699479447207e-12j),\n",
       " (1769.106771885813+6.412655129128808e-12j),\n",
       " (1009.1957950015458+1.450659037338653e-12j),\n",
       " (613.0666716814627-4.420352972545061e-13j),\n",
       " (1035.3723326009815+8.693046282814976e-14j),\n",
       " (1896.1897303535634+9.02244945422126e-12j),\n",
       " (2349.8681348853606-1.1400880239875733e-11j),\n",
       " (1906.10078139348-3.272215831628955e-12j),\n",
       " (908.561687982784+8.977540932875172e-13j),\n",
       " (238.95536840837352+8.483075353282743e-13j),\n",
       " (527.5630609070852-7.263634138610087e-13j),\n",
       " (1599.051427826399+1.0370038161511275e-12j),\n",
       " (2631.810164072843-1.3212320126854138e-11j),\n",
       " (2855.0385686740406+4.8386294970725885e-12j),\n",
       " (2158.5432348717363+1.2158385409577477e-11j),\n",
       " (1114.057149147822+1.5248358131714213e-12j),\n",
       " (450.0249474137887-1.8639950694065988e-12j),\n",
       " (475.5405007370262-9.800146805183374e-14j),\n",
       " (928.7266334405883-6.990658052430376e-13j),\n",
       " (1312.3893979033658-2.5840024564516284e-12j),\n",
       " (1351.6524578460185+4.603366299260614e-12j),\n",
       " (1163.6850926267985+2.0088999908018934e-12j),\n",
       " (1040.5970757515377+5.7414073495465345e-12j),\n",
       " (1111.6690678350278-4.072853165837387e-13j),\n",
       " (1223.2080510050105+1.822986206434507e-13j),\n",
       " (1126.808725639071-3.3571478930127796e-12j),\n",
       " (771.756082189685-4.1772141301521515e-13j),\n",
       " (403.1394874923896+2.5719565366344455e-12j),\n",
       " (364.15780721670194-3.2787661474742436e-13j),\n",
       " (787.4494135304515+3.351208199831035e-13j),\n",
       " (1459.0098900082155-4.4692027856285677e-13j),\n",
       " (1968.7899205343342+4.476669035469172e-12j),\n",
       " (2021.8942184357372-8.189650346768218e-12j),\n",
       " (1643.446468056526+1.297184581972033e-12j),\n",
       " (1118.0182708122154+2.2682966616116573e-12j),\n",
       " (748.6810288413596-7.732148255001903e-13j),\n",
       " (649.9280850550131+3.089417610624423e-12j),\n",
       " (722.6463571986244-1.3072321003448906e-12j),\n",
       " (808.3340439337048+2.2580270986338746e-12j),\n",
       " (841.3859980260316-1.86284321301855e-12j),\n",
       " (874.5373139580695+3.771843948285891e-13j),\n",
       " (978.0312181789491-1.870031907102998e-12j),\n",
       " (1128.3531784667216+1.121713832930027e-12j),\n",
       " (1212.7863018976034-6.3245207682083304e-12j),\n",
       " (1131.0966268467237-6.761903537100267e-12j),\n",
       " (907.4537944747291-3.0839220066525286e-13j),\n",
       " (688.0805132108974-1.2253253967031696e-12j),\n",
       " (632.6144883210835+1.9183821198254236e-12j),\n",
       " (788.0962819417058-1.950883898871325e-12j),\n",
       " (1053.0668805241385+6.137867991640178e-13j),\n",
       " (1261.6327653617907+3.016420446755319e-12j),\n",
       " (1303.7490254257448+1.7549642294945045e-12j),\n",
       " (1193.2578691707508-6.162709231816166e-13j),\n",
       " (1024.363585620777+1.6474668851351737e-14j),\n",
       " (889.7971514315167+6.88116230662672e-13j),\n",
       " (813.4795605774341+9.730480310388145e-13j),\n",
       " (770.1595823960448+4.54081217071689e-13j),\n",
       " (737.2209759169441-4.189842917057263e-12j),\n",
       " (735.9167206273289-1.471295307808873e-12j),\n",
       " (806.7532395380457+5.4789506265251475e-14j),\n",
       " (958.7187389468193+3.31060179270537e-12j),\n",
       " (1136.7111566485762-5.977163208825687e-14j),\n",
       " (1248.5337612321296-3.993194663820532e-13j),\n",
       " (1230.0951030494066+1.375562858063617e-12j),\n",
       " (1091.0150207945305+4.4685505296016e-12j),\n",
       " (909.6738537637158-6.381194184168493e-12j),\n",
       " (774.0086359252319-8.951346608387922e-13j),\n",
       " (730.5517179511922-7.106239208187759e-12j),\n",
       " (764.7364697741029+5.521277879338982e-13j),\n",
       " (835.6400418549166+5.654754442474541e-12j),\n",
       " (910.3613320086426-8.92758089676704e-13j),\n",
       " (980.3165665548+7.638056853664921e-13j),\n",
       " (1045.4499016702384+2.7662871993072713e-12j),\n",
       " (1091.052648486699-1.5134560271690134e-12j),\n",
       " (1089.8163407558782-3.560485239972877e-13j),\n",
       " (1021.9783847770794-2.348510275140825e-12j),\n",
       " (903.6734687326327-1.789100118054776e-12j),\n",
       " (787.6804422721577-2.422922973366326e-13j),\n",
       " (730.8030351786222+3.67155611469272e-12j),\n",
       " (761.5347528709328-1.6973679406451225e-12j),\n",
       " (860.4011798311005+7.724237915951448e-13j),\n",
       " (976.3272418505292-6.239175842637223e-13j),\n",
       " (1061.7701090433582-3.051059405123624e-12j),\n",
       " (1093.3418262429668+4.736044889597224e-12j),\n",
       " (1076.7825734292676-3.653466418285234e-12j),\n",
       " (1026.4345774413234+2.4633350914626817e-12j),\n",
       " (954.3564035756331+9.64167634620594e-12j),\n",
       " (871.382657838487-2.108480057216866e-12j),\n",
       " (793.6637181870366-2.9912669563536554e-12j),\n",
       " (747.4318346497013-4.2627013030482885e-12j),\n",
       " (758.8259667520626+1.068520272262674e-12j),\n",
       " (832.9801557296369-5.437837680144497e-13j),\n",
       " (944.7143882411948+3.5228903128015077e-12j),\n",
       " (1050.841108484846-1.1720069359455465e-12j),\n",
       " (1108.4677572285154+3.330502540421776e-12j),\n",
       " (1099.556878630899+2.464584092365385e-12j),\n",
       " (1037.6655916989214+1.5487611193520934e-12j),\n",
       " (949.2342592665934+2.3815116545478077e-12j),\n",
       " (863.2384003232282+1.4355183708403274e-13j),\n",
       " (799.1538010305738-1.2821826933517855e-12j),\n",
       " (767.2570875369883-6.260811313829606e-12j),\n",
       " (775.5825133480204+2.9145297286703453e-12j),\n",
       " (827.6287701422818-3.322703223673784e-12j),\n",
       " (914.6938945442081+3.204984888593998e-12j),\n",
       " (1012.2789010225176-4.360192762398185e-12j),\n",
       " (1086.6211803646936+2.805811138983927e-12j),\n",
       " (1107.487121425457-1.5579759704564822e-12j),\n",
       " (1065.2650230053398-5.0067727741520685e-12j),\n",
       " (977.791311122163+8.001377338473503e-13j),\n",
       " (876.5900990686961-7.109868249699502e-13j),\n",
       " (794.9353963358097-3.230193890146893e-13j),\n",
       " (753.8988853408674+1.1303250002647758e-12j),\n",
       " (758.8470356759999+1.4300782780196641e-12j),\n",
       " (804.6847295557184-3.9213909897029e-12j),\n",
       " (880.7719545676539-1.952910055891266e-12j),\n",
       " (970.8349453536705+4.667974340399894e-12j),\n",
       " (1052.514203293093-1.7463530621597556e-12j),\n",
       " (1100.8546250116794+2.2672419497382634e-12j),\n",
       " (1097.9728982435468+1.0045853038320729e-11j),\n",
       " (1042.1358915027645+1.1179390746463014e-12j),\n",
       " (950.1572376162054-4.872824366231043e-12j),\n",
       " (854.4219853441064-3.1358526886293703e-12j),\n",
       " (784.077071970209+5.869214836362602e-12j),\n",
       " (756.7940513034129+3.5869085479589558e-12j),\n",
       " (774.6305576129384-8.305023335708484e-13j),\n",
       " (826.5723734546729-5.2064741407065185e-12j),\n",
       " (897.0034382101762+4.2299497238218464e-14j),\n",
       " (969.844950133022+1.015269465720614e-12j),\n",
       " (1028.7779229575524+3.001404680347264e-12j),\n",
       " (1058.5163934158008+4.853339952148872e-12j),\n",
       " (1048.9039196202366-3.1386004906153175e-13j),\n",
       " (1000.7109890871084-3.938571691008974e-12j),\n",
       " (928.7690322729597-3.6137759451548845e-12j),\n",
       " (855.6930680205913+3.443967333538467e-12j),\n",
       " (805.9475063522524-5.1388615585068464e-12j),\n",
       " (793.1225623874749-1.0571821196236897e-12j),\n",
       " (816.3212851677522+7.816525204873415e-13j),\n",
       " (864.6165574662425-4.210437554164059e-12j),\n",
       " (922.8038149134725-5.4218018963325676e-12j),\n",
       " (976.2919979445924+5.385802914759097e-12j),\n",
       " (1013.0503934806289+8.02330424320985e-13j),\n",
       " (1024.3467272541645+8.123002270821189e-12j),\n",
       " (1005.1426314529548+5.267453140334055e-13j),\n",
       " (957.8012119890095-1.232403068485155e-12j),\n",
       " (894.0526809678986+1.0617340340246528e-12j),\n",
       " (834.1592421467079+2.6565277755352668e-12j),\n",
       " (797.7197100773151-1.5120162066839526e-12j),\n",
       " (796.6538740887337+1.810718242012399e-12j),\n",
       " (830.3608387948051-2.6978419498391304e-12j),\n",
       " (887.2835775476199-1.7864737467121472e-12j),\n",
       " (949.9771944416135+4.728804153808497e-12j),\n",
       " (1002.4015926304836-3.8682945735502017e-13j),\n",
       " (1033.341839986609+1.3142542609756447e-12j),\n",
       " (1035.1919480903205+6.4880878447581836e-12j),\n",
       " (1006.6064492893393-2.8029800702711327e-12j),\n",
       " (952.2179640223394+3.079481114554028e-12j),\n",
       " (884.6830312866095+2.3725466036239595e-13j),\n",
       " (822.6489176597104+1.0430475927414307e-12j),\n",
       " (784.8062806795867-3.4256139591626322e-12j),\n",
       " (783.1917250178507+2.404521026733164e-12j),\n",
       " (817.9166648878095-9.740819262304967e-14j),\n",
       " (876.4342253874009-1.8122031653078352e-12j),\n",
       " (941.521085495732+2.5844326678736707e-12j),\n",
       " (996.0827981695422+4.8864245982827015e-12j),\n",
       " (1027.7816588480143-1.6189827256596345e-12j),\n",
       " (1031.31588021107+4.992062319075785e-12j),\n",
       " (1006.8757082081917+1.6612267117466217e-12j),\n",
       " (959.946831111082+3.8566372317916375e-13j),\n",
       " (901.7378666797923-1.0743905765053796e-12j),\n",
       " (847.1113949735924+2.536608076364466e-12j),\n",
       " (811.8401817017473-3.705744044957271e-12j),\n",
       " (805.5950608439426+8.230777170936676e-13j),\n",
       " (828.3468223067798-1.922018100231071e-12j),\n",
       " (870.772240507633-6.257436842987962e-12j),\n",
       " (918.4802164963778+3.5026148648142907e-13j),\n",
       " (957.7492268101232-5.2664539396118926e-12j),\n",
       " (980.0468290818562-6.991851542181848e-12j),\n",
       " (983.8105829573951+1.4517276269998547e-12j),\n",
       " (970.3524792327602-3.011479954295737e-13j),\n",
       " (944.4013829917204-3.839928375271029e-12j),\n",
       " (912.2200624014869-2.205041704783639e-12j),\n",
       " (881.7285514494471+3.1400160249717146e-12j),\n",
       " (861.1106804388561+4.399605679772378e-12j),\n",
       " (855.6346534719604+2.5471014186706498e-12j),\n",
       " (865.3606873348829+3.716638108386405e-12j),\n",
       " (885.1000954210659+2.5299033701298157e-12j),\n",
       " (906.001588183852-2.534958354338812e-12j),\n",
       " (921.3324618931811+9.151568391985165e-13j),\n",
       " (928.9785210725862-6.093736626411328e-13j),\n",
       " (930.470971890286-9.59482493456676e-13j),\n",
       " (928.4831903142865-1.191713394632643e-12j),\n",
       " (924.9499421370489-8.268385975895853e-14j),\n",
       " (920.2501922427399+3.5928482411407003e-12j),\n",
       " (913.8481698261737+5.208204961054674e-12j),\n",
       " (906.5353083782834+7.211647945482014e-12j),\n",
       " (900.181547143078-3.3633512641628727e-12j)]"
      ]
     },
     "execution_count": 64,
     "metadata": {},
     "output_type": "execute_result"
    }
   ],
   "source": [
    "get_G2_MonteCarlo_from_experiment_and_angle(experiments, 0, 0, double_excitation_dynamics = True)"
   ]
  },
  {
   "cell_type": "code",
   "execution_count": 62,
   "metadata": {},
   "outputs": [
    {
     "data": {
      "text/plain": [
       "(628599.1114549018-3.0203837833787323e-09j)"
      ]
     },
     "execution_count": 62,
     "metadata": {},
     "output_type": "execute_result"
    }
   ],
   "source": [
    "get_I_MonteCarlo_same_direction_from_experiment_and_angle(experiments, 0, 0, double_excitation_dynamics = True)**2"
   ]
  },
  {
   "cell_type": "code",
   "execution_count": 65,
   "metadata": {},
   "outputs": [
    {
     "data": {
      "text/plain": [
       "(799527.1920045626-6.10128302849152e-09j)"
      ]
     },
     "execution_count": 65,
     "metadata": {},
     "output_type": "execute_result"
    }
   ],
   "source": [
    "get_I_MonteCarlo_from_experiment_and_angle(experiments, 0, 0, double_excitation_dynamics = True)**2"
   ]
  },
  {
   "cell_type": "code",
   "execution_count": null,
   "metadata": {},
   "outputs": [],
   "source": []
  }
 ],
 "metadata": {
  "kernelspec": {
   "display_name": "Python 3",
   "language": "python",
   "name": "python3"
  },
  "language_info": {
   "codemirror_mode": {
    "name": "ipython",
    "version": 3
   },
   "file_extension": ".py",
   "mimetype": "text/x-python",
   "name": "python",
   "nbconvert_exporter": "python",
   "pygments_lexer": "ipython3",
   "version": "3.7.7"
  },
  "latex_envs": {
   "LaTeX_envs_menu_present": true,
   "autoclose": false,
   "autocomplete": true,
   "bibliofile": "biblio.bib",
   "cite_by": "apalike",
   "current_citInitial": 1,
   "eqLabelWithNumbers": true,
   "eqNumInitial": 1,
   "hotkeys": {
    "equation": "Ctrl-E",
    "itemize": "Ctrl-I"
   },
   "labels_anchors": false,
   "latex_user_defs": false,
   "report_style_numbering": false,
   "user_envs_cfg": false
  },
  "varInspector": {
   "cols": {
    "lenName": 16,
    "lenType": 16,
    "lenVar": 40
   },
   "kernels_config": {
    "python": {
     "delete_cmd_postfix": "",
     "delete_cmd_prefix": "del ",
     "library": "var_list.py",
     "varRefreshCmd": "print(var_dic_list())"
    },
    "r": {
     "delete_cmd_postfix": ") ",
     "delete_cmd_prefix": "rm(",
     "library": "var_list.r",
     "varRefreshCmd": "cat(var_dic_list()) "
    }
   },
   "types_to_exclude": [
    "module",
    "function",
    "builtin_function_or_method",
    "instance",
    "_Feature"
   ],
   "window_display": false
  }
 },
 "nbformat": 4,
 "nbformat_minor": 4
}
