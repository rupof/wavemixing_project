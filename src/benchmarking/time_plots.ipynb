{
 "cells": [
  {
   "cell_type": "code",
   "execution_count": 1,
   "metadata": {},
   "outputs": [
    {
     "name": "stdout",
     "output_type": "stream",
     "text": [
      "/home/roberto/Documents/Carrera/romain_ic/wavemixing_project/src\n"
     ]
    }
   ],
   "source": [
    "cd /home/roberto/Documents/Carrera/romain_ic/wavemixing_project/src"
   ]
  },
  {
   "cell_type": "code",
   "execution_count": 2,
   "metadata": {},
   "outputs": [],
   "source": [
    "import numpy as np\n",
    "import matplotlib.pyplot as plt\n",
    "plt.style.use('tableau-colorblind10')"
   ]
  },
  {
   "cell_type": "code",
   "execution_count": 3,
   "metadata": {},
   "outputs": [],
   "source": [
    "#N_subpace, time_subspace = np.loadtxt('subspace_time.csv', delimiter=',')\n",
    "N_subspace_opt, time_subspace_opt = np.loadtxt('subspace_opt_time_again_1.csv', delimiter=',')\n",
    "N_pyjulia, time_pyjulia = np.loadtxt('jl_ODE_time_again_1.csv', delimiter=',')\n",
    "\n",
    "#N_subspace_opt_2, time_subspace_opt_2 = np.loadtxt('subspace_opt_time_2.csv', delimiter=',')\n",
    "#N_pyjulia_2, time_pyjulia_2 = np.loadtxt('jl_ODE_time_2.csv', delimiter=',')"
   ]
  },
  {
   "cell_type": "code",
   "execution_count": 4,
   "metadata": {},
   "outputs": [],
   "source": [
    "#N_subspace_opt, time_subspace_opt = np.loadtxt('subspace_opt_time_2.csv', delimiter=',')\n",
    "#N_pyjulia, time_pyjulia = np.loadtxt('jl_ODE_time_2.csv', delimiter=',')\n",
    "\n",
    "#N_purejulia, time_purejulia = np.loadtxt('pure_julia_time.csv', delimiter=',')\n",
    "N_purejulia2, time_purejulia2 = np.loadtxt('pure_julia_time_2_correct.csv', delimiter=',')"
   ]
  },
  {
   "cell_type": "code",
   "execution_count": 8,
   "metadata": {},
   "outputs": [
    {
     "data": {
      "image/png": "[encoded data removed]",
      "text/plain": [
       "<Figure size 432x288 with 1 Axes>"
      ]
     },
     "metadata": {
      "needs_background": "light"
     },
     "output_type": "display_data"
    }
   ],
   "source": [
    "unit = 60\n",
    "#plt.plot(N_subpace, time_subspace/unit, label = \"Python\")\n",
    "plt.plot(N_subspace_opt, np.average([time_subspace_opt/unit], axis = 0), \"-o\", label = \"Numpy Optimized\")\n",
    "plt.plot(N_pyjulia, np.average([time_pyjulia/unit], axis = 0), \"-o\", label = \"PyJulia\")\n",
    "plt.plot(N_purejulia2, np.average([time_purejulia2/unit], axis = 0), \"-o\",  label = \"Pure Julia\")\n",
    "\n",
    "\n",
    "#plt.xlim(0,100)\n",
    "plt.yscale(\"log\")\n",
    "#plt.xscale(\"log\")\n",
    "plt.ylabel(\"Time (min)\")\n",
    "plt.xlabel(\"N\")\n",
    "plt.title(r\"Time to obtain $\\beta_i(t)$ and $\\beta_{ij}(t)$ ($dt = 0.05$, and $t_f = 50$)   \")\n",
    "\n",
    "plt.legend()\n",
    "\n",
    "plt.savefig(\"benchmark_betas_and_times_log_2.png\", dpi = 300)\n",
    "\n"
   ]
  },
  {
   "cell_type": "code",
   "execution_count": 10,
   "metadata": {},
   "outputs": [
    {
     "ename": "NameError",
     "evalue": "name 'N_subpace' is not defined",
     "output_type": "error",
     "traceback": [
      "\u001b[0;31m---------------------------------------------------------------------------\u001b[0m",
      "\u001b[0;31mNameError\u001b[0m                                 Traceback (most recent call last)",
      "\u001b[0;32m<ipython-input-10-ba6c0061b5d1>\u001b[0m in \u001b[0;36m<module>\u001b[0;34m\u001b[0m\n\u001b[1;32m      1\u001b[0m \u001b[0munit\u001b[0m \u001b[0;34m=\u001b[0m \u001b[0;36m60\u001b[0m\u001b[0;34m\u001b[0m\u001b[0;34m\u001b[0m\u001b[0m\n\u001b[0;32m----> 2\u001b[0;31m \u001b[0mplt\u001b[0m\u001b[0;34m.\u001b[0m\u001b[0mplot\u001b[0m\u001b[0;34m(\u001b[0m\u001b[0mN_subpace\u001b[0m\u001b[0;34m,\u001b[0m \u001b[0mtime_subspace\u001b[0m\u001b[0;34m/\u001b[0m\u001b[0munit\u001b[0m\u001b[0;34m,\u001b[0m \u001b[0mlabel\u001b[0m \u001b[0;34m=\u001b[0m \u001b[0;34m\"Python\"\u001b[0m\u001b[0;34m)\u001b[0m\u001b[0;34m\u001b[0m\u001b[0;34m\u001b[0m\u001b[0m\n\u001b[0m\u001b[1;32m      3\u001b[0m \u001b[0mplt\u001b[0m\u001b[0;34m.\u001b[0m\u001b[0mplot\u001b[0m\u001b[0;34m(\u001b[0m\u001b[0mN_subspace_opt\u001b[0m\u001b[0;34m,\u001b[0m \u001b[0mnp\u001b[0m\u001b[0;34m.\u001b[0m\u001b[0maverage\u001b[0m\u001b[0;34m(\u001b[0m\u001b[0;34m[\u001b[0m\u001b[0mtime_subspace_opt\u001b[0m\u001b[0;34m/\u001b[0m\u001b[0munit\u001b[0m\u001b[0;34m,\u001b[0m \u001b[0mtime_subspace_opt_2\u001b[0m\u001b[0;34m/\u001b[0m\u001b[0munit\u001b[0m\u001b[0;34m]\u001b[0m\u001b[0;34m,\u001b[0m \u001b[0maxis\u001b[0m \u001b[0;34m=\u001b[0m \u001b[0;36m0\u001b[0m\u001b[0;34m)\u001b[0m\u001b[0;34m,\u001b[0m \u001b[0mlabel\u001b[0m \u001b[0;34m=\u001b[0m \u001b[0;34m\"Python Numpy Optimized\"\u001b[0m\u001b[0;34m)\u001b[0m\u001b[0;34m\u001b[0m\u001b[0;34m\u001b[0m\u001b[0m\n\u001b[1;32m      4\u001b[0m \u001b[0mplt\u001b[0m\u001b[0;34m.\u001b[0m\u001b[0mplot\u001b[0m\u001b[0;34m(\u001b[0m\u001b[0mN_pyjulia\u001b[0m\u001b[0;34m,\u001b[0m \u001b[0mnp\u001b[0m\u001b[0;34m.\u001b[0m\u001b[0maverage\u001b[0m\u001b[0;34m(\u001b[0m\u001b[0;34m[\u001b[0m\u001b[0mtime_pyjulia\u001b[0m\u001b[0;34m/\u001b[0m\u001b[0munit\u001b[0m\u001b[0;34m,\u001b[0m \u001b[0mtime_pyjulia_2\u001b[0m\u001b[0;34m/\u001b[0m\u001b[0munit\u001b[0m\u001b[0;34m]\u001b[0m\u001b[0;34m,\u001b[0m \u001b[0maxis\u001b[0m \u001b[0;34m=\u001b[0m \u001b[0;36m0\u001b[0m\u001b[0;34m)\u001b[0m \u001b[0;34m,\u001b[0m \u001b[0mlabel\u001b[0m \u001b[0;34m=\u001b[0m \u001b[0;34m\"PyJulia\"\u001b[0m\u001b[0;34m)\u001b[0m\u001b[0;34m\u001b[0m\u001b[0;34m\u001b[0m\u001b[0m\n\u001b[1;32m      5\u001b[0m \u001b[0mplt\u001b[0m\u001b[0;34m.\u001b[0m\u001b[0mplot\u001b[0m\u001b[0;34m(\u001b[0m\u001b[0mN_purejulia\u001b[0m\u001b[0;34m,\u001b[0m \u001b[0mnp\u001b[0m\u001b[0;34m.\u001b[0m\u001b[0maverage\u001b[0m\u001b[0;34m(\u001b[0m\u001b[0;34m[\u001b[0m\u001b[0mtime_purejulia\u001b[0m\u001b[0;34m/\u001b[0m\u001b[0munit\u001b[0m\u001b[0;34m,\u001b[0m \u001b[0mtime_purejulia2\u001b[0m\u001b[0;34m/\u001b[0m\u001b[0munit\u001b[0m\u001b[0;34m]\u001b[0m\u001b[0;34m,\u001b[0m \u001b[0maxis\u001b[0m \u001b[0;34m=\u001b[0m \u001b[0;36m0\u001b[0m\u001b[0;34m)\u001b[0m\u001b[0;34m,\u001b[0m  \u001b[0mlabel\u001b[0m \u001b[0;34m=\u001b[0m \u001b[0;34m\"Pure Julia\"\u001b[0m\u001b[0;34m)\u001b[0m\u001b[0;34m\u001b[0m\u001b[0;34m\u001b[0m\u001b[0m\n",
      "\u001b[0;31mNameError\u001b[0m: name 'N_subpace' is not defined"
     ]
    }
   ],
   "source": [
    "unit = 60\n",
    "plt.plot(N_subpace, time_subspace/unit, label = \"Python\")\n",
    "plt.plot(N_subspace_opt, np.average([time_subspace_opt/unit, time_subspace_opt_2/unit], axis = 0), label = \"Python Numpy Optimized\")\n",
    "plt.plot(N_pyjulia, np.average([time_pyjulia/unit, time_pyjulia_2/unit], axis = 0) , label = \"PyJulia\")\n",
    "plt.plot(N_purejulia, np.average([time_purejulia/unit, time_purejulia2/unit], axis = 0),  label = \"Pure Julia\")\n",
    "\n",
    "\n",
    "\n",
    "plt.yscale(\"log\")\n",
    "plt.ylabel(\"Time (min)\")\n",
    "plt.xlabel(\"N\")\n",
    "plt.title(r\"Time to obtain $\\beta_i(t)$ and $\\beta_{ij}(t)$ ($dt = 0.05$, and $t_f = 50$)   \")\n",
    "\n",
    "plt.legend()\n",
    "\n",
    "plt.savefig(\"benchmark_betas_and_times_log\", dpi = 300)\n",
    "\n"
   ]
  },
  {
   "cell_type": "code",
   "execution_count": null,
   "metadata": {},
   "outputs": [],
   "source": []
  }
 ],
 "metadata": {
  "kernelspec": {
   "display_name": "Python 3",
   "language": "python",
   "name": "python3"
  },
  "language_info": {
   "codemirror_mode": {
    "name": "ipython",
    "version": 3
   },
   "file_extension": ".py",
   "mimetype": "text/x-python",
   "name": "python",
   "nbconvert_exporter": "python",
   "pygments_lexer": "ipython3",
   "version": "3.7.7"
  },
  "latex_envs": {
   "LaTeX_envs_menu_present": true,
   "autoclose": false,
   "autocomplete": true,
   "bibliofile": "biblio.bib",
   "cite_by": "apalike",
   "current_citInitial": 1,
   "eqLabelWithNumbers": true,
   "eqNumInitial": 1,
   "hotkeys": {
    "equation": "Ctrl-E",
    "itemize": "Ctrl-I"
   },
   "labels_anchors": false,
   "latex_user_defs": false,
   "report_style_numbering": false,
   "user_envs_cfg": false
  },
  "varInspector": {
   "cols": {
    "lenName": 16,
    "lenType": 16,
    "lenVar": 40
   },
   "kernels_config": {
    "python": {
     "delete_cmd_postfix": "",
     "delete_cmd_prefix": "del ",
     "library": "var_list.py",
     "varRefreshCmd": "print(var_dic_list())"
    },
    "r": {
     "delete_cmd_postfix": ") ",
     "delete_cmd_prefix": "rm(",
     "library": "var_list.r",
     "varRefreshCmd": "cat(var_dic_list()) "
    }
   },
   "types_to_exclude": [
    "module",
    "function",
    "builtin_function_or_method",
    "instance",
    "_Feature"
   ],
   "window_display": false
  }
 },
 "nbformat": 4,
 "nbformat_minor": 5
}
